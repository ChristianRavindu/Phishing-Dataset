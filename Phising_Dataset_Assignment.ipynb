{
  "cells": [
    {
      "cell_type": "code",
      "execution_count": 2,
      "metadata": {
        "colab": {
          "base_uri": "https://localhost:8080/"
        },
        "id": "PR3RuGIbV3AQ",
        "outputId": "67f6ed00-080d-4aef-a693-e4ef00f2cf95"
      },
      "outputs": [
        {
          "output_type": "stream",
          "name": "stdout",
          "text": [
            "Mounted at /content/gdrive\n"
          ]
        }
      ],
      "source": [
        "from google.colab import drive\n",
        "drive.mount('/content/gdrive')"
      ]
    },
    {
      "cell_type": "code",
      "execution_count": 3,
      "metadata": {
        "id": "PgtXFy913l3a"
      },
      "outputs": [],
      "source": [
        "import pandas as pd # Data manipulation\n",
        "import numpy as np # Numerical operations\n",
        "import seaborn as sns # Statistical visualization\n",
        "import matplotlib.pyplot as plt # Plotting\n",
        "import warnings\n",
        "warnings.filterwarnings(\"ignore\") # Suppress warnings"
      ]
    },
    {
      "cell_type": "code",
      "execution_count": 47,
      "metadata": {
        "colab": {
          "base_uri": "https://localhost:8080/",
          "height": 1000
        },
        "id": "-qkCRM1lennQ",
        "outputId": "195daf3a-050a-4f64-ec09-cfcee2c2aca1"
      },
      "outputs": [
        {
          "output_type": "execute_result",
          "data": {
            "text/plain": [
              "                                Email ID Timestamp  \\\n",
              "0   bd510c2e-e9ea-432c-a171-6a83b79e65d7   32:22.4   \n",
              "1   73dfe436-8485-49f0-9635-8538046c6295   36:26.4   \n",
              "2   2aad94e0-da9b-437c-be61-49667db5d762   06:52.9   \n",
              "3   b4fca1ca-22af-4f15-bfee-e7d7adf159e3   27:21.0   \n",
              "4   4a3461a1-6535-42ce-991d-13adf28b8e52   34:03.8   \n",
              "5   f4373fcd-1693-42c8-9825-7e64eafb821a   39:57.6   \n",
              "6   a2414298-0df2-4bd6-98f4-b191bdfbf776   56:21.2   \n",
              "7   15855fa2-281d-4170-b1eb-3328ae7ae1a4   58:41.8   \n",
              "8   ca695322-d9f5-48c0-a856-48800c239ba5   39:09.7   \n",
              "9   e3b55d22-3238-4513-986f-0b0b077c417b   06:08.4   \n",
              "10  eb43826e-faa8-4ae8-b045-dd00c9727fc8   55:33.8   \n",
              "\n",
              "                     Sender Email           Recipient Email  \\\n",
              "0           otyler@protonmail.com  sarahkemp@protonmail.com   \n",
              "1            nicole77@outlook.com          pkelly@yahoo.com   \n",
              "2          daniellesoto@gmail.com   mferrell@protonmail.com   \n",
              "3            mathissean@yahoo.com     patrickgarcia@aol.com   \n",
              "4            morrishannah@aol.com        vchavez@icloud.com   \n",
              "5           julieweaver@yahoo.com         jocelyn17@aol.com   \n",
              "6            jennifer56@yahoo.com  clarkstephanie@yahoo.com   \n",
              "7   vasqueznatalie@protonmail.com       susan01@outlook.com   \n",
              "8                             NaN       elizabeth55@aol.com   \n",
              "9            brookemurray@aol.com      ljohnson@outlook.com   \n",
              "10                carla90@aol.com   phammichael@outlook.com   \n",
              "\n",
              "                                              Subject  \\\n",
              "0        National man although for sell thought star.   \n",
              "1         World matter eat year agent soldier energy.   \n",
              "2                    Financial responsibility attack.   \n",
              "3              Night show either various group young.   \n",
              "4                                               Error   \n",
              "5                       Level maybe top defense seem.   \n",
              "6                           Majority least hour like.   \n",
              "7   Everything response include majority probably ...   \n",
              "8             In less Republican guess dinner modern.   \n",
              "9                 Effect woman finally kitchen worry.   \n",
              "10           Woman by tell strong pull stand exactly.   \n",
              "\n",
              "                                           Email Body       Label  \\\n",
              "0   Indeed government born happen. Realize last be...  Legitimate   \n",
              "1   Over treatment agree contain style. Hospital c...    Phishing   \n",
              "2   Lose offer create develop well apply today mou...    Phishing   \n",
              "3   Discuss offer method. Memory while make. Amoun...    Phishing   \n",
              "4   Movie kitchen health kind which policy. Civil ...    Phishing   \n",
              "5   Role action home little. Agreement environment...    Phishing   \n",
              "6   State better natural sell. Mrs million deep of...  Legitimate   \n",
              "7   Let few oil environmental establish. Might eig...    Phishing   \n",
              "8   Blood near wait term. Sea end race design lawy...    Phishing   \n",
              "9                                               Error  Legitimate   \n",
              "10  Fear simple anyone win. Development challenge ...    Phishing   \n",
              "\n",
              "         IP Address             Location   Sender Domain Recipient Domain  \\\n",
              "0   208.190.144.153             Juantown  protonmail.com   protonmail.com   \n",
              "1       8.210.9.207           New Justin     outlook.com        yahoo.com   \n",
              "2      59.219.62.29            Knoxville       gmail.com   protonmail.com   \n",
              "3      213.99.88.75       East Andreaton       yahoo.com          aol.com   \n",
              "4    90.196.229.178  South Elizabethbury         aol.com       icloud.com   \n",
              "5    100.49.171.174           Taylorport       yahoo.com          aol.com   \n",
              "6      6.122.155.88          Johnchester       yahoo.com        yahoo.com   \n",
              "7     152.252.11.64                  NaN  protonmail.com      outlook.com   \n",
              "8     147.237.43.25      South Tylerstad             NaN          aol.com   \n",
              "9     26.239.119.17           Carterfort         aol.com      outlook.com   \n",
              "10      195.50.13.7           New Steven         aol.com      outlook.com   \n",
              "\n",
              "   Email Length Attachments Link Count       Suspicious Keywords      Sector  \n",
              "0            96           2          6             click, urgent  Healthcare  \n",
              "1           222           1          4             click, secure      Retail  \n",
              "2           132           2          0                   confirm       Error  \n",
              "3           119           2          0           account, update      Retail  \n",
              "4           132           2          7            urgent, verify      Retail  \n",
              "5           218           2          3  verify, secure, password  Healthcare  \n",
              "6           178           2          8                     login      Retail  \n",
              "7           191           3          8            verify, secure  Healthcare  \n",
              "8           171           1          3    confirm, urgent, login      Retail  \n",
              "9             5           2          1              click, login  Healthcare  \n",
              "10          111           3          8                    urgent  Healthcare  "
            ],
            "text/html": [
              "\n",
              "  <div id=\"df-554ba6b0-d8fd-4303-a9c7-2f40139a88d0\" class=\"colab-df-container\">\n",
              "    <div>\n",
              "<style scoped>\n",
              "    .dataframe tbody tr th:only-of-type {\n",
              "        vertical-align: middle;\n",
              "    }\n",
              "\n",
              "    .dataframe tbody tr th {\n",
              "        vertical-align: top;\n",
              "    }\n",
              "\n",
              "    .dataframe thead th {\n",
              "        text-align: right;\n",
              "    }\n",
              "</style>\n",
              "<table border=\"1\" class=\"dataframe\">\n",
              "  <thead>\n",
              "    <tr style=\"text-align: right;\">\n",
              "      <th></th>\n",
              "      <th>Email ID</th>\n",
              "      <th>Timestamp</th>\n",
              "      <th>Sender Email</th>\n",
              "      <th>Recipient Email</th>\n",
              "      <th>Subject</th>\n",
              "      <th>Email Body</th>\n",
              "      <th>Label</th>\n",
              "      <th>IP Address</th>\n",
              "      <th>Location</th>\n",
              "      <th>Sender Domain</th>\n",
              "      <th>Recipient Domain</th>\n",
              "      <th>Email Length</th>\n",
              "      <th>Attachments</th>\n",
              "      <th>Link Count</th>\n",
              "      <th>Suspicious Keywords</th>\n",
              "      <th>Sector</th>\n",
              "    </tr>\n",
              "  </thead>\n",
              "  <tbody>\n",
              "    <tr>\n",
              "      <th>0</th>\n",
              "      <td>bd510c2e-e9ea-432c-a171-6a83b79e65d7</td>\n",
              "      <td>32:22.4</td>\n",
              "      <td>otyler@protonmail.com</td>\n",
              "      <td>sarahkemp@protonmail.com</td>\n",
              "      <td>National man although for sell thought star.</td>\n",
              "      <td>Indeed government born happen. Realize last be...</td>\n",
              "      <td>Legitimate</td>\n",
              "      <td>208.190.144.153</td>\n",
              "      <td>Juantown</td>\n",
              "      <td>protonmail.com</td>\n",
              "      <td>protonmail.com</td>\n",
              "      <td>96</td>\n",
              "      <td>2</td>\n",
              "      <td>6</td>\n",
              "      <td>click, urgent</td>\n",
              "      <td>Healthcare</td>\n",
              "    </tr>\n",
              "    <tr>\n",
              "      <th>1</th>\n",
              "      <td>73dfe436-8485-49f0-9635-8538046c6295</td>\n",
              "      <td>36:26.4</td>\n",
              "      <td>nicole77@outlook.com</td>\n",
              "      <td>pkelly@yahoo.com</td>\n",
              "      <td>World matter eat year agent soldier energy.</td>\n",
              "      <td>Over treatment agree contain style. Hospital c...</td>\n",
              "      <td>Phishing</td>\n",
              "      <td>8.210.9.207</td>\n",
              "      <td>New Justin</td>\n",
              "      <td>outlook.com</td>\n",
              "      <td>yahoo.com</td>\n",
              "      <td>222</td>\n",
              "      <td>1</td>\n",
              "      <td>4</td>\n",
              "      <td>click, secure</td>\n",
              "      <td>Retail</td>\n",
              "    </tr>\n",
              "    <tr>\n",
              "      <th>2</th>\n",
              "      <td>2aad94e0-da9b-437c-be61-49667db5d762</td>\n",
              "      <td>06:52.9</td>\n",
              "      <td>daniellesoto@gmail.com</td>\n",
              "      <td>mferrell@protonmail.com</td>\n",
              "      <td>Financial responsibility attack.</td>\n",
              "      <td>Lose offer create develop well apply today mou...</td>\n",
              "      <td>Phishing</td>\n",
              "      <td>59.219.62.29</td>\n",
              "      <td>Knoxville</td>\n",
              "      <td>gmail.com</td>\n",
              "      <td>protonmail.com</td>\n",
              "      <td>132</td>\n",
              "      <td>2</td>\n",
              "      <td>0</td>\n",
              "      <td>confirm</td>\n",
              "      <td>Error</td>\n",
              "    </tr>\n",
              "    <tr>\n",
              "      <th>3</th>\n",
              "      <td>b4fca1ca-22af-4f15-bfee-e7d7adf159e3</td>\n",
              "      <td>27:21.0</td>\n",
              "      <td>mathissean@yahoo.com</td>\n",
              "      <td>patrickgarcia@aol.com</td>\n",
              "      <td>Night show either various group young.</td>\n",
              "      <td>Discuss offer method. Memory while make. Amoun...</td>\n",
              "      <td>Phishing</td>\n",
              "      <td>213.99.88.75</td>\n",
              "      <td>East Andreaton</td>\n",
              "      <td>yahoo.com</td>\n",
              "      <td>aol.com</td>\n",
              "      <td>119</td>\n",
              "      <td>2</td>\n",
              "      <td>0</td>\n",
              "      <td>account, update</td>\n",
              "      <td>Retail</td>\n",
              "    </tr>\n",
              "    <tr>\n",
              "      <th>4</th>\n",
              "      <td>4a3461a1-6535-42ce-991d-13adf28b8e52</td>\n",
              "      <td>34:03.8</td>\n",
              "      <td>morrishannah@aol.com</td>\n",
              "      <td>vchavez@icloud.com</td>\n",
              "      <td>Error</td>\n",
              "      <td>Movie kitchen health kind which policy. Civil ...</td>\n",
              "      <td>Phishing</td>\n",
              "      <td>90.196.229.178</td>\n",
              "      <td>South Elizabethbury</td>\n",
              "      <td>aol.com</td>\n",
              "      <td>icloud.com</td>\n",
              "      <td>132</td>\n",
              "      <td>2</td>\n",
              "      <td>7</td>\n",
              "      <td>urgent, verify</td>\n",
              "      <td>Retail</td>\n",
              "    </tr>\n",
              "    <tr>\n",
              "      <th>5</th>\n",
              "      <td>f4373fcd-1693-42c8-9825-7e64eafb821a</td>\n",
              "      <td>39:57.6</td>\n",
              "      <td>julieweaver@yahoo.com</td>\n",
              "      <td>jocelyn17@aol.com</td>\n",
              "      <td>Level maybe top defense seem.</td>\n",
              "      <td>Role action home little. Agreement environment...</td>\n",
              "      <td>Phishing</td>\n",
              "      <td>100.49.171.174</td>\n",
              "      <td>Taylorport</td>\n",
              "      <td>yahoo.com</td>\n",
              "      <td>aol.com</td>\n",
              "      <td>218</td>\n",
              "      <td>2</td>\n",
              "      <td>3</td>\n",
              "      <td>verify, secure, password</td>\n",
              "      <td>Healthcare</td>\n",
              "    </tr>\n",
              "    <tr>\n",
              "      <th>6</th>\n",
              "      <td>a2414298-0df2-4bd6-98f4-b191bdfbf776</td>\n",
              "      <td>56:21.2</td>\n",
              "      <td>jennifer56@yahoo.com</td>\n",
              "      <td>clarkstephanie@yahoo.com</td>\n",
              "      <td>Majority least hour like.</td>\n",
              "      <td>State better natural sell. Mrs million deep of...</td>\n",
              "      <td>Legitimate</td>\n",
              "      <td>6.122.155.88</td>\n",
              "      <td>Johnchester</td>\n",
              "      <td>yahoo.com</td>\n",
              "      <td>yahoo.com</td>\n",
              "      <td>178</td>\n",
              "      <td>2</td>\n",
              "      <td>8</td>\n",
              "      <td>login</td>\n",
              "      <td>Retail</td>\n",
              "    </tr>\n",
              "    <tr>\n",
              "      <th>7</th>\n",
              "      <td>15855fa2-281d-4170-b1eb-3328ae7ae1a4</td>\n",
              "      <td>58:41.8</td>\n",
              "      <td>vasqueznatalie@protonmail.com</td>\n",
              "      <td>susan01@outlook.com</td>\n",
              "      <td>Everything response include majority probably ...</td>\n",
              "      <td>Let few oil environmental establish. Might eig...</td>\n",
              "      <td>Phishing</td>\n",
              "      <td>152.252.11.64</td>\n",
              "      <td>NaN</td>\n",
              "      <td>protonmail.com</td>\n",
              "      <td>outlook.com</td>\n",
              "      <td>191</td>\n",
              "      <td>3</td>\n",
              "      <td>8</td>\n",
              "      <td>verify, secure</td>\n",
              "      <td>Healthcare</td>\n",
              "    </tr>\n",
              "    <tr>\n",
              "      <th>8</th>\n",
              "      <td>ca695322-d9f5-48c0-a856-48800c239ba5</td>\n",
              "      <td>39:09.7</td>\n",
              "      <td>NaN</td>\n",
              "      <td>elizabeth55@aol.com</td>\n",
              "      <td>In less Republican guess dinner modern.</td>\n",
              "      <td>Blood near wait term. Sea end race design lawy...</td>\n",
              "      <td>Phishing</td>\n",
              "      <td>147.237.43.25</td>\n",
              "      <td>South Tylerstad</td>\n",
              "      <td>NaN</td>\n",
              "      <td>aol.com</td>\n",
              "      <td>171</td>\n",
              "      <td>1</td>\n",
              "      <td>3</td>\n",
              "      <td>confirm, urgent, login</td>\n",
              "      <td>Retail</td>\n",
              "    </tr>\n",
              "    <tr>\n",
              "      <th>9</th>\n",
              "      <td>e3b55d22-3238-4513-986f-0b0b077c417b</td>\n",
              "      <td>06:08.4</td>\n",
              "      <td>brookemurray@aol.com</td>\n",
              "      <td>ljohnson@outlook.com</td>\n",
              "      <td>Effect woman finally kitchen worry.</td>\n",
              "      <td>Error</td>\n",
              "      <td>Legitimate</td>\n",
              "      <td>26.239.119.17</td>\n",
              "      <td>Carterfort</td>\n",
              "      <td>aol.com</td>\n",
              "      <td>outlook.com</td>\n",
              "      <td>5</td>\n",
              "      <td>2</td>\n",
              "      <td>1</td>\n",
              "      <td>click, login</td>\n",
              "      <td>Healthcare</td>\n",
              "    </tr>\n",
              "    <tr>\n",
              "      <th>10</th>\n",
              "      <td>eb43826e-faa8-4ae8-b045-dd00c9727fc8</td>\n",
              "      <td>55:33.8</td>\n",
              "      <td>carla90@aol.com</td>\n",
              "      <td>phammichael@outlook.com</td>\n",
              "      <td>Woman by tell strong pull stand exactly.</td>\n",
              "      <td>Fear simple anyone win. Development challenge ...</td>\n",
              "      <td>Phishing</td>\n",
              "      <td>195.50.13.7</td>\n",
              "      <td>New Steven</td>\n",
              "      <td>aol.com</td>\n",
              "      <td>outlook.com</td>\n",
              "      <td>111</td>\n",
              "      <td>3</td>\n",
              "      <td>8</td>\n",
              "      <td>urgent</td>\n",
              "      <td>Healthcare</td>\n",
              "    </tr>\n",
              "  </tbody>\n",
              "</table>\n",
              "</div>\n",
              "    <div class=\"colab-df-buttons\">\n",
              "\n",
              "  <div class=\"colab-df-container\">\n",
              "    <button class=\"colab-df-convert\" onclick=\"convertToInteractive('df-554ba6b0-d8fd-4303-a9c7-2f40139a88d0')\"\n",
              "            title=\"Convert this dataframe to an interactive table.\"\n",
              "            style=\"display:none;\">\n",
              "\n",
              "  <svg xmlns=\"http://www.w3.org/2000/svg\" height=\"24px\" viewBox=\"0 -960 960 960\">\n",
              "    <path d=\"M120-120v-720h720v720H120Zm60-500h600v-160H180v160Zm220 220h160v-160H400v160Zm0 220h160v-160H400v160ZM180-400h160v-160H180v160Zm440 0h160v-160H620v160ZM180-180h160v-160H180v160Zm440 0h160v-160H620v160Z\"/>\n",
              "  </svg>\n",
              "    </button>\n",
              "\n",
              "  <style>\n",
              "    .colab-df-container {\n",
              "      display:flex;\n",
              "      gap: 12px;\n",
              "    }\n",
              "\n",
              "    .colab-df-convert {\n",
              "      background-color: #E8F0FE;\n",
              "      border: none;\n",
              "      border-radius: 50%;\n",
              "      cursor: pointer;\n",
              "      display: none;\n",
              "      fill: #1967D2;\n",
              "      height: 32px;\n",
              "      padding: 0 0 0 0;\n",
              "      width: 32px;\n",
              "    }\n",
              "\n",
              "    .colab-df-convert:hover {\n",
              "      background-color: #E2EBFA;\n",
              "      box-shadow: 0px 1px 2px rgba(60, 64, 67, 0.3), 0px 1px 3px 1px rgba(60, 64, 67, 0.15);\n",
              "      fill: #174EA6;\n",
              "    }\n",
              "\n",
              "    .colab-df-buttons div {\n",
              "      margin-bottom: 4px;\n",
              "    }\n",
              "\n",
              "    [theme=dark] .colab-df-convert {\n",
              "      background-color: #3B4455;\n",
              "      fill: #D2E3FC;\n",
              "    }\n",
              "\n",
              "    [theme=dark] .colab-df-convert:hover {\n",
              "      background-color: #434B5C;\n",
              "      box-shadow: 0px 1px 3px 1px rgba(0, 0, 0, 0.15);\n",
              "      filter: drop-shadow(0px 1px 2px rgba(0, 0, 0, 0.3));\n",
              "      fill: #FFFFFF;\n",
              "    }\n",
              "  </style>\n",
              "\n",
              "    <script>\n",
              "      const buttonEl =\n",
              "        document.querySelector('#df-554ba6b0-d8fd-4303-a9c7-2f40139a88d0 button.colab-df-convert');\n",
              "      buttonEl.style.display =\n",
              "        google.colab.kernel.accessAllowed ? 'block' : 'none';\n",
              "\n",
              "      async function convertToInteractive(key) {\n",
              "        const element = document.querySelector('#df-554ba6b0-d8fd-4303-a9c7-2f40139a88d0');\n",
              "        const dataTable =\n",
              "          await google.colab.kernel.invokeFunction('convertToInteractive',\n",
              "                                                    [key], {});\n",
              "        if (!dataTable) return;\n",
              "\n",
              "        const docLinkHtml = 'Like what you see? Visit the ' +\n",
              "          '<a target=\"_blank\" href=https://colab.research.google.com/notebooks/data_table.ipynb>data table notebook</a>'\n",
              "          + ' to learn more about interactive tables.';\n",
              "        element.innerHTML = '';\n",
              "        dataTable['output_type'] = 'display_data';\n",
              "        await google.colab.output.renderOutput(dataTable, element);\n",
              "        const docLink = document.createElement('div');\n",
              "        docLink.innerHTML = docLinkHtml;\n",
              "        element.appendChild(docLink);\n",
              "      }\n",
              "    </script>\n",
              "  </div>\n",
              "\n",
              "\n",
              "<div id=\"df-8b1a9f7d-d63d-438e-859d-02050ffdea05\">\n",
              "  <button class=\"colab-df-quickchart\" onclick=\"quickchart('df-8b1a9f7d-d63d-438e-859d-02050ffdea05')\"\n",
              "            title=\"Suggest charts\"\n",
              "            style=\"display:none;\">\n",
              "\n",
              "<svg xmlns=\"http://www.w3.org/2000/svg\" height=\"24px\"viewBox=\"0 0 24 24\"\n",
              "     width=\"24px\">\n",
              "    <g>\n",
              "        <path d=\"M19 3H5c-1.1 0-2 .9-2 2v14c0 1.1.9 2 2 2h14c1.1 0 2-.9 2-2V5c0-1.1-.9-2-2-2zM9 17H7v-7h2v7zm4 0h-2V7h2v10zm4 0h-2v-4h2v4z\"/>\n",
              "    </g>\n",
              "</svg>\n",
              "  </button>\n",
              "\n",
              "<style>\n",
              "  .colab-df-quickchart {\n",
              "      --bg-color: #E8F0FE;\n",
              "      --fill-color: #1967D2;\n",
              "      --hover-bg-color: #E2EBFA;\n",
              "      --hover-fill-color: #174EA6;\n",
              "      --disabled-fill-color: #AAA;\n",
              "      --disabled-bg-color: #DDD;\n",
              "  }\n",
              "\n",
              "  [theme=dark] .colab-df-quickchart {\n",
              "      --bg-color: #3B4455;\n",
              "      --fill-color: #D2E3FC;\n",
              "      --hover-bg-color: #434B5C;\n",
              "      --hover-fill-color: #FFFFFF;\n",
              "      --disabled-bg-color: #3B4455;\n",
              "      --disabled-fill-color: #666;\n",
              "  }\n",
              "\n",
              "  .colab-df-quickchart {\n",
              "    background-color: var(--bg-color);\n",
              "    border: none;\n",
              "    border-radius: 50%;\n",
              "    cursor: pointer;\n",
              "    display: none;\n",
              "    fill: var(--fill-color);\n",
              "    height: 32px;\n",
              "    padding: 0;\n",
              "    width: 32px;\n",
              "  }\n",
              "\n",
              "  .colab-df-quickchart:hover {\n",
              "    background-color: var(--hover-bg-color);\n",
              "    box-shadow: 0 1px 2px rgba(60, 64, 67, 0.3), 0 1px 3px 1px rgba(60, 64, 67, 0.15);\n",
              "    fill: var(--button-hover-fill-color);\n",
              "  }\n",
              "\n",
              "  .colab-df-quickchart-complete:disabled,\n",
              "  .colab-df-quickchart-complete:disabled:hover {\n",
              "    background-color: var(--disabled-bg-color);\n",
              "    fill: var(--disabled-fill-color);\n",
              "    box-shadow: none;\n",
              "  }\n",
              "\n",
              "  .colab-df-spinner {\n",
              "    border: 2px solid var(--fill-color);\n",
              "    border-color: transparent;\n",
              "    border-bottom-color: var(--fill-color);\n",
              "    animation:\n",
              "      spin 1s steps(1) infinite;\n",
              "  }\n",
              "\n",
              "  @keyframes spin {\n",
              "    0% {\n",
              "      border-color: transparent;\n",
              "      border-bottom-color: var(--fill-color);\n",
              "      border-left-color: var(--fill-color);\n",
              "    }\n",
              "    20% {\n",
              "      border-color: transparent;\n",
              "      border-left-color: var(--fill-color);\n",
              "      border-top-color: var(--fill-color);\n",
              "    }\n",
              "    30% {\n",
              "      border-color: transparent;\n",
              "      border-left-color: var(--fill-color);\n",
              "      border-top-color: var(--fill-color);\n",
              "      border-right-color: var(--fill-color);\n",
              "    }\n",
              "    40% {\n",
              "      border-color: transparent;\n",
              "      border-right-color: var(--fill-color);\n",
              "      border-top-color: var(--fill-color);\n",
              "    }\n",
              "    60% {\n",
              "      border-color: transparent;\n",
              "      border-right-color: var(--fill-color);\n",
              "    }\n",
              "    80% {\n",
              "      border-color: transparent;\n",
              "      border-right-color: var(--fill-color);\n",
              "      border-bottom-color: var(--fill-color);\n",
              "    }\n",
              "    90% {\n",
              "      border-color: transparent;\n",
              "      border-bottom-color: var(--fill-color);\n",
              "    }\n",
              "  }\n",
              "</style>\n",
              "\n",
              "  <script>\n",
              "    async function quickchart(key) {\n",
              "      const quickchartButtonEl =\n",
              "        document.querySelector('#' + key + ' button');\n",
              "      quickchartButtonEl.disabled = true;  // To prevent multiple clicks.\n",
              "      quickchartButtonEl.classList.add('colab-df-spinner');\n",
              "      try {\n",
              "        const charts = await google.colab.kernel.invokeFunction(\n",
              "            'suggestCharts', [key], {});\n",
              "      } catch (error) {\n",
              "        console.error('Error during call to suggestCharts:', error);\n",
              "      }\n",
              "      quickchartButtonEl.classList.remove('colab-df-spinner');\n",
              "      quickchartButtonEl.classList.add('colab-df-quickchart-complete');\n",
              "    }\n",
              "    (() => {\n",
              "      let quickchartButtonEl =\n",
              "        document.querySelector('#df-8b1a9f7d-d63d-438e-859d-02050ffdea05 button');\n",
              "      quickchartButtonEl.style.display =\n",
              "        google.colab.kernel.accessAllowed ? 'block' : 'none';\n",
              "    })();\n",
              "  </script>\n",
              "</div>\n",
              "\n",
              "    </div>\n",
              "  </div>\n"
            ],
            "application/vnd.google.colaboratory.intrinsic+json": {
              "type": "dataframe",
              "variable_name": "data",
              "summary": "{\n  \"name\": \"data\",\n  \"rows\": 520,\n  \"fields\": [\n    {\n      \"column\": \"Email ID\",\n      \"properties\": {\n        \"dtype\": \"string\",\n        \"num_unique_values\": 470,\n        \"samples\": [\n          \"5ddf1520-30a3-4144-b7f7-422252f3e9b6\",\n          \"15837e96-4814-49a7-bae7-fd62a48fbafe\",\n          \"93694ba6-224e-4503-b0f5-56b2564cf475\"\n        ],\n        \"semantic_type\": \"\",\n        \"description\": \"\"\n      }\n    },\n    {\n      \"column\": \"Timestamp\",\n      \"properties\": {\n        \"dtype\": \"string\",\n        \"num_unique_values\": 487,\n        \"samples\": [\n          \"42:07.8\",\n          \"01:42.1\",\n          \"22:57.7\"\n        ],\n        \"semantic_type\": \"\",\n        \"description\": \"\"\n      }\n    },\n    {\n      \"column\": \"Sender Email\",\n      \"properties\": {\n        \"dtype\": \"string\",\n        \"num_unique_values\": 474,\n        \"samples\": [\n          \"darrylkhan@outlook.com\",\n          \"hray@icloud.com\",\n          \"carla90@aol.com\"\n        ],\n        \"semantic_type\": \"\",\n        \"description\": \"\"\n      }\n    },\n    {\n      \"column\": \"Recipient Email\",\n      \"properties\": {\n        \"dtype\": \"string\",\n        \"num_unique_values\": 473,\n        \"samples\": [\n          \"fsingh@aol.com\",\n          \"thomasrichards@aol.com\",\n          \"afoster@gmail.com\"\n        ],\n        \"semantic_type\": \"\",\n        \"description\": \"\"\n      }\n    },\n    {\n      \"column\": \"Subject\",\n      \"properties\": {\n        \"dtype\": \"string\",\n        \"num_unique_values\": 478,\n        \"samples\": [\n          \"Second kind standard story.\",\n          \"Carry throw have issue visit word.\",\n          \"Compare rest history nor paper.\"\n        ],\n        \"semantic_type\": \"\",\n        \"description\": \"\"\n      }\n    },\n    {\n      \"column\": \"Email Body\",\n      \"properties\": {\n        \"dtype\": \"string\",\n        \"num_unique_values\": 469,\n        \"samples\": [\n          \"Remain cup investment ground fast. Bag maintain how a few. Attorney way region American very factor. Guy management board although PM agree. From girl inside quality either. Its price Mr general how play age student.\",\n          \"Well what doctor. May city peace. State happen low summer. Standard tend eight side open director right month. Consumer hope eat room beyond usually within.\",\n          \"Trade various success soon station stay. None fight chair market. Partner always beautiful involve control. Final pressure short nice since our.\"\n        ],\n        \"semantic_type\": \"\",\n        \"description\": \"\"\n      }\n    },\n    {\n      \"column\": \"Label\",\n      \"properties\": {\n        \"dtype\": \"category\",\n        \"num_unique_values\": 3,\n        \"samples\": [\n          \"Legitimate\",\n          \"Phishing\",\n          \"Error\"\n        ],\n        \"semantic_type\": \"\",\n        \"description\": \"\"\n      }\n    },\n    {\n      \"column\": \"IP Address\",\n      \"properties\": {\n        \"dtype\": \"string\",\n        \"num_unique_values\": 488,\n        \"samples\": [\n          \"8.11.201.212\",\n          \"106.153.221.10\",\n          \"165.205.181.20\"\n        ],\n        \"semantic_type\": \"\",\n        \"description\": \"\"\n      }\n    },\n    {\n      \"column\": \"Location\",\n      \"properties\": {\n        \"dtype\": \"string\",\n        \"num_unique_values\": 458,\n        \"samples\": [\n          \"Tiffanyside\",\n          \"Port Robertville\",\n          \"New Travis\"\n        ],\n        \"semantic_type\": \"\",\n        \"description\": \"\"\n      }\n    },\n    {\n      \"column\": \"Sender Domain\",\n      \"properties\": {\n        \"dtype\": \"category\",\n        \"num_unique_values\": 7,\n        \"samples\": [\n          \"protonmail.com\",\n          \"outlook.com\",\n          \"icloud.com\"\n        ],\n        \"semantic_type\": \"\",\n        \"description\": \"\"\n      }\n    },\n    {\n      \"column\": \"Recipient Domain\",\n      \"properties\": {\n        \"dtype\": \"category\",\n        \"num_unique_values\": 7,\n        \"samples\": [\n          \"protonmail.com\",\n          \"yahoo.com\",\n          \"gmail.com\"\n        ],\n        \"semantic_type\": \"\",\n        \"description\": \"\"\n      }\n    },\n    {\n      \"column\": \"Email Length\",\n      \"properties\": {\n        \"dtype\": \"category\",\n        \"num_unique_values\": 174,\n        \"samples\": [\n          \"147\",\n          \"213\",\n          \"3\"\n        ],\n        \"semantic_type\": \"\",\n        \"description\": \"\"\n      }\n    },\n    {\n      \"column\": \"Attachments\",\n      \"properties\": {\n        \"dtype\": \"category\",\n        \"num_unique_values\": 5,\n        \"samples\": [\n          \"1\",\n          \"Error\",\n          \"3\"\n        ],\n        \"semantic_type\": \"\",\n        \"description\": \"\"\n      }\n    },\n    {\n      \"column\": \"Link Count\",\n      \"properties\": {\n        \"dtype\": \"category\",\n        \"num_unique_values\": 11,\n        \"samples\": [\n          \"8\",\n          \"6\",\n          \"2\"\n        ],\n        \"semantic_type\": \"\",\n        \"description\": \"\"\n      }\n    },\n    {\n      \"column\": \"Suspicious Keywords\",\n      \"properties\": {\n        \"dtype\": \"category\",\n        \"num_unique_values\": 227,\n        \"samples\": [\n          \"click, login\",\n          \"click, password\",\n          \"confirm, account, password\"\n        ],\n        \"semantic_type\": \"\",\n        \"description\": \"\"\n      }\n    },\n    {\n      \"column\": \"Sector\",\n      \"properties\": {\n        \"dtype\": \"category\",\n        \"num_unique_values\": 3,\n        \"samples\": [\n          \"Healthcare\",\n          \"Retail\",\n          \"Error\"\n        ],\n        \"semantic_type\": \"\",\n        \"description\": \"\"\n      }\n    }\n  ]\n}"
            }
          },
          "metadata": {},
          "execution_count": 47
        }
      ],
      "source": [
        "# load data\n",
        "data = pd.read_csv('/content/gdrive/MyDrive/DA/DA Assignment/Phishing_Email_Dataset_Ucl.csv')\n",
        "\n",
        "# Preview data\n",
        "data.head(11)"
      ]
    },
    {
      "cell_type": "code",
      "source": [
        "df = pd.read_csv('/content/gdrive/MyDrive/DA/DA Assignment/Phishing_Email_Dataset_Ucl.csv')"
      ],
      "metadata": {
        "id": "yp-eYiHh0Xb-"
      },
      "execution_count": 56,
      "outputs": []
    },
    {
      "cell_type": "code",
      "execution_count": null,
      "metadata": {
        "id": "y5nO_zE3pCuP",
        "colab": {
          "base_uri": "https://localhost:8080/"
        },
        "outputId": "252ef858-2a2b-4823-b668-13d53e057418"
      },
      "outputs": [
        {
          "output_type": "stream",
          "name": "stdout",
          "text": [
            "<class 'pandas.core.frame.DataFrame'>\n",
            "RangeIndex: 520 entries, 0 to 519\n",
            "Data columns (total 16 columns):\n",
            " #   Column               Non-Null Count  Dtype \n",
            "---  ------               --------------  ----- \n",
            " 0   Email ID             497 non-null    object\n",
            " 1   Timestamp            511 non-null    object\n",
            " 2   Sender Email         500 non-null    object\n",
            " 3   Recipient Email      500 non-null    object\n",
            " 4   Subject              500 non-null    object\n",
            " 5   Email Body           498 non-null    object\n",
            " 6   Label                506 non-null    object\n",
            " 7   IP Address           511 non-null    object\n",
            " 8   Location             494 non-null    object\n",
            " 9   Sender Domain        500 non-null    object\n",
            " 10  Recipient Domain     500 non-null    object\n",
            " 11  Email Length         512 non-null    object\n",
            " 12  Attachments          504 non-null    object\n",
            " 13  Link Count           507 non-null    object\n",
            " 14  Suspicious Keywords  520 non-null    object\n",
            " 15  Sector               499 non-null    object\n",
            "dtypes: object(16)\n",
            "memory usage: 65.1+ KB\n",
            "None\n",
            "\n",
            "Missing Values:\n",
            " Email ID               23\n",
            "Timestamp               9\n",
            "Sender Email           20\n",
            "Recipient Email        20\n",
            "Subject                20\n",
            "Email Body             22\n",
            "Label                  14\n",
            "IP Address              9\n",
            "Location               26\n",
            "Sender Domain          20\n",
            "Recipient Domain       20\n",
            "Email Length            8\n",
            "Attachments            16\n",
            "Link Count             13\n",
            "Suspicious Keywords     0\n",
            "Sector                 21\n",
            "dtype: int64\n",
            "\n",
            "Data Cleaning Completed. Cleaned dataset saved.\n"
          ]
        }
      ],
      "source": [
        "print(data.info())\n",
        "print(\"\\nMissing Values:\\n\", data.isnull().sum())\n",
        "\n",
        "# Handle missing values\n",
        "data_cleaned = data.dropna()\n",
        "\n",
        "# Remove duplicates\n",
        "data_cleaned = data_cleaned.drop_duplicates()\n",
        "\n",
        "# Standardizing data formats\n",
        "data_cleaned.columns = data_cleaned.columns.str.lower()\n",
        "\n",
        "# Save the cleaned dataset for analysis\n",
        "cleaned_file_path = 'cleaned_phishing_dataset.csv'\n",
        "data_cleaned.to_csv(cleaned_file_path, index=False)\n",
        "\n",
        "print(\"\\nData Cleaning Completed. Cleaned dataset saved.\")"
      ]
    },
    {
      "cell_type": "code",
      "execution_count": null,
      "metadata": {
        "colab": {
          "base_uri": "https://localhost:8080/"
        },
        "id": "t4Oo8bOsgANV",
        "outputId": "4e01f90f-e843-405e-b3a9-112106dc23eb"
      },
      "outputs": [
        {
          "output_type": "stream",
          "name": "stdout",
          "text": [
            "                               Email ID Timestamp            Sender Email  \\\n",
            "0  bd510c2e-e9ea-432c-a171-6a83b79e65d7   32:22.4   otyler@protonmail.com   \n",
            "1  73dfe436-8485-49f0-9635-8538046c6295   36:26.4    nicole77@outlook.com   \n",
            "2  2aad94e0-da9b-437c-be61-49667db5d762   06:52.9  daniellesoto@gmail.com   \n",
            "3  b4fca1ca-22af-4f15-bfee-e7d7adf159e3   27:21.0    mathissean@yahoo.com   \n",
            "4  4a3461a1-6535-42ce-991d-13adf28b8e52   34:03.8    morrishannah@aol.com   \n",
            "\n",
            "            Recipient Email                                       Subject  \\\n",
            "0  sarahkemp@protonmail.com  National man although for sell thought star.   \n",
            "1          pkelly@yahoo.com   World matter eat year agent soldier energy.   \n",
            "2   mferrell@protonmail.com              Financial responsibility attack.   \n",
            "3     patrickgarcia@aol.com        Night show either various group young.   \n",
            "4        vchavez@icloud.com                                         Error   \n",
            "\n",
            "                                          Email Body       Label  \\\n",
            "0  Indeed government born happen. Realize last be...  Legitimate   \n",
            "1  Over treatment agree contain style. Hospital c...    Phishing   \n",
            "2  Lose offer create develop well apply today mou...    Phishing   \n",
            "3  Discuss offer method. Memory while make. Amoun...    Phishing   \n",
            "4  Movie kitchen health kind which policy. Civil ...    Phishing   \n",
            "\n",
            "        IP Address             Location   Sender Domain Recipient Domain  \\\n",
            "0  208.190.144.153             Juantown  protonmail.com   protonmail.com   \n",
            "1      8.210.9.207           New Justin     outlook.com        yahoo.com   \n",
            "2     59.219.62.29            Knoxville       gmail.com   protonmail.com   \n",
            "3     213.99.88.75       East Andreaton       yahoo.com          aol.com   \n",
            "4   90.196.229.178  South Elizabethbury         aol.com       icloud.com   \n",
            "\n",
            "  Email Length Attachments Link Count Suspicious Keywords      Sector  \n",
            "0           96           2          6       click, urgent  Healthcare  \n",
            "1          222           1          4       click, secure      Retail  \n",
            "2          132           2          0             confirm       Error  \n",
            "3          119           2          0     account, update      Retail  \n",
            "4          132           2          7      urgent, verify      Retail  \n"
          ]
        }
      ],
      "source": [
        "# Display the first few rows of the dataset\n",
        "print(data.head())\n"
      ]
    },
    {
      "cell_type": "code",
      "source": [
        "# Basic statistics of numeric columns\n",
        "print(data.describe())"
      ],
      "metadata": {
        "colab": {
          "base_uri": "https://localhost:8080/"
        },
        "id": "qoyvL0WPhzjr",
        "outputId": "27fff1fc-1518-4847-d6e6-5d3524fe8dc7"
      },
      "execution_count": null,
      "outputs": [
        {
          "output_type": "stream",
          "name": "stdout",
          "text": [
            "       Email ID Timestamp Sender Email Recipient Email Subject Email Body  \\\n",
            "count       497       511          500             500     500        498   \n",
            "unique      470       487          474             473     478        469   \n",
            "top       Error     Error        Error           Error   Error      Error   \n",
            "freq          8         4            6               7       3         10   \n",
            "\n",
            "           Label IP Address     Location Sender Domain Recipient Domain  \\\n",
            "count        506        511          494           500              500   \n",
            "unique         3        488          458             7                7   \n",
            "top     Phishing      Error  Heatherview     yahoo.com        gmail.com   \n",
            "freq         275          5            5           101               93   \n",
            "\n",
            "       Email Length Attachments Link Count Suspicious Keywords  Sector  \n",
            "count           512         504        507                 520     499  \n",
            "unique          174           5         11                 227       3  \n",
            "top               5           2          9             account  Retail  \n",
            "freq             10         144         58                  23     254  \n"
          ]
        }
      ]
    },
    {
      "cell_type": "code",
      "source": [
        "# Understanding the data types and checking for missing values\n",
        "print(data.info())"
      ],
      "metadata": {
        "colab": {
          "base_uri": "https://localhost:8080/"
        },
        "id": "m0CYRaUUiU1-",
        "outputId": "4f1ee7e4-bfd2-46c4-e588-cd92bb337b26"
      },
      "execution_count": null,
      "outputs": [
        {
          "output_type": "stream",
          "name": "stdout",
          "text": [
            "<class 'pandas.core.frame.DataFrame'>\n",
            "RangeIndex: 520 entries, 0 to 519\n",
            "Data columns (total 16 columns):\n",
            " #   Column               Non-Null Count  Dtype \n",
            "---  ------               --------------  ----- \n",
            " 0   Email ID             497 non-null    object\n",
            " 1   Timestamp            511 non-null    object\n",
            " 2   Sender Email         500 non-null    object\n",
            " 3   Recipient Email      500 non-null    object\n",
            " 4   Subject              500 non-null    object\n",
            " 5   Email Body           498 non-null    object\n",
            " 6   Label                506 non-null    object\n",
            " 7   IP Address           511 non-null    object\n",
            " 8   Location             494 non-null    object\n",
            " 9   Sender Domain        500 non-null    object\n",
            " 10  Recipient Domain     500 non-null    object\n",
            " 11  Email Length         512 non-null    object\n",
            " 12  Attachments          504 non-null    object\n",
            " 13  Link Count           507 non-null    object\n",
            " 14  Suspicious Keywords  520 non-null    object\n",
            " 15  Sector               499 non-null    object\n",
            "dtypes: object(16)\n",
            "memory usage: 65.1+ KB\n",
            "None\n"
          ]
        }
      ]
    },
    {
      "cell_type": "code",
      "source": [
        "# Get the dimmensions of the DataFrame (rows, columns)\n",
        "data.shape"
      ],
      "metadata": {
        "colab": {
          "base_uri": "https://localhost:8080/"
        },
        "id": "-bafs1bIioGg",
        "outputId": "9419afd8-690e-4632-d34a-09c40bf8c77a"
      },
      "execution_count": null,
      "outputs": [
        {
          "output_type": "execute_result",
          "data": {
            "text/plain": [
              "(520, 16)"
            ]
          },
          "metadata": {},
          "execution_count": 24
        }
      ]
    },
    {
      "cell_type": "code",
      "source": [
        "# Overview of the DataFrame structure, including  data types and missing values\n",
        "data.info()\n"
      ],
      "metadata": {
        "colab": {
          "base_uri": "https://localhost:8080/"
        },
        "id": "XEzrS5s7i1JL",
        "outputId": "06ac7640-828f-4dfa-efbd-539354994e48"
      },
      "execution_count": null,
      "outputs": [
        {
          "output_type": "stream",
          "name": "stdout",
          "text": [
            "<class 'pandas.core.frame.DataFrame'>\n",
            "RangeIndex: 520 entries, 0 to 519\n",
            "Data columns (total 16 columns):\n",
            " #   Column               Non-Null Count  Dtype \n",
            "---  ------               --------------  ----- \n",
            " 0   Email ID             497 non-null    object\n",
            " 1   Timestamp            511 non-null    object\n",
            " 2   Sender Email         500 non-null    object\n",
            " 3   Recipient Email      500 non-null    object\n",
            " 4   Subject              500 non-null    object\n",
            " 5   Email Body           498 non-null    object\n",
            " 6   Label                506 non-null    object\n",
            " 7   IP Address           511 non-null    object\n",
            " 8   Location             494 non-null    object\n",
            " 9   Sender Domain        500 non-null    object\n",
            " 10  Recipient Domain     500 non-null    object\n",
            " 11  Email Length         512 non-null    object\n",
            " 12  Attachments          504 non-null    object\n",
            " 13  Link Count           507 non-null    object\n",
            " 14  Suspicious Keywords  520 non-null    object\n",
            " 15  Sector               499 non-null    object\n",
            "dtypes: object(16)\n",
            "memory usage: 65.1+ KB\n"
          ]
        }
      ]
    },
    {
      "cell_type": "code",
      "source": [
        "data.columns"
      ],
      "metadata": {
        "colab": {
          "base_uri": "https://localhost:8080/"
        },
        "id": "J2WVkpjLjLDh",
        "outputId": "8d520330-065c-4a6d-a38a-c69efb432c32"
      },
      "execution_count": null,
      "outputs": [
        {
          "output_type": "execute_result",
          "data": {
            "text/plain": [
              "Index(['Email ID', 'Timestamp', 'Sender Email', 'Recipient Email', 'Subject',\n",
              "       'Email Body', 'Label', 'IP Address', 'Location', 'Sender Domain',\n",
              "       'Recipient Domain', 'Email Length', 'Attachments', 'Link Count',\n",
              "       'Suspicious Keywords', 'Sector'],\n",
              "      dtype='object')"
            ]
          },
          "metadata": {},
          "execution_count": 26
        }
      ]
    },
    {
      "cell_type": "code",
      "source": [
        "#check missing values\n",
        "data.isna().sum()\n"
      ],
      "metadata": {
        "colab": {
          "base_uri": "https://localhost:8080/",
          "height": 585
        },
        "id": "Y1JbSBYCjOOW",
        "outputId": "733dda3e-ddc5-4bf1-ca16-2a85639464e9"
      },
      "execution_count": null,
      "outputs": [
        {
          "output_type": "execute_result",
          "data": {
            "text/plain": [
              "Email ID               23\n",
              "Timestamp               9\n",
              "Sender Email           20\n",
              "Recipient Email        20\n",
              "Subject                20\n",
              "Email Body             22\n",
              "Label                  14\n",
              "IP Address              9\n",
              "Location               26\n",
              "Sender Domain          20\n",
              "Recipient Domain       20\n",
              "Email Length            8\n",
              "Attachments            16\n",
              "Link Count             13\n",
              "Suspicious Keywords     0\n",
              "Sector                 21\n",
              "dtype: int64"
            ],
            "text/html": [
              "<div>\n",
              "<style scoped>\n",
              "    .dataframe tbody tr th:only-of-type {\n",
              "        vertical-align: middle;\n",
              "    }\n",
              "\n",
              "    .dataframe tbody tr th {\n",
              "        vertical-align: top;\n",
              "    }\n",
              "\n",
              "    .dataframe thead th {\n",
              "        text-align: right;\n",
              "    }\n",
              "</style>\n",
              "<table border=\"1\" class=\"dataframe\">\n",
              "  <thead>\n",
              "    <tr style=\"text-align: right;\">\n",
              "      <th></th>\n",
              "      <th>0</th>\n",
              "    </tr>\n",
              "  </thead>\n",
              "  <tbody>\n",
              "    <tr>\n",
              "      <th>Email ID</th>\n",
              "      <td>23</td>\n",
              "    </tr>\n",
              "    <tr>\n",
              "      <th>Timestamp</th>\n",
              "      <td>9</td>\n",
              "    </tr>\n",
              "    <tr>\n",
              "      <th>Sender Email</th>\n",
              "      <td>20</td>\n",
              "    </tr>\n",
              "    <tr>\n",
              "      <th>Recipient Email</th>\n",
              "      <td>20</td>\n",
              "    </tr>\n",
              "    <tr>\n",
              "      <th>Subject</th>\n",
              "      <td>20</td>\n",
              "    </tr>\n",
              "    <tr>\n",
              "      <th>Email Body</th>\n",
              "      <td>22</td>\n",
              "    </tr>\n",
              "    <tr>\n",
              "      <th>Label</th>\n",
              "      <td>14</td>\n",
              "    </tr>\n",
              "    <tr>\n",
              "      <th>IP Address</th>\n",
              "      <td>9</td>\n",
              "    </tr>\n",
              "    <tr>\n",
              "      <th>Location</th>\n",
              "      <td>26</td>\n",
              "    </tr>\n",
              "    <tr>\n",
              "      <th>Sender Domain</th>\n",
              "      <td>20</td>\n",
              "    </tr>\n",
              "    <tr>\n",
              "      <th>Recipient Domain</th>\n",
              "      <td>20</td>\n",
              "    </tr>\n",
              "    <tr>\n",
              "      <th>Email Length</th>\n",
              "      <td>8</td>\n",
              "    </tr>\n",
              "    <tr>\n",
              "      <th>Attachments</th>\n",
              "      <td>16</td>\n",
              "    </tr>\n",
              "    <tr>\n",
              "      <th>Link Count</th>\n",
              "      <td>13</td>\n",
              "    </tr>\n",
              "    <tr>\n",
              "      <th>Suspicious Keywords</th>\n",
              "      <td>0</td>\n",
              "    </tr>\n",
              "    <tr>\n",
              "      <th>Sector</th>\n",
              "      <td>21</td>\n",
              "    </tr>\n",
              "  </tbody>\n",
              "</table>\n",
              "</div><br><label><b>dtype:</b> int64</label>"
            ]
          },
          "metadata": {},
          "execution_count": 27
        }
      ]
    },
    {
      "cell_type": "code",
      "source": [
        "# Check the data duplication\n",
        "duplicates = data.duplicated()\n",
        "print(f\"Number of duplicate entries: {duplicates.sum()}\")"
      ],
      "metadata": {
        "colab": {
          "base_uri": "https://localhost:8080/"
        },
        "id": "HMXgDZlgjWsB",
        "outputId": "3593bc9a-17fc-46ec-c8d7-c6c0b0790620"
      },
      "execution_count": null,
      "outputs": [
        {
          "output_type": "stream",
          "name": "stdout",
          "text": [
            "Number of duplicate entries: 20\n"
          ]
        }
      ]
    },
    {
      "cell_type": "code",
      "source": [
        "df_dropdupli= data.drop_duplicates()"
      ],
      "metadata": {
        "id": "Wz9eYVe6r0in"
      },
      "execution_count": null,
      "outputs": []
    },
    {
      "cell_type": "code",
      "source": [
        "# Check the data duplication\n",
        "duplicates = df_dropdupli.duplicated()\n",
        "print(f\"Number of duplicate entries: {duplicates.sum()}\")"
      ],
      "metadata": {
        "colab": {
          "base_uri": "https://localhost:8080/"
        },
        "outputId": "f7d7f5aa-bbce-46ff-9563-525a72429b4b",
        "id": "Y2RRcR2rseO9"
      },
      "execution_count": null,
      "outputs": [
        {
          "output_type": "stream",
          "name": "stdout",
          "text": [
            "Number of duplicate entries: 0\n"
          ]
        }
      ]
    },
    {
      "cell_type": "code",
      "source": [],
      "metadata": {
        "id": "g4BUSeO6tBPK"
      },
      "execution_count": null,
      "outputs": []
    },
    {
      "cell_type": "code",
      "source": [
        "# Check for missing values in the dataset\n",
        "missing_values = data.isnull().sum()\n",
        "print(\"Missing values in each column:\")\n",
        "print(missing_values)\n"
      ],
      "metadata": {
        "colab": {
          "base_uri": "https://localhost:8080/"
        },
        "id": "30iycqHgkp2r",
        "outputId": "e1ef5101-92b8-4836-ff4e-8c9245549343"
      },
      "execution_count": null,
      "outputs": [
        {
          "output_type": "stream",
          "name": "stdout",
          "text": [
            "Missing values in each column:\n",
            "Email ID               23\n",
            "Timestamp               9\n",
            "Sender Email           20\n",
            "Recipient Email        20\n",
            "Subject                20\n",
            "Email Body             22\n",
            "Label                  14\n",
            "IP Address              9\n",
            "Location               26\n",
            "Sender Domain          20\n",
            "Recipient Domain       20\n",
            "Email Length            8\n",
            "Attachments            16\n",
            "Link Count             13\n",
            "Suspicious Keywords     0\n",
            "Sector                 21\n",
            "dtype: int64\n"
          ]
        }
      ]
    },
    {
      "cell_type": "code",
      "source": [
        "df = df.dropna()"
      ],
      "metadata": {
        "id": "Pr0vyls45Inn"
      },
      "execution_count": null,
      "outputs": []
    },
    {
      "cell_type": "code",
      "source": [
        "# Drop columns if the percentage of missing values is too high (e.g., over 50%)\n",
        "df = df.dropna(thresh=len(df) * 0.5, axis=1)\n"
      ],
      "metadata": {
        "id": "JwNUj-RatFtv"
      },
      "execution_count": null,
      "outputs": []
    },
    {
      "cell_type": "code",
      "source": [
        "missing_values = data.isnull().sum()\n",
        "print(\"Missing values in each column:\")\n",
        "print(missing_values)"
      ],
      "metadata": {
        "colab": {
          "base_uri": "https://localhost:8080/"
        },
        "id": "_iCoQJBc5vrZ",
        "outputId": "aac456ea-ea8f-42d4-dc8e-15c8bc3505b1"
      },
      "execution_count": null,
      "outputs": [
        {
          "output_type": "stream",
          "name": "stdout",
          "text": [
            "Missing values in each column:\n",
            "Category    0\n",
            "Value       0\n",
            "dtype: int64\n"
          ]
        }
      ]
    },
    {
      "cell_type": "code",
      "source": [
        "# Check the data types of each column\n",
        "print(\"Data types of each column:\")\n",
        "print(data.dtypes)\n"
      ],
      "metadata": {
        "colab": {
          "base_uri": "https://localhost:8080/"
        },
        "id": "PuxqlDr-lQqK",
        "outputId": "8b5bfed9-3a46-43ee-9d97-86244a078432"
      },
      "execution_count": null,
      "outputs": [
        {
          "output_type": "stream",
          "name": "stdout",
          "text": [
            "Data types of each column:\n",
            "Email ID               object\n",
            "Timestamp              object\n",
            "Sender Email           object\n",
            "Recipient Email        object\n",
            "Subject                object\n",
            "Email Body             object\n",
            "Label                  object\n",
            "IP Address             object\n",
            "Location               object\n",
            "Sender Domain          object\n",
            "Recipient Domain       object\n",
            "Email Length           object\n",
            "Attachments            object\n",
            "Link Count             object\n",
            "Suspicious Keywords    object\n",
            "Sector                 object\n",
            "dtype: object\n"
          ]
        }
      ]
    },
    {
      "cell_type": "code",
      "source": [],
      "metadata": {
        "id": "GXW3dIXRtK_T"
      },
      "execution_count": null,
      "outputs": []
    },
    {
      "cell_type": "code",
      "source": [
        "# Get a summary of the dataset (mean, median, min, max, etc.)\n",
        "print(\"Summary statistics for the dataset:\")\n",
        "print(data.describe())\n"
      ],
      "metadata": {
        "colab": {
          "base_uri": "https://localhost:8080/"
        },
        "id": "heyxzgrglTW7",
        "outputId": "7718cd6f-c4c5-4b56-d151-cf82ee400155"
      },
      "execution_count": null,
      "outputs": [
        {
          "output_type": "stream",
          "name": "stdout",
          "text": [
            "Summary statistics for the dataset:\n",
            "       Email ID Timestamp Sender Email Recipient Email Subject Email Body  \\\n",
            "count       497       511          500             500     500        498   \n",
            "unique      470       487          474             473     478        469   \n",
            "top       Error     Error        Error           Error   Error      Error   \n",
            "freq          8         4            6               7       3         10   \n",
            "\n",
            "           Label IP Address     Location Sender Domain Recipient Domain  \\\n",
            "count        506        511          494           500              500   \n",
            "unique         3        488          458             7                7   \n",
            "top     Phishing      Error  Heatherview     yahoo.com        gmail.com   \n",
            "freq         275          5            5           101               93   \n",
            "\n",
            "       Email Length Attachments Link Count Suspicious Keywords  Sector  \n",
            "count           512         504        507                 520     499  \n",
            "unique          174           5         11                 227       3  \n",
            "top               5           2          9             account  Retail  \n",
            "freq             10         144         58                  23     254  \n"
          ]
        }
      ]
    },
    {
      "cell_type": "code",
      "source": [
        "import pandas as pd\n",
        "from imblearn.over_sampling import SMOTE\n",
        "from collections import Counter\n",
        "from sklearn.preprocessing import LabelEncoder\n",
        "\n",
        "# Load your phishing dataset (uncomment and modify the file path as needed)\n",
        "# phishing_data = pd.read_csv('your_phishing_data.csv')\n",
        "\n",
        "# Check the first few rows of the dataset\n",
        "print(\"Original Dataset Preview:\")\n",
        "print(phishing_data.head())\n",
        "\n",
        "# Remove rows with 'Error' in the 'Label' column\n",
        "phishing_data = phishing_data[phishing_data['Label'] != 'Error']\n",
        "\n",
        "# Define the target variable and feature set\n",
        "y = phishing_data['Label']  # Target column\n",
        "X = phishing_data.drop(columns=['Label'])  # All other columns are features\n",
        "\n",
        "# Check the original class distribution\n",
        "print(\"Original class distribution:\", Counter(y))\n",
        "\n",
        "# Identify non-numeric columns\n",
        "non_numeric_columns = X.select_dtypes(include=['object']).columns\n",
        "print(\"Non-numeric columns:\", non_numeric_columns)\n",
        "\n",
        "# Convert non-numeric columns to numeric using Label Encoding\n",
        "label_encoders = {}\n",
        "for column in non_numeric_columns:\n",
        "    le = LabelEncoder()\n",
        "    X[column] = le.fit_transform(X[column])  # Apply label encoding\n",
        "    label_encoders[column] = le  # Store the encoder if you need to inverse transform later\n",
        "\n",
        "# Apply SMOTE to the data\n",
        "smote = SMOTE(random_state=42)\n",
        "X_resampled, y_resampled = smote.fit_resample(X, y)\n",
        "\n",
        "# Create a new DataFrame with the resampled data\n",
        "balanced_data = pd.DataFrame(X_resampled, columns=X.columns)\n",
        "balanced_data['Label'] = y_resampled\n",
        "\n",
        "# Check the new class distribution\n",
        "print(\"New class distribution:\", Counter(balanced_data['Label']))\n",
        "\n",
        "# Now you can use 'balanced_data' for your further analysis or modeling\n"
      ],
      "metadata": {
        "colab": {
          "base_uri": "https://localhost:8080/"
        },
        "id": "QMvwXcT-R0ip",
        "outputId": "cef3dfc1-18f4-43ce-81ea-8920454c69a8"
      },
      "execution_count": null,
      "outputs": [
        {
          "output_type": "stream",
          "name": "stdout",
          "text": [
            "Original Dataset Preview:\n",
            "                               Email ID Timestamp            Sender Email  \\\n",
            "0  bd510c2e-e9ea-432c-a171-6a83b79e65d7   32:22.4   otyler@protonmail.com   \n",
            "1  73dfe436-8485-49f0-9635-8538046c6295   36:26.4    nicole77@outlook.com   \n",
            "2  2aad94e0-da9b-437c-be61-49667db5d762   06:52.9  daniellesoto@gmail.com   \n",
            "3  b4fca1ca-22af-4f15-bfee-e7d7adf159e3   27:21.0    mathissean@yahoo.com   \n",
            "4  4a3461a1-6535-42ce-991d-13adf28b8e52   34:03.8    morrishannah@aol.com   \n",
            "\n",
            "            Recipient Email                                       Subject  \\\n",
            "0  sarahkemp@protonmail.com  National man although for sell thought star.   \n",
            "1          pkelly@yahoo.com   World matter eat year agent soldier energy.   \n",
            "2   mferrell@protonmail.com              Financial responsibility attack.   \n",
            "3     patrickgarcia@aol.com        Night show either various group young.   \n",
            "4        vchavez@icloud.com                                         Error   \n",
            "\n",
            "                                          Email Body       Label  \\\n",
            "0  Indeed government born happen. Realize last be...  Legitimate   \n",
            "1  Over treatment agree contain style. Hospital c...    Phishing   \n",
            "2  Lose offer create develop well apply today mou...    Phishing   \n",
            "3  Discuss offer method. Memory while make. Amoun...    Phishing   \n",
            "4  Movie kitchen health kind which policy. Civil ...    Phishing   \n",
            "\n",
            "        IP Address             Location   Sender Domain Recipient Domain  \\\n",
            "0  208.190.144.153             Juantown  protonmail.com   protonmail.com   \n",
            "1      8.210.9.207           New Justin     outlook.com        yahoo.com   \n",
            "2     59.219.62.29            Knoxville       gmail.com   protonmail.com   \n",
            "3     213.99.88.75       East Andreaton       yahoo.com          aol.com   \n",
            "4   90.196.229.178  South Elizabethbury         aol.com       icloud.com   \n",
            "\n",
            "  Email Length Attachments Link Count Suspicious Keywords      Sector  \n",
            "0           96           2          6       click, urgent  Healthcare  \n",
            "1          222           1          4       click, secure      Retail  \n",
            "2          132           2          0             confirm       Error  \n",
            "3          119           2          0     account, update      Retail  \n",
            "4          132           2          7      urgent, verify      Retail  \n",
            "Original class distribution: Counter({'Phishing': 285, 'Legitimate': 223})\n",
            "Non-numeric columns: Index(['Email ID', 'Timestamp', 'Sender Email', 'Recipient Email', 'Subject',\n",
            "       'Email Body', 'IP Address', 'Location', 'Sender Domain',\n",
            "       'Recipient Domain', 'Email Length', 'Attachments', 'Link Count',\n",
            "       'Suspicious Keywords', 'Sector'],\n",
            "      dtype='object')\n",
            "New class distribution: Counter({'Legitimate': 285, 'Phishing': 285})\n"
          ]
        }
      ]
    },
    {
      "cell_type": "code",
      "source": [
        "df = pd.read_csv('/content/gdrive/MyDrive/DA/DA Assignment/Retail_Cyber_Security_Dataset.csv')"
      ],
      "metadata": {
        "id": "xQ8rs_AXlHGb"
      },
      "execution_count": null,
      "outputs": []
    },
    {
      "cell_type": "code",
      "source": [
        "print(df.head())"
      ],
      "metadata": {
        "id": "VmdOurkTSatN",
        "colab": {
          "base_uri": "https://localhost:8080/"
        },
        "outputId": "04dad5b6-6d73-4288-d281-8450462f2ae5"
      },
      "execution_count": null,
      "outputs": [
        {
          "output_type": "stream",
          "name": "stdout",
          "text": [
            "  Timestamp                        Transaction ID  \\\n",
            "0   01:47.5  32d3d0c1-fe44-4cb2-8c43-a232cf04648f   \n",
            "1   56:32.2  1cdd8017-320f-4911-95a0-6ea4bd41bfbb   \n",
            "2   43:28.8  c86c2a93-b5f7-45f8-ac6e-e48bb0dbbf2c   \n",
            "3   51:05.9  b6fac515-76d7-492a-a7fc-b253a6872701   \n",
            "4   45:19.6  267f34b4-5135-4aa2-a3d2-7308ea296c67   \n",
            "\n",
            "                            Customer ID                            Product ID  \\\n",
            "0  de745b60-1988-4479-a3e1-a512f8cce0a0  ae7fe110-9a74-48b3-8c0d-6c272799853f   \n",
            "1  6407892a-608f-4d8d-b365-12afce2d5b4a  2f29dc27-4c45-4ed1-814d-7ce66cc6e556   \n",
            "2  e417e111-b0d3-4bf2-a184-c47e98f5eeec  59f94840-3d23-4373-bd7a-26a22cf748c4   \n",
            "3  02a2eeae-f09b-4345-817d-4164e8cd8d65  35a221f7-8166-4d53-ad7f-d64260ebd5be   \n",
            "4  34fd96b4-5a84-47b6-91b8-5375a12e10bb  f4fb3402-4dbe-404e-8c2e-ad8eef6b9543   \n",
            "\n",
            "  Product Category  Amount Payment Method Transaction Status       IP Address  \\\n",
            "0          Apparel  301.38    Credit Card          Completed      97.239.8.82   \n",
            "1        Furniture  611.88         PayPal          Completed   203.145.128.42   \n",
            "2             Toys  845.26     Debit Card             Failed    64.140.94.135   \n",
            "3        Groceries  104.78     Debit Card            Pending    84.49.207.125   \n",
            "4        Groceries  502.98  Bank Transfer            Pending  208.178.132.250   \n",
            "\n",
            "      Location Device Type  Session Duration Anomaly Indicator  \n",
            "0      Phoenix      Tablet               667               Yes  \n",
            "1      Houston      Mobile              1973               Yes  \n",
            "2  Los Angeles     Desktop               363               Yes  \n",
            "3      Chicago      Tablet               723                No  \n",
            "4     New York     Desktop              2436               Yes  \n"
          ]
        }
      ]
    },
    {
      "cell_type": "code",
      "source": [
        "mean_sales = df['Amount'].mean()\n",
        "print(\"Mean Sales Amount:\", mean_sales)\n",
        "\n",
        "# Group data by Product Category and calculate total sales for each category\n",
        "category_sales = df.groupby('Product Category')['Amount'].sum()\n",
        "\n",
        "# Plot a bar chart for product category sales\n",
        "category_sales.plot(kind='bar', title='Sales Distribution by Product Category')\n",
        "plt.xlabel('Product Category')\n",
        "plt.ylabel('Total Sales Amount')\n",
        "plt.show()"
      ],
      "metadata": {
        "colab": {
          "base_uri": "https://localhost:8080/",
          "height": 550
        },
        "id": "SgP0PEtoluoM",
        "outputId": "4a14f9fc-1228-4f34-abf0-ab2749724925"
      },
      "execution_count": null,
      "outputs": [
        {
          "output_type": "stream",
          "name": "stdout",
          "text": [
            "Mean Sales Amount: 517.64193\n"
          ]
        },
        {
          "output_type": "display_data",
          "data": {
            "text/plain": [
              "<Figure size 640x480 with 1 Axes>"
            ],
            "image/png": "[encoded data removed]"
          },
          "metadata": {}
        }
      ]
    },
    {
      "cell_type": "code",
      "source": [
        "import pandas as pd\n",
        "import numpy as np\n",
        "from sklearn.linear_model import LinearRegression\n",
        "from sklearn.preprocessing import LabelEncoder"
      ],
      "metadata": {
        "id": "vuOel96Yor_t"
      },
      "execution_count": null,
      "outputs": []
    },
    {
      "cell_type": "code",
      "source": [
        "import pandas as pd\n",
        "import numpy as np\n",
        "from sklearn.linear_model import LinearRegression\n",
        "from sklearn.preprocessing import LabelEncoder\n",
        "\n",
        "# Sample dataset\n",
        "data = {\n",
        "    'Timestamp': ['01:47.5', '56:32.2', '43:28.8', '51:05.9', '45:19.6'],\n",
        "    'Transaction ID': ['32d3d0c1-fe44-4cb2-8c43-a232cf04648f', '1cdd8017-320f-4911-95a0-6ea4bd41bfbb',\n",
        "                       'c86c2a93-b5f7-45f8-ac6e-e48bb0dbbf2c', 'b6fac515-76d7-492a-a7fc-b253a6872701',\n",
        "                       '267f34b4-5135-4aa2-a3d2-7308ea296c67'],\n",
        "    'Product Category': ['Apparel', 'Furniture', 'Toys', 'Groceries', 'Groceries'],\n",
        "    'Payment Method': ['Credit Card', 'PayPal', 'Debit Card', 'Debit Card', 'Bank Transfer'],\n",
        "    'Transaction Status': ['Completed', 'Completed', 'Failed', 'Pending', 'Pending'],\n",
        "    'Location': ['Phoenix', 'Houston', 'Los Angeles', 'Chicago', 'New York'],\n",
        "    'Device Type': ['Tablet', 'Mobile', 'Desktop', 'Tablet', 'Desktop'],\n",
        "    'Session Duration': [667, 1973, 363, 723, 2436],\n",
        "    'Anomaly Indicator': ['Yes', 'Yes', 'Yes', 'No', 'Yes']\n",
        "}\n",
        "\n",
        "# Convert the dictionary to a DataFrame\n",
        "df = pd.DataFrame(data)\n",
        "\n",
        "# Encode the 'Transaction Status' column to numeric values\n",
        "le = LabelEncoder()\n",
        "df['Transaction Status Encoded'] = le.fit_transform(df['Transaction Status'])\n",
        "\n",
        "# Checking if encoding was successful\n",
        "print(df[['Transaction Status', 'Transaction Status Encoded']])\n",
        "\n",
        "# Independent variable (encoded 'Transaction Status') and Dependent variable (Session Duration)\n",
        "X = df['Transaction Status Encoded'].values.reshape(-1, 1)  # Feature (encoded Transaction Status)\n",
        "y = df['Session Duration'].values  # Target variable (Session Duration)\n",
        "\n",
        "# Train a simple linear regression model\n",
        "model = LinearRegression().fit(X, y)\n",
        "\n",
        "# Make a prediction (for a 'Transaction Status' encoded as 1, which might represent 'Completed')\n",
        "prediction = model.predict([[1]])  # '1' could represent 'Completed' (check the encoding mapping)\n",
        "\n",
        "print(\"Predicted Session Duration for Transaction Status = 1:\", prediction[0])\n"
      ],
      "metadata": {
        "colab": {
          "base_uri": "https://localhost:8080/"
        },
        "id": "ewhVjQoJpCQX",
        "outputId": "8fb584aa-83d4-4de8-cfc7-8129f52039f9"
      },
      "execution_count": null,
      "outputs": [
        {
          "output_type": "stream",
          "name": "stdout",
          "text": [
            "  Transaction Status  Transaction Status Encoded\n",
            "0          Completed                           0\n",
            "1          Completed                           0\n",
            "2             Failed                           1\n",
            "3            Pending                           2\n",
            "4            Pending                           2\n",
            "Predicted Session Duration for Transaction Status = 1: 1232.4\n"
          ]
        }
      ]
    },
    {
      "cell_type": "code",
      "source": [
        "from scipy.optimize import linprog\n",
        "\n",
        "# Example: Minimize cost (objective function: c)\n",
        "c = [1, 2]  # Costs\n",
        "A = [[1, 1], [2, 1]]  # Constraints coefficients\n",
        "b = [4, 5]  # Constraints bounds\n",
        "\n",
        "result = linprog(c, A_ub=A, b_ub=b, method='highs')\n",
        "print(\"Optimal solution:\", result.x)\n"
      ],
      "metadata": {
        "id": "SYh6bhpLppsO",
        "outputId": "41ff1a15-8441-4b65-b023-d6b7a0fb4e41",
        "colab": {
          "base_uri": "https://localhost:8080/"
        }
      },
      "execution_count": null,
      "outputs": [
        {
          "output_type": "stream",
          "name": "stdout",
          "text": [
            "Optimal solution: [0. 0.]\n"
          ]
        }
      ]
    },
    {
      "cell_type": "code",
      "source": [
        "print(data_cleaned.columns)\n"
      ],
      "metadata": {
        "colab": {
          "base_uri": "https://localhost:8080/"
        },
        "id": "mDeWrTJk8Dl2",
        "outputId": "1250dd8d-5a7e-4a66-d014-e155950973de"
      },
      "execution_count": null,
      "outputs": [
        {
          "output_type": "stream",
          "name": "stdout",
          "text": [
            "Index(['Email ID', 'Timestamp', 'Sender Email', 'Recipient Email', 'Subject',\n",
            "       'Email Body', 'Label', 'IP Address', 'Location', 'Sender Domain',\n",
            "       'Recipient Domain', 'Email Length', 'Attachments', 'Link Count',\n",
            "       'Suspicious Keywords', 'Sector'],\n",
            "      dtype='object')\n"
          ]
        }
      ]
    },
    {
      "source": [
        "import pandas as pd\n",
        "\n",
        "# Assuming data_cleaned is your DataFrame\n",
        "\n",
        "# Function to parse custom time format\n",
        "def parse_time(time_str):\n",
        "    \"\"\"Parses time strings in the format 'HH:MM.S' where HH can be greater than 23.\n",
        "\n",
        "    Args:\n",
        "        time_str: The time string to parse.\n",
        "\n",
        "    Returns:\n",
        "        A pandas Timestamp object if parsing is successful, otherwise the original string.\n",
        "    \"\"\"\n",
        "    # Convert time_str to string"
      ],
      "cell_type": "code",
      "metadata": {
        "id": "3cNgcNSB8eAo"
      },
      "execution_count": null,
      "outputs": []
    },
    {
      "cell_type": "code",
      "source": [
        "import pandas as pd\n",
        "\n",
        "# Load the phishing dataset\n",
        "file_path = '/content/gdrive/MyDrive/DA/DA Assignment/Phishing_Email_Dataset_Ucl.csv'  # Update with your actual file path\n",
        "data = pd.read_csv(file_path)\n",
        "\n",
        "# Initial inspection\n",
        "print(\"Initial Dataset Info:\")\n",
        "print(data.info())\n",
        "print(\"\\nMissing Values:\\n\", data.isnull().sum())\n",
        "\n",
        "# Handle missing values\n",
        "data['Email Body'].fillna('', inplace=True)  # Fill missing email body with empty string\n",
        "data['IP Address'].fillna('Unknown', inplace=True)  # Replace missing IPs with 'Unknown'\n",
        "\n",
        "# Remove duplicates\n",
        "data_cleaned = data.drop_duplicates()\n",
        "\n",
        "# Clean the Timestamp column\n",
        "def clean_timestamp(value):\n",
        "    try:\n",
        "        return pd.to_datetime(value)\n",
        "    except Exception:\n",
        "        return pd.NaT  # Assign as NaT (Not a Time) for invalid timestamps\n",
        "\n",
        "data_cleaned['Timestamp'] = data_cleaned['Timestamp'].apply(clean_timestamp)\n",
        "\n",
        "# Check for and handle invalid Timestamps\n",
        "invalid_timestamps = data_cleaned['Timestamp'].isna().sum()\n",
        "print(f\"Number of invalid Timestamps: {invalid_timestamps}\")\n",
        "\n",
        "# Drop rows with invalid Timestamps\n",
        "data_cleaned = data_cleaned.dropna(subset=['Timestamp'])\n",
        "\n",
        "# Save the cleaned dataset\n",
        "cleaned_file_path = 'cleaned_phishing_dataset.csv'\n",
        "data_cleaned.to_csv(cleaned_file_path, index=False)\n",
        "\n",
        "print(\"\\nData Cleaning Completed. Cleaned dataset saved.\")\n"
      ],
      "metadata": {
        "colab": {
          "base_uri": "https://localhost:8080/"
        },
        "id": "T7-LsFEw-Gm5",
        "outputId": "c2477c97-6d47-4bcf-9302-8db91aaf3097"
      },
      "execution_count": null,
      "outputs": [
        {
          "output_type": "stream",
          "name": "stdout",
          "text": [
            "Initial Dataset Info:\n",
            "<class 'pandas.core.frame.DataFrame'>\n",
            "RangeIndex: 520 entries, 0 to 519\n",
            "Data columns (total 16 columns):\n",
            " #   Column               Non-Null Count  Dtype \n",
            "---  ------               --------------  ----- \n",
            " 0   Email ID             497 non-null    object\n",
            " 1   Timestamp            511 non-null    object\n",
            " 2   Sender Email         500 non-null    object\n",
            " 3   Recipient Email      500 non-null    object\n",
            " 4   Subject              500 non-null    object\n",
            " 5   Email Body           498 non-null    object\n",
            " 6   Label                506 non-null    object\n",
            " 7   IP Address           511 non-null    object\n",
            " 8   Location             494 non-null    object\n",
            " 9   Sender Domain        500 non-null    object\n",
            " 10  Recipient Domain     500 non-null    object\n",
            " 11  Email Length         512 non-null    object\n",
            " 12  Attachments          504 non-null    object\n",
            " 13  Link Count           507 non-null    object\n",
            " 14  Suspicious Keywords  520 non-null    object\n",
            " 15  Sector               499 non-null    object\n",
            "dtypes: object(16)\n",
            "memory usage: 65.1+ KB\n",
            "None\n",
            "\n",
            "Missing Values:\n",
            " Email ID               23\n",
            "Timestamp               9\n",
            "Sender Email           20\n",
            "Recipient Email        20\n",
            "Subject                20\n",
            "Email Body             22\n",
            "Label                  14\n",
            "IP Address              9\n",
            "Location               26\n",
            "Sender Domain          20\n",
            "Recipient Domain       20\n",
            "Email Length            8\n",
            "Attachments            16\n",
            "Link Count             13\n",
            "Suspicious Keywords     0\n",
            "Sector                 21\n",
            "dtype: int64\n",
            "Number of invalid Timestamps: 319\n",
            "\n",
            "Data Cleaning Completed. Cleaned dataset saved.\n"
          ]
        }
      ]
    },
    {
      "cell_type": "code",
      "source": [
        "import matplotlib.pyplot as plt\n",
        "\n",
        "# Ensure 'Label' is cleaned\n",
        "data_cleaned['Label'] = data_cleaned['Label'].str.strip().str.lower()\n",
        "\n",
        "# Group by sender domain and count phishing emails\n",
        "sender_analysis = data_cleaned[data_cleaned['Label'] == 'phishing'].groupby('Sender Domain').size().sort_values(ascending=False).head(10)\n",
        "\n",
        "# Check if sender_analysis is empty\n",
        "if sender_analysis.empty:\n",
        "    print(\"No phishing emails found in the dataset for sender domain analysis.\")\n",
        "else:\n",
        "    # Plot top 10 phishing sender domains\n",
        "    sender_analysis.plot(kind='bar', title='Top 10 Phishing Sender Domains', ylabel='Count', color='skyblue')\n",
        "    plt.xlabel(\"Sender Domain\")\n",
        "    plt.ylabel(\"Count\")\n",
        "    plt.xticks(rotation=45)\n",
        "    plt.tight_layout()\n",
        "    plt.show()\n"
      ],
      "metadata": {
        "colab": {
          "base_uri": "https://localhost:8080/",
          "height": 487
        },
        "id": "kFKEFYeX-zpN",
        "outputId": "a15a7a4b-0dc6-4239-ee88-afafe69b3d1d"
      },
      "execution_count": null,
      "outputs": [
        {
          "output_type": "display_data",
          "data": {
            "text/plain": [
              "<Figure size 640x480 with 1 Axes>"
            ],
            "image/png": "[encoded data removed]"
          },
          "metadata": {}
        }
      ]
    },
    {
      "cell_type": "code",
      "source": [
        "import matplotlib.pyplot as plt\n",
        "\n",
        "# Ensure 'Email Length' is numeric\n",
        "data_cleaned['Email Length'] = pd.to_numeric(data_cleaned['Email Length'], errors='coerce')\n",
        "\n",
        "# Check for and remove rows with NaN in 'Email Length'\n",
        "invalid_lengths = data_cleaned['Email Length'].isna().sum()\n",
        "print(f\"Number of invalid email lengths: {invalid_lengths}\")\n",
        "\n",
        "data_cleaned = data_cleaned.dropna(subset=['Email Length'])\n",
        "\n",
        "# Boxplot for 'Email Length' by 'Label'\n",
        "try:\n",
        "    data_cleaned.boxplot(column='Email Length', by='Label', grid=False, patch_artist=True)\n",
        "    plt.title('Email Length Distribution by Type')\n",
        "    plt.suptitle(\"\")  # Removes default title added by boxplot\n",
        "    plt.xlabel('Email Type (Label)')\n",
        "    plt.ylabel('Email Length')\n",
        "    plt.show()\n",
        "except Exception as e:\n",
        "    print(f\"Error while plotting: {e}\")\n"
      ],
      "metadata": {
        "colab": {
          "base_uri": "https://localhost:8080/",
          "height": 479
        },
        "id": "W0U0rUhaAdtz",
        "outputId": "153b8990-264b-4ccc-9846-ce9f0c106898"
      },
      "execution_count": null,
      "outputs": [
        {
          "output_type": "stream",
          "name": "stdout",
          "text": [
            "Number of invalid email lengths: 9\n"
          ]
        },
        {
          "output_type": "display_data",
          "data": {
            "text/plain": [
              "<Figure size 640x480 with 1 Axes>"
            ],
            "image/png": "[encoded data removed]"
          },
          "metadata": {}
        }
      ]
    },
    {
      "cell_type": "code",
      "source": [
        "# Count occurrences of IPs for phishing emails\n",
        "ip_analysis = data_cleaned[data_cleaned['Label'] == 'phishing']['IP Address'].value_counts().head(10)\n",
        "\n",
        "# Display top IPs associated with phishing emails\n",
        "print(\"\\nTop IP Addresses Associated with Phishing:\\n\", ip_analysis)\n"
      ],
      "metadata": {
        "colab": {
          "base_uri": "https://localhost:8080/"
        },
        "id": "XuEfcF9rA3Uf",
        "outputId": "ba678d8e-4e97-4f99-9d70-d35fda90bdc4"
      },
      "execution_count": null,
      "outputs": [
        {
          "output_type": "stream",
          "name": "stdout",
          "text": [
            "\n",
            "Top IP Addresses Associated with Phishing:\n",
            " IP Address\n",
            "Unknown           3\n",
            "Error             2\n",
            "38.148.18.151     1\n",
            "44.104.211.33     1\n",
            "166.96.233.6      1\n",
            "9.239.1.198       1\n",
            "59.168.104.136    1\n",
            "93.254.196.130    1\n",
            "44.204.58.195     1\n",
            "83.24.153.186     1\n",
            "Name: count, dtype: int64\n"
          ]
        }
      ]
    },
    {
      "cell_type": "code",
      "source": [
        "# Save flagged emails locally\n",
        "suspicious_emails.write.csv(\"suspicious_emails.csv\", header=True, mode=\"overwrite\")\n",
        "print(\"\\nBig Data Analysis Completed and Results Saved.\")\n"
      ],
      "metadata": {
        "colab": {
          "base_uri": "https://localhost:8080/"
        },
        "id": "UfLloa_vCAac",
        "outputId": "4dc9fa8f-b0a5-4ec8-d95e-46dda6deee2f"
      },
      "execution_count": null,
      "outputs": [
        {
          "output_type": "stream",
          "name": "stdout",
          "text": [
            "\n",
            "Big Data Analysis Completed and Results Saved.\n"
          ]
        }
      ]
    },
    {
      "cell_type": "code",
      "source": [
        "data_cleaned.dtypes\n"
      ],
      "metadata": {
        "colab": {
          "base_uri": "https://localhost:8080/",
          "height": 585
        },
        "id": "n_f7kbJaH_NE",
        "outputId": "417da76f-96ea-4838-ee2d-2cb84a613a03"
      },
      "execution_count": null,
      "outputs": [
        {
          "output_type": "execute_result",
          "data": {
            "text/plain": [
              "Email ID                object\n",
              "Timestamp               object\n",
              "Sender Email            object\n",
              "Recipient Email         object\n",
              "Subject                 object\n",
              "Email Body              object\n",
              "Label                   object\n",
              "IP Address              object\n",
              "Location                object\n",
              "Sender Domain           object\n",
              "Recipient Domain        object\n",
              "Email Length           float64\n",
              "Attachments             object\n",
              "Link Count              object\n",
              "Suspicious Keywords     object\n",
              "Sector                  object\n",
              "dtype: object"
            ],
            "text/html": [
              "<div>\n",
              "<style scoped>\n",
              "    .dataframe tbody tr th:only-of-type {\n",
              "        vertical-align: middle;\n",
              "    }\n",
              "\n",
              "    .dataframe tbody tr th {\n",
              "        vertical-align: top;\n",
              "    }\n",
              "\n",
              "    .dataframe thead th {\n",
              "        text-align: right;\n",
              "    }\n",
              "</style>\n",
              "<table border=\"1\" class=\"dataframe\">\n",
              "  <thead>\n",
              "    <tr style=\"text-align: right;\">\n",
              "      <th></th>\n",
              "      <th>0</th>\n",
              "    </tr>\n",
              "  </thead>\n",
              "  <tbody>\n",
              "    <tr>\n",
              "      <th>Email ID</th>\n",
              "      <td>object</td>\n",
              "    </tr>\n",
              "    <tr>\n",
              "      <th>Timestamp</th>\n",
              "      <td>object</td>\n",
              "    </tr>\n",
              "    <tr>\n",
              "      <th>Sender Email</th>\n",
              "      <td>object</td>\n",
              "    </tr>\n",
              "    <tr>\n",
              "      <th>Recipient Email</th>\n",
              "      <td>object</td>\n",
              "    </tr>\n",
              "    <tr>\n",
              "      <th>Subject</th>\n",
              "      <td>object</td>\n",
              "    </tr>\n",
              "    <tr>\n",
              "      <th>Email Body</th>\n",
              "      <td>object</td>\n",
              "    </tr>\n",
              "    <tr>\n",
              "      <th>Label</th>\n",
              "      <td>object</td>\n",
              "    </tr>\n",
              "    <tr>\n",
              "      <th>IP Address</th>\n",
              "      <td>object</td>\n",
              "    </tr>\n",
              "    <tr>\n",
              "      <th>Location</th>\n",
              "      <td>object</td>\n",
              "    </tr>\n",
              "    <tr>\n",
              "      <th>Sender Domain</th>\n",
              "      <td>object</td>\n",
              "    </tr>\n",
              "    <tr>\n",
              "      <th>Recipient Domain</th>\n",
              "      <td>object</td>\n",
              "    </tr>\n",
              "    <tr>\n",
              "      <th>Email Length</th>\n",
              "      <td>float64</td>\n",
              "    </tr>\n",
              "    <tr>\n",
              "      <th>Attachments</th>\n",
              "      <td>object</td>\n",
              "    </tr>\n",
              "    <tr>\n",
              "      <th>Link Count</th>\n",
              "      <td>object</td>\n",
              "    </tr>\n",
              "    <tr>\n",
              "      <th>Suspicious Keywords</th>\n",
              "      <td>object</td>\n",
              "    </tr>\n",
              "    <tr>\n",
              "      <th>Sector</th>\n",
              "      <td>object</td>\n",
              "    </tr>\n",
              "  </tbody>\n",
              "</table>\n",
              "</div><br><label><b>dtype:</b> object</label>"
            ]
          },
          "metadata": {},
          "execution_count": 40
        }
      ]
    },
    {
      "cell_type": "code",
      "source": [
        "import pandas as pd\n",
        "\n",
        "# Assuming 'data_cleaned' is your DataFrame\n",
        "\n",
        "# Convert 'Timestamp' to datetime\n",
        "data_cleaned['Timestamp'] = pd.to_datetime(data_cleaned['Timestamp'], errors='coerce')\n",
        "\n",
        "# Convert 'Link Count' and 'Email Length' to numeric (float)\n",
        "data_cleaned['Link Count'] = pd.to_numeric(data_cleaned['Link Count'], errors='coerce')\n",
        "data_cleaned['Email Length'] = pd.to_numeric(data_cleaned['Email Length'], errors='coerce')\n",
        "\n",
        "# Ensure 'Suspicious Keywords' is treated as string\n",
        "data_cleaned['Suspicious Keywords'] = data_cleaned['Suspicious Keywords'].astype(str)\n",
        "\n",
        "# Check the updated data types\n",
        "print(data_cleaned.dtypes)\n"
      ],
      "metadata": {
        "colab": {
          "base_uri": "https://localhost:8080/"
        },
        "id": "Hxn0a1mBIT05",
        "outputId": "90c1cf15-471c-4a58-d9e9-611060c9921d"
      },
      "execution_count": null,
      "outputs": [
        {
          "output_type": "stream",
          "name": "stdout",
          "text": [
            "Email ID                       object\n",
            "Timestamp              datetime64[ns]\n",
            "Sender Email                   object\n",
            "Recipient Email                object\n",
            "Subject                        object\n",
            "Email Body                     object\n",
            "Label                          object\n",
            "IP Address                     object\n",
            "Location                       object\n",
            "Sender Domain                  object\n",
            "Recipient Domain               object\n",
            "Email Length                  float64\n",
            "Attachments                    object\n",
            "Link Count                    float64\n",
            "Suspicious Keywords            object\n",
            "Sector                         object\n",
            "dtype: object\n"
          ]
        }
      ]
    },
    {
      "cell_type": "code",
      "source": [
        "data_cleaned['Link Count'] = data_cleaned['Link Count'].fillna(0)\n",
        "data_cleaned['Email Length'] = data_cleaned['Email Length'].fillna(0)\n",
        "data_cleaned['Suspicious Keywords'] = data_cleaned['Suspicious Keywords'].fillna('None')\n"
      ],
      "metadata": {
        "id": "-8qh7kVXIVaE"
      },
      "execution_count": null,
      "outputs": []
    },
    {
      "cell_type": "code",
      "source": [
        "data_cleaned = data_cleaned.dropna(subset=['Link Count', 'Email Length', 'Suspicious Keywords'])\n"
      ],
      "metadata": {
        "id": "luQxMEDOIYB-"
      },
      "execution_count": null,
      "outputs": []
    },
    {
      "cell_type": "code",
      "source": [
        "# Check the data types again\n",
        "print(data_cleaned.dtypes)\n",
        "\n",
        "# Check for any missing values\n",
        "print(data_cleaned.isnull().sum())\n"
      ],
      "metadata": {
        "colab": {
          "base_uri": "https://localhost:8080/"
        },
        "id": "WdtZfLmHImcy",
        "outputId": "5e954ca3-2922-48ac-f6d1-9f233dc8ded5"
      },
      "execution_count": null,
      "outputs": [
        {
          "output_type": "stream",
          "name": "stdout",
          "text": [
            "Email ID                       object\n",
            "Timestamp              datetime64[ns]\n",
            "Sender Email                   object\n",
            "Recipient Email                object\n",
            "Subject                        object\n",
            "Email Body                     object\n",
            "Label                          object\n",
            "IP Address                     object\n",
            "Location                       object\n",
            "Sender Domain                  object\n",
            "Recipient Domain               object\n",
            "Email Length                  float64\n",
            "Attachments                    object\n",
            "Link Count                    float64\n",
            "Suspicious Keywords            object\n",
            "Sector                         object\n",
            "dtype: object\n",
            "Email ID                23\n",
            "Timestamp              313\n",
            "Sender Email            19\n",
            "Recipient Email         20\n",
            "Subject                 20\n",
            "Email Body               0\n",
            "Label                   14\n",
            "IP Address               0\n",
            "Location                25\n",
            "Sender Domain           19\n",
            "Recipient Domain        20\n",
            "Email Length             0\n",
            "Attachments             16\n",
            "Link Count               0\n",
            "Suspicious Keywords      0\n",
            "Sector                  19\n",
            "dtype: int64\n"
          ]
        }
      ]
    },
    {
      "cell_type": "code",
      "source": [
        "# Convert 'Timestamp' to datetime\n",
        "data_cleaned['Timestamp'] = pd.to_datetime(data_cleaned['Timestamp'], errors='coerce')\n",
        "\n",
        "# Convert 'Link Count' and 'Email Length' to numeric (int or float)\n",
        "data_cleaned['Link Count'] = pd.to_numeric(data_cleaned['Link Count'], errors='coerce')\n",
        "data_cleaned['Email Length'] = pd.to_numeric(data_cleaned['Email Length'], errors='coerce')\n",
        "\n",
        "# Ensure 'Suspicious Keywords' is a string (if it contains keywords)\n",
        "data_cleaned['Suspicious Keywords'] = data_cleaned['Suspicious Keywords'].astype(str)\n",
        "\n",
        "# Check the data types\n",
        "print(data_cleaned.dtypes)\n"
      ],
      "metadata": {
        "colab": {
          "base_uri": "https://localhost:8080/"
        },
        "id": "ZRYTvomKItbc",
        "outputId": "0557178b-3c25-4892-9dd8-9306dcd35830"
      },
      "execution_count": null,
      "outputs": [
        {
          "output_type": "stream",
          "name": "stdout",
          "text": [
            "Email ID                       object\n",
            "Timestamp              datetime64[ns]\n",
            "Sender Email                   object\n",
            "Recipient Email                object\n",
            "Subject                        object\n",
            "Email Body                     object\n",
            "Label                          object\n",
            "IP Address                     object\n",
            "Location                       object\n",
            "Sender Domain                  object\n",
            "Recipient Domain               object\n",
            "Email Length                  float64\n",
            "Attachments                    object\n",
            "Link Count                    float64\n",
            "Suspicious Keywords            object\n",
            "Sector                         object\n",
            "dtype: object\n"
          ]
        }
      ]
    },
    {
      "cell_type": "code",
      "source": [
        "# Fill missing values or drop rows with missing values\n",
        "data_cleaned = data_cleaned.fillna({'Link Count': 0, 'Email Length': 0})  # Fill with 0\n",
        "# or\n",
        "data_cleaned = data_cleaned.dropna()  # Drop rows with missing values\n"
      ],
      "metadata": {
        "id": "ecQCuUDwIvfr"
      },
      "execution_count": null,
      "outputs": []
    },
    {
      "cell_type": "code",
      "source": [
        "import pandas as pd\n",
        "\n",
        "# Load your dataset\n",
        "data_cleaned = pd.read_csv('/content/gdrive/MyDrive/DA/DA Assignment/Phishing_Email_Dataset_Ucl.csv')  # Replace with the correct path\n"
      ],
      "metadata": {
        "id": "3IPrT49o0shW"
      },
      "execution_count": null,
      "outputs": []
    },
    {
      "cell_type": "code",
      "source": [
        "print(data_cleaned[data_cleaned['Sender Domain'] == 'Error'])\n"
      ],
      "metadata": {
        "colab": {
          "base_uri": "https://localhost:8080/"
        },
        "id": "L4UT8YoU1c_Y",
        "outputId": "18c25e8d-aab6-4b8a-c2ae-b1bc3f072efa"
      },
      "execution_count": null,
      "outputs": [
        {
          "output_type": "stream",
          "name": "stdout",
          "text": [
            "                                 Email ID Timestamp Sender Email  \\\n",
            "37   78159d46-e91b-443a-9aeb-f03692e27862   07:58.1          NaN   \n",
            "81   115e06f3-b88e-4a2d-af7d-c931566117cd   34:43.1          NaN   \n",
            "311  2921568c-dbef-4800-a801-dc38a0b0ad7d   57:40.1        Error   \n",
            "327  935b4407-792d-4190-bfb3-18ac04d1536d   27:24.6        Error   \n",
            "340  2abc3619-fb1f-44ae-a5d7-83671fdf0ca8   31:22.3        Error   \n",
            "459  75ca3436-b95b-4d62-9cec-e6922f1b135b   53:43.7          NaN   \n",
            "\n",
            "             Recipient Email                                  Subject  \\\n",
            "37      richard52@icloud.com                                    Error   \n",
            "81   nicole43@protonmail.com          Wrong age medical glass decide.   \n",
            "311           gburke@aol.com                Bank remember pretty hit.   \n",
            "327           vjones@aol.com          Whatever writer million window.   \n",
            "340        fnguyen@gmail.com                Crime room thought child.   \n",
            "459  hudsontimothy@yahoo.com  Technology either enough four pass yes.   \n",
            "\n",
            "                                            Email Body       Label  \\\n",
            "37   Bag name natural major father happen. Majority...    Phishing   \n",
            "81   Plant last old near. Home ask executive genera...    Phishing   \n",
            "311  Hard and authority buy training. Detail once t...  Legitimate   \n",
            "327  To smile positive general benefit Democrat. In...  Legitimate   \n",
            "340  Meeting until than over. How realize interest ...  Legitimate   \n",
            "459  Medical weight avoid much oil. Parent thought ...    Phishing   \n",
            "\n",
            "          IP Address      Location Sender Domain Recipient Domain  \\\n",
            "37      112.6.210.98  West Bobfurt         Error       icloud.com   \n",
            "81    147.178.21.251           NaN         Error   protonmail.com   \n",
            "311  169.205.236.218     Lake Ruth         Error          aol.com   \n",
            "327     156.56.82.48  Michaelhaven         Error          aol.com   \n",
            "340    185.74.129.74  South Joseph         Error        gmail.com   \n",
            "459  157.156.128.149    Morrisview         Error        yahoo.com   \n",
            "\n",
            "    Email Length Attachments Link Count       Suspicious Keywords      Sector  \n",
            "37           219           1          9                   account  Healthcare  \n",
            "81            78           2          5           update, confirm  Healthcare  \n",
            "311          205           2        NaN    verify, login, confirm  Healthcare  \n",
            "327          199           2          6                  password      Retail  \n",
            "340          184           0          8      login, click, verify      Retail  \n",
            "459          169           0          9  secure, update, password      Retail  \n"
          ]
        }
      ]
    },
    {
      "cell_type": "code",
      "source": [
        "data_cleaned = data_cleaned[data_cleaned['Sender Domain'] != 'Error']\n"
      ],
      "metadata": {
        "id": "V36gNrqh1gep"
      },
      "execution_count": null,
      "outputs": []
    },
    {
      "cell_type": "code",
      "source": [
        "data_cleaned['Sender Domain'] = data_cleaned['Sender Domain'].replace('Error', 'Unknown')\n"
      ],
      "metadata": {
        "id": "nSNF65Ze1k0j"
      },
      "execution_count": null,
      "outputs": []
    },
    {
      "cell_type": "code",
      "source": [
        "sender_analysis = data_cleaned['Sender Domain'].value_counts().head(10)\n",
        "sender_analysis.plot(kind='bar', title='Top 10 Phishing Sender Domains', ylabel='Count', color='skyblue')\n",
        "plt.xlabel('Sender Domain')\n",
        "plt.ylabel('Count')\n",
        "plt.xticks(rotation=45)\n",
        "plt.tight_layout()\n",
        "plt.show()\n"
      ],
      "metadata": {
        "colab": {
          "base_uri": "https://localhost:8080/",
          "height": 487
        },
        "id": "0cBRL8ly1n7X",
        "outputId": "faa297f3-89c1-4a39-9835-ccdfdbc59833"
      },
      "execution_count": null,
      "outputs": [
        {
          "output_type": "display_data",
          "data": {
            "text/plain": [
              "<Figure size 640x480 with 1 Axes>"
            ],
            "image/png": "[encoded data removed]"
          },
          "metadata": {}
        }
      ]
    },
    {
      "cell_type": "code",
      "source": [
        "data_cleaned = data_cleaned[data_cleaned['Label'] != 'Error']\n"
      ],
      "metadata": {
        "id": "Th07-kbh2lgQ"
      },
      "execution_count": null,
      "outputs": []
    },
    {
      "cell_type": "code",
      "source": [
        "print(data_cleaned[data_cleaned['Email Length'] <= 0])\n"
      ],
      "metadata": {
        "colab": {
          "base_uri": "https://localhost:8080/"
        },
        "id": "zR4HpywQ2p3k",
        "outputId": "b7ecb507-c688-4f23-f5e5-2afb6de42772"
      },
      "execution_count": null,
      "outputs": [
        {
          "output_type": "stream",
          "name": "stdout",
          "text": [
            "                                 Email ID Timestamp  \\\n",
            "173  f3460231-ac5e-4166-b6af-ffbb2d7f5f68   14:51.0   \n",
            "181  da6b68a1-0887-4b1c-8c09-f5e7e382531f   35:24.7   \n",
            "207  2b435773-bfc7-470f-b88a-b234cde79036   42:45.5   \n",
            "357  de6c343d-8827-404b-a258-78d7e037a6f5   32:22.9   \n",
            "374  7734442b-69cc-493e-9d01-1416b6150736   10:32.1   \n",
            "418  b42f659d-ca8b-476a-b088-18dbeb3da64b   52:54.7   \n",
            "447  2a0bb082-241c-41f4-b9f3-216faf32547b   46:52.0   \n",
            "\n",
            "                   Sender Email           Recipient Email  \\\n",
            "173   shawnhines@protonmail.com        brandi88@yahoo.com   \n",
            "181           bhughes@gmail.com  bassjames@protonmail.com   \n",
            "207  mandyfitzpatrick@yahoo.com  smithmichelle@icloud.com   \n",
            "357   lewisjamie@protonmail.com        jcarter@icloud.com   \n",
            "374        uryan@protonmail.com         pthomas@yahoo.com   \n",
            "418        sarahperry@yahoo.com   katherinerios@yahoo.com   \n",
            "447      darrylkhan@outlook.com    baileykaren@icloud.com   \n",
            "\n",
            "                                               Subject Email Body       Label  \\\n",
            "173           Clear believe strong pick hope probably.        NaN  Legitimate   \n",
            "181   Would large wife forget worker take culture and.        NaN    Phishing   \n",
            "207        Issue imagine treatment tax study director.        NaN  Legitimate   \n",
            "357                 Anything authority turn condition.        NaN    Phishing   \n",
            "374   Popular community us never option stuff suggest.        NaN    Phishing   \n",
            "418                               Company space learn.        NaN    Phishing   \n",
            "447  Movie strong ball there management nothing roc...        NaN    Phishing   \n",
            "\n",
            "         IP Address      Location   Sender Domain Recipient Domain  \\\n",
            "173    130.63.53.91    Changburgh  protonmail.com        yahoo.com   \n",
            "181   97.144.21.140      Sethberg       gmail.com   protonmail.com   \n",
            "207  168.162.190.76   Herreraside       yahoo.com       icloud.com   \n",
            "357  46.210.220.244  Jeffreyshire  protonmail.com       icloud.com   \n",
            "374   30.79.207.179     West Rita  protonmail.com        yahoo.com   \n",
            "418   48.207.69.120     Ramosport       yahoo.com        yahoo.com   \n",
            "447  165.205.181.20      Lisaport     outlook.com       icloud.com   \n",
            "\n",
            "     Email Length Attachments Link Count      Suspicious Keywords      Sector  \n",
            "173           0.0           2          6           verify, update      Retail  \n",
            "181           0.0           1          6                    login  Healthcare  \n",
            "207           0.0           2          8         password, secure      Retail  \n",
            "357           0.0           0          7  confirm, account, login         NaN  \n",
            "374           0.0           1          8           login, confirm      Retail  \n",
            "418           0.0           0          3           secure, verify  Healthcare  \n",
            "447           0.0           0          8                  account  Healthcare  \n"
          ]
        }
      ]
    },
    {
      "cell_type": "code",
      "source": [
        "data_cleaned = data_cleaned[data_cleaned['Email Length'] > 0]\n"
      ],
      "metadata": {
        "id": "GsHNva9x2sLJ"
      },
      "execution_count": null,
      "outputs": []
    },
    {
      "cell_type": "code",
      "source": [
        "data_cleaned['Email Length'] = data_cleaned['Email Length'].apply(lambda x: x if x > 0 else data_cleaned['Email Length'].median())\n"
      ],
      "metadata": {
        "id": "MA-74ug42vsP"
      },
      "execution_count": null,
      "outputs": []
    },
    {
      "cell_type": "code",
      "source": [
        "import matplotlib.pyplot as plt\n",
        "\n",
        "# Generate the boxplot\n",
        "data_cleaned.boxplot(column='Email Length', by='Label', grid=False, showfliers=True)\n",
        "plt.title('Email Length Distribution by Type')\n",
        "plt.suptitle('')  # Removes the default title\n",
        "plt.xlabel('Email Type (Label)')\n",
        "plt.ylabel('Email Length')\n",
        "plt.show()\n"
      ],
      "metadata": {
        "colab": {
          "base_uri": "https://localhost:8080/",
          "height": 462
        },
        "id": "SXEJVSiA2yKz",
        "outputId": "1c657ff8-e36a-41f5-c6db-717e145e8171"
      },
      "execution_count": null,
      "outputs": [
        {
          "output_type": "display_data",
          "data": {
            "text/plain": [
              "<Figure size 640x480 with 1 Axes>"
            ],
            "image/png": "[encoded data removed]"
          },
          "metadata": {}
        }
      ]
    },
    {
      "cell_type": "code",
      "source": [
        "import pandas as pd\n",
        "from sklearn.model_selection import train_test_split\n",
        "from sklearn.ensemble import RandomForestClassifier\n",
        "from sklearn.preprocessing import LabelEncoder\n",
        "from sklearn.metrics import classification_report, confusion_matrix\n",
        "\n",
        "# Load the dataset\n",
        "data = pd.read_csv('/content/gdrive/MyDrive/DA/DA Assignment/Phishing_Email_Dataset_Ucl.csv')\n",
        "\n",
        "# Preprocessing: Convert categorical data to numeric\n",
        "encoder = LabelEncoder()\n",
        "\n",
        "# Convert non-numeric columns to numeric\n",
        "for column in data.columns:\n",
        "    if data[column].dtype == 'object':  # Check for non-numeric columns\n",
        "        data[column] = encoder.fit_transform(data[column])\n",
        "\n",
        "# Features and Target\n",
        "X = data.drop(columns=['Label'])  # Features\n",
        "y = data['Label']  # Target variable\n",
        "\n",
        "# Train-Test Split\n",
        "X_train, X_test, y_train, y_test = train_test_split(X, y, test_size=0.2, random_state=42)\n",
        "\n",
        "# Model: Random Forest Classifier\n",
        "model = RandomForestClassifier(random_state=42)\n",
        "model.fit(X_train, y_train)\n",
        "\n",
        "# Predictions\n",
        "y_pred = model.predict(X_test)\n",
        "\n",
        "# Evaluate Model\n",
        "print(\"Confusion Matrix:\\n\", confusion_matrix(y_test, y_pred))\n",
        "print(\"\\nClassification Report:\\n\", classification_report(y_test, y_pred))\n"
      ],
      "metadata": {
        "colab": {
          "base_uri": "https://localhost:8080/"
        },
        "id": "xqQ6Lj-i5L0A",
        "outputId": "96fbb72b-6e39-460b-db9f-701f5ae8f1f5"
      },
      "execution_count": null,
      "outputs": [
        {
          "output_type": "stream",
          "name": "stdout",
          "text": [
            "Confusion Matrix:\n",
            " [[ 0  0  1  0]\n",
            " [ 0 15 30  0]\n",
            " [ 0 16 40  0]\n",
            " [ 0  1  1  0]]\n",
            "\n",
            "Classification Report:\n",
            "               precision    recall  f1-score   support\n",
            "\n",
            "           0       0.00      0.00      0.00         1\n",
            "           1       0.47      0.33      0.39        45\n",
            "           2       0.56      0.71      0.62        56\n",
            "           3       0.00      0.00      0.00         2\n",
            "\n",
            "    accuracy                           0.53       104\n",
            "   macro avg       0.26      0.26      0.25       104\n",
            "weighted avg       0.50      0.53      0.51       104\n",
            "\n"
          ]
        }
      ]
    },
    {
      "cell_type": "code",
      "source": [
        "import matplotlib.pyplot as plt\n",
        "import seaborn as sns\n",
        "\n",
        "# Analyze trend: Top sender domains\n",
        "sender_trends = data['Sender Domain'].value_counts().head(10)\n",
        "\n",
        "# Plotting\n",
        "plt.figure(figsize=(10, 6))\n",
        "sns.barplot(x=sender_trends.index, y=sender_trends.values, palette='coolwarm')\n",
        "plt.title(\"Top Sender Domains Associated with Phishing\")\n",
        "plt.xlabel(\"Sender Domain\")\n",
        "plt.ylabel(\"Frequency\")\n",
        "plt.xticks(rotation=45)\n",
        "plt.tight_layout()\n",
        "plt.show()\n",
        "\n",
        "# Trend analysis: Keyword correlation with phishing\n",
        "suspicious_keywords = data[data['Label'] == 1]['Suspicious Keywords'].value_counts().head(10)\n",
        "\n",
        "# Plotting suspicious keywords\n",
        "plt.figure(figsize=(10, 6))\n",
        "sns.barplot(x=suspicious_keywords.index, y=suspicious_keywords.values, palette='viridis')\n",
        "plt.title(\"Top Suspicious Keywords in Phishing Emails\")\n",
        "plt.xlabel(\"Keywords\")\n",
        "plt.ylabel(\"Count\")\n",
        "plt.xticks(rotation=45)\n",
        "plt.tight_layout()\n",
        "plt.show()\n"
      ],
      "metadata": {
        "colab": {
          "base_uri": "https://localhost:8080/",
          "height": 768
        },
        "id": "lTmWDljC8bvc",
        "outputId": "ef822797-ce06-4bf1-8d23-ce58f3097180"
      },
      "execution_count": null,
      "outputs": [
        {
          "output_type": "display_data",
          "data": {
            "text/plain": [
              "<Figure size 1000x600 with 1 Axes>"
            ],
            "image/png": "[encoded data removed]"
          },
          "metadata": {}
        },
        {
          "output_type": "display_data",
          "data": {
            "text/plain": [
              "<Figure size 1000x600 with 1 Axes>"
            ],
            "image/png": "[encoded data removed]"
          },
          "metadata": {}
        }
      ]
    },
    {
      "cell_type": "code",
      "source": [
        "# Simulating Financial Impact Analysis\n",
        "financial_data = pd.DataFrame({\n",
        "    'Year': [2021, 2022, 2023],\n",
        "    'Costs Without Predictions': [50000, 70000, 100000],\n",
        "    'Costs With Predictions': [30000, 40000, 60000]\n",
        "})\n",
        "\n",
        "# Plot Financial Impact\n",
        "plt.figure(figsize=(10, 6))\n",
        "plt.plot(financial_data['Year'], financial_data['Costs Without Predictions'], marker='o', label='Without Predictions', color='red')\n",
        "plt.plot(financial_data['Year'], financial_data['Costs With Predictions'], marker='o', label='With Predictions', color='green')\n",
        "plt.title(\"Financial Impact of Predictive Analytics\")\n",
        "plt.xlabel(\"Year\")\n",
        "plt.ylabel(\"Costs (USD)\")\n",
        "plt.legend()\n",
        "plt.grid(True)\n",
        "plt.show()\n",
        "\n",
        "# Strategic Recommendation Summary\n",
        "print(\"Strategic Recommendation:\")\n",
        "print(\"1. Expand predictive analytics to cover all sectors.\")\n",
        "print(\"2. Invest in training employees to understand predictive insights.\")\n",
        "print(\"3. Regularly update predictive models using fresh threat intelligence data.\")\n"
      ],
      "metadata": {
        "colab": {
          "base_uri": "https://localhost:8080/",
          "height": 479
        },
        "id": "h79fv9_xE8D7",
        "outputId": "a15344ac-35c4-4e39-f773-cc232b79d0b4"
      },
      "execution_count": null,
      "outputs": [
        {
          "output_type": "display_data",
          "data": {
            "text/plain": [
              "<Figure size 1000x600 with 1 Axes>"
            ],
            "image/png": "[encoded data removed]"
          },
          "metadata": {}
        },
        {
          "output_type": "stream",
          "name": "stdout",
          "text": [
            "Strategic Recommendation:\n",
            "1. Expand predictive analytics to cover all sectors.\n",
            "2. Invest in training employees to understand predictive insights.\n",
            "3. Regularly update predictive models using fresh threat intelligence data.\n"
          ]
        }
      ]
    },
    {
      "cell_type": "code",
      "source": [
        "# Apply one-hot encoding on 'Sender Domain' or another categorical column\n",
        "if 'Sender Domain' in data.columns:\n",
        "    data = pd.get_dummies(data, columns=['Sender Domain'], drop_first=True)\n",
        "else:\n",
        "    print(\"The column 'Sender Domain' is not found in the dataset.\")\n"
      ],
      "metadata": {
        "colab": {
          "base_uri": "https://localhost:8080/"
        },
        "id": "D06-DisvG0jZ",
        "outputId": "a775fda9-cd39-4ca4-e050-c45f54caa55c"
      },
      "execution_count": null,
      "outputs": [
        {
          "output_type": "stream",
          "name": "stdout",
          "text": [
            "The column 'Sender Domain' is not found in the dataset.\n"
          ]
        }
      ]
    },
    {
      "cell_type": "code",
      "source": [
        "# Define Features and Target\n",
        "features = ['Email Length', 'Link Count', 'Attachments', 'Suspicious Keywords']\n",
        "if all(feature in data.columns for feature in features):\n",
        "    X = data[features]\n",
        "    y = data['Label']  # 0 = Legitimate, 1 = Phishing\n",
        "else:\n",
        "    missing = [feature for feature in features if feature not in data.columns]\n",
        "    print(f\"Missing columns in dataset: {missing}\")\n"
      ],
      "metadata": {
        "id": "cjYXgxEmG34c"
      },
      "execution_count": null,
      "outputs": []
    },
    {
      "cell_type": "code",
      "source": [
        "print(X.dtypes)\n"
      ],
      "metadata": {
        "colab": {
          "base_uri": "https://localhost:8080/"
        },
        "id": "RdTvXyg6HJSR",
        "outputId": "e09a459a-272d-4a04-cc87-b172d1924425"
      },
      "execution_count": null,
      "outputs": [
        {
          "output_type": "stream",
          "name": "stdout",
          "text": [
            "Email Length           object\n",
            "Link Count             object\n",
            "Attachments            object\n",
            "Suspicious Keywords    object\n",
            "dtype: object\n"
          ]
        }
      ]
    },
    {
      "cell_type": "code",
      "source": [
        "# Check for 'Error' values in the dataset\n",
        "print(data.isin(['Error']).any())\n",
        "\n",
        "# Replace 'Error' with NaN for easier handling\n",
        "data.replace('Error', pd.NA, inplace=True)\n",
        "\n",
        "# Drop rows with NaN or handle them differently (e.g., replace with mean/median)\n",
        "data.dropna(inplace=True)  # Alternatively, use data.fillna(value)\n"
      ],
      "metadata": {
        "colab": {
          "base_uri": "https://localhost:8080/"
        },
        "id": "To0o0bGOHLVO",
        "outputId": "2d8d12e9-8ceb-4cd8-de8a-9ba4c77a96cc"
      },
      "execution_count": null,
      "outputs": [
        {
          "output_type": "stream",
          "name": "stdout",
          "text": [
            "Email ID                         True\n",
            "Timestamp                        True\n",
            "Sender Email                     True\n",
            "Recipient Email                  True\n",
            "Subject                          True\n",
            "Email Body                       True\n",
            "Label                            True\n",
            "IP Address                       True\n",
            "Location                         True\n",
            "Recipient Domain                 True\n",
            "Email Length                     True\n",
            "Attachments                      True\n",
            "Link Count                       True\n",
            "Suspicious Keywords             False\n",
            "Sector                           True\n",
            "Sender Domain_aol.com           False\n",
            "Sender Domain_gmail.com         False\n",
            "Sender Domain_icloud.com        False\n",
            "Sender Domain_outlook.com       False\n",
            "Sender Domain_protonmail.com    False\n",
            "Sender Domain_yahoo.com         False\n",
            "dtype: bool\n"
          ]
        }
      ]
    },
    {
      "cell_type": "code",
      "source": [
        "print(X.dtypes)\n"
      ],
      "metadata": {
        "colab": {
          "base_uri": "https://localhost:8080/"
        },
        "id": "odCIvQ1MHPPr",
        "outputId": "94bcb851-c6c1-4b37-db6b-18a0e54ff2b0"
      },
      "execution_count": null,
      "outputs": [
        {
          "output_type": "stream",
          "name": "stdout",
          "text": [
            "Email Length           object\n",
            "Link Count             object\n",
            "Attachments            object\n",
            "Suspicious Keywords    object\n",
            "dtype: object\n"
          ]
        }
      ]
    },
    {
      "cell_type": "code",
      "source": [
        "# Features (ensure they are all numeric)\n",
        "features = ['Email Length', 'Link Count', 'Attachments']\n",
        "\n",
        "# Add encoded Sender Domain columns\n",
        "for col in data.columns:\n",
        "    if col.startswith('Sender Domain_'):\n",
        "        features.append(col)\n",
        "\n",
        "# Define X and y\n",
        "X = data[features]\n",
        "y = data['Label']  # Ensure 'Label' is numeric\n"
      ],
      "metadata": {
        "id": "L0Rwi80pHSH2"
      },
      "execution_count": null,
      "outputs": []
    },
    {
      "cell_type": "code",
      "source": [
        "from sklearn.model_selection import train_test_split\n",
        "from sklearn.ensemble import RandomForestClassifier\n",
        "from sklearn.metrics import classification_report, confusion_matrix, accuracy_score\n",
        "\n",
        "# Split data\n",
        "X_train, X_test, y_train, y_test = train_test_split(X, y, test_size=0.3, random_state=42)\n",
        "\n",
        "# Initialize and train the model\n",
        "model = RandomForestClassifier(random_state=42)\n",
        "model.fit(X_train, y_train)\n",
        "\n",
        "# Make predictions\n",
        "y_pred = model.predict(X_test)\n",
        "\n",
        "# Evaluate the model\n",
        "print(\"Confusion Matrix:\\n\", confusion_matrix(y_test, y_pred))\n",
        "print(\"Classification Report:\\n\", classification_report(y_test, y_pred))\n",
        "print(\"Accuracy Score:\", accuracy_score(y_test, y_pred))\n"
      ],
      "metadata": {
        "id": "aouz-Mm6HV-z",
        "outputId": "74275fab-7007-4151-facd-31068827b167",
        "colab": {
          "base_uri": "https://localhost:8080/"
        }
      },
      "execution_count": null,
      "outputs": [
        {
          "output_type": "stream",
          "name": "stdout",
          "text": [
            "Confusion Matrix:\n",
            " [[15 32]\n",
            " [10 30]]\n",
            "Classification Report:\n",
            "               precision    recall  f1-score   support\n",
            "\n",
            "  Legitimate       0.60      0.32      0.42        47\n",
            "    Phishing       0.48      0.75      0.59        40\n",
            "\n",
            "    accuracy                           0.52        87\n",
            "   macro avg       0.54      0.53      0.50        87\n",
            "weighted avg       0.55      0.52      0.50        87\n",
            "\n",
            "Accuracy Score: 0.5172413793103449\n"
          ]
        }
      ]
    },
    {
      "cell_type": "code",
      "source": [
        "# Clean 'Attachments' column\n",
        "def clean_attachments(value):\n",
        "    try:\n",
        "        return int(value)  # Try to convert to integer\n",
        "    except (ValueError, TypeError):\n",
        "        return 0  # Replace invalid values with 0\n",
        "\n",
        "data['Attachments'] = data['Attachments'].fillna(0).apply(clean_attachments)\n"
      ],
      "metadata": {
        "id": "phmcgFYOACdo"
      },
      "execution_count": null,
      "outputs": []
    },
    {
      "cell_type": "code",
      "source": [],
      "metadata": {
        "id": "qUCSjVN9FI6z"
      },
      "execution_count": null,
      "outputs": []
    },
    {
      "cell_type": "code",
      "source": [
        "# Check if 'Sender Domain' and 'Sector' are still in the dataset\n",
        "if 'Sender Domain' in data.columns and 'Sector' in data.columns:\n",
        "    # One-hot encode categorical columns\n",
        "    data = pd.get_dummies(data, columns=['Sender Domain', 'Sector'], drop_first=True)\n",
        "else:\n",
        "    print(\"Columns 'Sender Domain' and 'Sector' are already encoded or missing.\")\n"
      ],
      "metadata": {
        "colab": {
          "base_uri": "https://localhost:8080/"
        },
        "id": "gSmNDjx0Aegh",
        "outputId": "6f193ba2-8b7e-49a1-9579-5fd2504621e0"
      },
      "execution_count": null,
      "outputs": [
        {
          "output_type": "stream",
          "name": "stdout",
          "text": [
            "Columns 'Sender Domain' and 'Sector' are already encoded or missing.\n"
          ]
        }
      ]
    },
    {
      "cell_type": "code",
      "source": [
        "# Clean 'Email Length' column\n",
        "def clean_numeric(value):\n",
        "    try:\n",
        "        return float(value)  # Convert valid numbers\n",
        "    except (ValueError, TypeError):\n",
        "        return 0  # Replace invalid entries with 0\n",
        "\n",
        "data['Email Length'] = data['Email Length'].apply(clean_numeric)\n",
        "data['Link Count'] = data['Link Count'].apply(clean_numeric)\n"
      ],
      "metadata": {
        "id": "vAo-kn9VBcPU"
      },
      "execution_count": null,
      "outputs": []
    },
    {
      "cell_type": "code",
      "source": [
        "print(data[features].dtypes)\n"
      ],
      "metadata": {
        "colab": {
          "base_uri": "https://localhost:8080/"
        },
        "id": "e0HdDBoXBeHe",
        "outputId": "a795bea3-8f49-4d26-f5f0-1051bd06d83d"
      },
      "execution_count": null,
      "outputs": [
        {
          "output_type": "stream",
          "name": "stdout",
          "text": [
            "Email Length                    float64\n",
            "Link Count                      float64\n",
            "Attachments                       int64\n",
            "Has Suspicious Keywords           int64\n",
            "Sender Domain_aol.com              bool\n",
            "Sender Domain_gmail.com            bool\n",
            "Sender Domain_icloud.com           bool\n",
            "Sender Domain_outlook.com          bool\n",
            "Sender Domain_protonmail.com       bool\n",
            "Sender Domain_yahoo.com            bool\n",
            "Sector_Healthcare                  bool\n",
            "Sector_Retail                      bool\n",
            "dtype: object\n"
          ]
        }
      ]
    },
    {
      "cell_type": "code",
      "source": [
        "print(y_train.isna().sum())\n"
      ],
      "metadata": {
        "colab": {
          "base_uri": "https://localhost:8080/"
        },
        "id": "keskYuH8BxQQ",
        "outputId": "68e48708-1b6c-45c6-ddd7-60c993364df7"
      },
      "execution_count": null,
      "outputs": [
        {
          "output_type": "stream",
          "name": "stdout",
          "text": [
            "364\n"
          ]
        }
      ]
    },
    {
      "cell_type": "code",
      "source": [
        "X_train = X_train[~y_train.isna()]\n",
        "y_train = y_train.dropna()\n"
      ],
      "metadata": {
        "id": "br7qk2oxB1Bk"
      },
      "execution_count": null,
      "outputs": []
    },
    {
      "cell_type": "code",
      "source": [
        "y_train = y_train.fillna(0)\n"
      ],
      "metadata": {
        "id": "kEsoTt1PB4nv"
      },
      "execution_count": null,
      "outputs": []
    },
    {
      "cell_type": "code",
      "source": [
        "print(y_train.isna().sum())  # Should return 0\n"
      ],
      "metadata": {
        "colab": {
          "base_uri": "https://localhost:8080/"
        },
        "id": "Plxm9F_1B7qm",
        "outputId": "f950c80e-d060-4235-83a7-d4d2bcbd0b2f"
      },
      "execution_count": null,
      "outputs": [
        {
          "output_type": "stream",
          "name": "stdout",
          "text": [
            "0\n"
          ]
        }
      ]
    },
    {
      "cell_type": "code",
      "source": [
        "print(\"X_train shape:\", X_train.shape)\n",
        "print(\"y_train shape:\", y_train.shape)\n"
      ],
      "metadata": {
        "colab": {
          "base_uri": "https://localhost:8080/"
        },
        "id": "hd1trXtdCKfb",
        "outputId": "fc499c75-5219-4f26-e9a9-35bccf428d01"
      },
      "execution_count": null,
      "outputs": [
        {
          "output_type": "stream",
          "name": "stdout",
          "text": [
            "X_train shape: (0, 12)\n",
            "y_train shape: (0,)\n"
          ]
        }
      ]
    },
    {
      "cell_type": "code",
      "source": [
        "from sklearn.model_selection import train_test_split\n",
        "\n",
        "# Example: Ensure proper splitting\n",
        "X = data.drop(columns=['Label'])  # Replace 'Label' with your target column\n",
        "y = data['Label']\n",
        "\n",
        "X_train, X_test, y_train, y_test = train_test_split(X, y, test_size=0.2, random_state=42)\n",
        "\n",
        "# Check the shapes after splitting\n",
        "print(\"X_train shape:\", X_train.shape)\n",
        "print(\"y_train shape:\", y_train.shape)\n"
      ],
      "metadata": {
        "colab": {
          "base_uri": "https://localhost:8080/"
        },
        "id": "BUYTMPX9CMG_",
        "outputId": "95de29f7-1431-490a-a03a-31955cbdeddd"
      },
      "execution_count": null,
      "outputs": [
        {
          "output_type": "stream",
          "name": "stdout",
          "text": [
            "X_train shape: (416, 22)\n",
            "y_train shape: (416,)\n"
          ]
        }
      ]
    },
    {
      "cell_type": "code",
      "source": [
        "# Verify column names first\n",
        "columns_to_encode = ['Sender Domain', 'Sector']  # Adjust to match your dataset\n",
        "for col in columns_to_encode:\n",
        "    if col not in data.columns:\n",
        "        print(f\"Column '{col}' is missing from the dataset!\")\n"
      ],
      "metadata": {
        "colab": {
          "base_uri": "https://localhost:8080/"
        },
        "id": "7rrseQFUCd2e",
        "outputId": "4a14af43-925d-4112-e9df-f396bc266dee"
      },
      "execution_count": null,
      "outputs": [
        {
          "output_type": "stream",
          "name": "stdout",
          "text": [
            "Column 'Sender Domain' is missing from the dataset!\n",
            "Column 'Sector' is missing from the dataset!\n"
          ]
        }
      ]
    },
    {
      "cell_type": "code",
      "source": [
        "data = pd.get_dummies(data, drop_first=True)\n"
      ],
      "metadata": {
        "id": "UcPWmM0_DQff"
      },
      "execution_count": null,
      "outputs": []
    },
    {
      "cell_type": "code",
      "source": [
        "data = data.drop(columns=['Sender Domain_aol.com', 'Sector_Healthcare'])\n"
      ],
      "metadata": {
        "id": "HhCJgyXlDSMZ"
      },
      "execution_count": null,
      "outputs": []
    },
    {
      "cell_type": "code",
      "source": [
        "print(data.isnull().sum())\n"
      ],
      "metadata": {
        "colab": {
          "base_uri": "https://localhost:8080/"
        },
        "id": "Ia4J6pLuDXLL",
        "outputId": "6297f9c4-20db-4d0f-eac1-2f599c5bec5f"
      },
      "execution_count": null,
      "outputs": [
        {
          "output_type": "stream",
          "name": "stdout",
          "text": [
            "Label                                           520\n",
            "Email Length                                      0\n",
            "Attachments                                       0\n",
            "Link Count                                        0\n",
            "Sender Domain_gmail.com                           0\n",
            "                                               ... \n",
            "Suspicious Keywords_verify, update, password      0\n",
            "Suspicious Keywords_verify, update, secure        0\n",
            "Suspicious Keywords_verify, urgent                0\n",
            "Suspicious Keywords_verify, urgent, click         0\n",
            "Suspicious Keywords_verify, urgent, secure        0\n",
            "Length: 4032, dtype: int64\n"
          ]
        }
      ]
    },
    {
      "cell_type": "code",
      "source": [
        "X = data.drop(columns=['Label'])  # Drop the target column\n",
        "y = data['Label']  # The target variable\n"
      ],
      "metadata": {
        "id": "T_zBCFseDYsR"
      },
      "execution_count": null,
      "outputs": []
    },
    {
      "cell_type": "code",
      "source": [
        "from sklearn.model_selection import train_test_split\n",
        "\n",
        "X_train, X_test, y_train, y_test = train_test_split(X, y, test_size=0.2, random_state=42)\n"
      ],
      "metadata": {
        "id": "KalYcp1dDb6q"
      },
      "execution_count": null,
      "outputs": []
    },
    {
      "source": [
        "import pandas as pd # Import pandas if not already imported\n",
        "\n",
        "# Before splitting into train and test sets\n",
        "data = data.dropna(subset=['Label'])  # Drop rows with NaN values in 'Label' column\n",
        "\n",
        "# Now proceed with your train-test split and model training as before\n",
        "X = data.drop(columns=['Label'])\n",
        "y = data['Label']\n"
      ],
      "cell_type": "code",
      "metadata": {
        "id": "wWM7KI5MDoOn"
      },
      "execution_count": null,
      "outputs": []
    },
    {
      "cell_type": "code",
      "source": [
        "print(X.shape)  # Should not be (0, n)\n",
        "print(y.shape)  # Should not be (0,)\n"
      ],
      "metadata": {
        "colab": {
          "base_uri": "https://localhost:8080/"
        },
        "id": "z-eNQdSgD_kY",
        "outputId": "f5d9ed5e-bc66-47df-ce6e-0a7bcf7f37a4"
      },
      "execution_count": null,
      "outputs": [
        {
          "output_type": "stream",
          "name": "stdout",
          "text": [
            "(0, 4031)\n",
            "(0,)\n"
          ]
        }
      ]
    },
    {
      "cell_type": "code",
      "source": [
        "X = data.drop(columns=['Label'])  # Ensure 'Label' is a valid column name\n",
        "y = data['Label']  # Ensure 'Label' is a valid column\n"
      ],
      "metadata": {
        "id": "gx08_1wtEA4t"
      },
      "execution_count": null,
      "outputs": []
    },
    {
      "cell_type": "code",
      "source": [
        "print(data.columns)\n"
      ],
      "metadata": {
        "colab": {
          "base_uri": "https://localhost:8080/"
        },
        "id": "R1ivppL7EC2t",
        "outputId": "659499a4-1159-4fe1-aa60-8d0c6ed7ae1b"
      },
      "execution_count": null,
      "outputs": [
        {
          "output_type": "stream",
          "name": "stdout",
          "text": [
            "Index(['Label', 'Email Length', 'Attachments', 'Link Count',\n",
            "       'Sender Domain_gmail.com', 'Sender Domain_icloud.com',\n",
            "       'Sender Domain_outlook.com', 'Sender Domain_protonmail.com',\n",
            "       'Sender Domain_yahoo.com', 'Sector_Retail',\n",
            "       ...\n",
            "       'Suspicious Keywords_verify, password',\n",
            "       'Suspicious Keywords_verify, secure',\n",
            "       'Suspicious Keywords_verify, secure, password',\n",
            "       'Suspicious Keywords_verify, update',\n",
            "       'Suspicious Keywords_verify, update, account',\n",
            "       'Suspicious Keywords_verify, update, password',\n",
            "       'Suspicious Keywords_verify, update, secure',\n",
            "       'Suspicious Keywords_verify, urgent',\n",
            "       'Suspicious Keywords_verify, urgent, click',\n",
            "       'Suspicious Keywords_verify, urgent, secure'],\n",
            "      dtype='object', length=4032)\n"
          ]
        }
      ]
    },
    {
      "cell_type": "code",
      "source": [
        "print(data.head())\n"
      ],
      "metadata": {
        "colab": {
          "base_uri": "https://localhost:8080/"
        },
        "id": "HRQHLMgFEFZK",
        "outputId": "e4739a9f-e593-450b-8164-67f56683d877"
      },
      "execution_count": null,
      "outputs": [
        {
          "output_type": "stream",
          "name": "stdout",
          "text": [
            "Empty DataFrame\n",
            "Columns: [Label, Email Length, Attachments, Link Count, Sender Domain_gmail.com, Sender Domain_icloud.com, Sender Domain_outlook.com, Sender Domain_protonmail.com, Sender Domain_yahoo.com, Sector_Retail, Has Suspicious Keywords, Email ID_00306540-3cae-4dd7-a06b-1eeba4f232f9, Email ID_00a45eca-e5a7-43d6-a4e5-ec09b4547a34, Email ID_0245eaa3-07ca-4ef7-aa67-afdd82a0e6f9, Email ID_02a76c66-a7bf-408e-9f0d-424cdde0abc9, Email ID_03ca2194-352e-4632-a2f6-08ed6684184a, Email ID_03d6b3ab-7277-4147-bf46-f9e93c999110, Email ID_04d57530-205c-4a49-af4e-3409326f9811, Email ID_05f0b6e7-b4eb-4a2e-abb1-a8bfd1644f00, Email ID_08841388-ddde-4f1b-9124-742d74692389, Email ID_0895d969-0417-455f-931d-7e2d3b0a786c, Email ID_08efc1b8-ca8b-4c26-93f3-b7cc30bd4a3c, Email ID_095d9615-5e38-418b-be97-59116dff3411, Email ID_098a7dd6-f866-4320-a92e-3840ac46feea, Email ID_09ef08c4-41d5-42f9-bc51-dfbe1a34a396, Email ID_0a41d861-5c5a-42dc-8feb-acb651e1a10e, Email ID_0b16505e-cd2f-4a36-ab10-df01eaacb0d5, Email ID_0b2e7aa8-0706-4b99-ad2a-43f66c99d36c, Email ID_0b9eeb4d-1a2a-42d8-977e-cada9ad40273, Email ID_0bc90dc4-d793-4a4c-85a6-d33c71212bec, Email ID_0c15fd76-aa55-4fbf-a273-aacba54b005a, Email ID_0c505041-110a-41f8-bad1-ec459869f08b, Email ID_0d3c0104-3e1d-4734-ae83-b4ee626726e9, Email ID_0de7e97a-c149-4813-ae86-e26420ca246c, Email ID_0fdd8e7b-a6e3-49ab-b4c7-2e0cee5ee1ae, Email ID_0ff9a362-a2a8-4c6c-916c-54b3f7f90877, Email ID_101710ae-613a-4c15-920c-83654dc4a525, Email ID_106edd8d-462f-4f50-8ac6-3024ba78538f, Email ID_115e06f3-b88e-4a2d-af7d-c931566117cd, Email ID_1255a812-7c99-4361-b457-77ea2a8e2f4b, Email ID_129b22b8-9fc2-4e59-960d-47f3101bbfb9, Email ID_12a08e07-0154-47fd-9fbb-d0845165b98f, Email ID_12b0b620-63cd-46d0-b387-063ac53b3b0c, Email ID_12c39beb-14a1-4077-a945-84f3cf9ddcb9, Email ID_15837e96-4814-49a7-bae7-fd62a48fbafe, Email ID_15855fa2-281d-4170-b1eb-3328ae7ae1a4, Email ID_16664111-ecbb-41db-a776-4196c14debdb, Email ID_17c0c4ac-4776-4c6d-85ea-e7c085e23844, Email ID_18954626-32ec-4beb-9d16-b28638ef75cd, Email ID_18e9ad5f-872a-4c1f-b0d9-5f82978ee02f, Email ID_18f5535a-b635-4867-bf42-872d4bf63815, Email ID_197bbad5-ac75-4772-bd9c-436fd118a06b, Email ID_1b73dc2b-e253-4087-85ec-8fba2a59b225, Email ID_1cda697d-82c4-428a-ae15-e5f570e52ba8, Email ID_1d3207ab-9594-4001-bd17-ed520cd3e384, Email ID_1d9f5a3b-9cac-4932-b3ab-3e963a1998cb, Email ID_1dd897db-1e65-4889-9b76-e154204e270f, Email ID_1e386daa-34b0-41ef-bc3e-1e08b382857d, Email ID_1ecc19ee-8f33-4509-9096-2668734be0c1, Email ID_204be352-7511-4a99-9e9a-4d2ba5011ede, Email ID_210062bf-5e9b-4a8e-bbf0-3c49d84e14cb, Email ID_2164f48f-f0f0-45e0-b625-84ec5a535ee7, Email ID_216ad281-669b-4ed8-ab12-8e73d8e8551f, Email ID_21e2f514-599f-4441-bbe2-603153246bed, Email ID_2205303f-cbad-467a-91b0-9429e8bae996, Email ID_237665f9-3d8b-4b30-a843-565923c8d5bd, Email ID_23cebcda-f9e3-4d30-a1f2-0dc70bb2efbe, Email ID_23e7377c-6ccd-4492-b6c3-d1c5d3723cb0, Email ID_24274583-ef4f-409d-a347-a001ef8eeb37, Email ID_243e883e-0e92-4152-9910-cd823b9339b9, Email ID_24c236cf-e8c8-46dd-aecf-6a6c2c962420, Email ID_263864dc-319e-4769-aec2-17644961ce0b, Email ID_28d925ae-f764-46ba-91b2-294a3476d04f, Email ID_291504bd-98f9-49aa-a05c-76a49770e86d, Email ID_29166437-c9bd-4d69-946f-edfa77ea6d25, Email ID_2921568c-dbef-4800-a801-dc38a0b0ad7d, Email ID_2934785b-c7e2-4767-ad26-7c8f8a991fb1, Email ID_2998b353-e663-45ef-9470-76053c438ec9, Email ID_29ed63c7-7d9e-4368-ae1f-558fa1cd3e09, Email ID_2a0bb082-241c-41f4-b9f3-216faf32547b, Email ID_2aad94e0-da9b-437c-be61-49667db5d762, Email ID_2abc3619-fb1f-44ae-a5d7-83671fdf0ca8, Email ID_2abd1421-2e15-4e79-8114-23a89739a63a, Email ID_2b24c40b-2c03-4fb1-bd6b-101d3d16073b, Email ID_2b435773-bfc7-470f-b88a-b234cde79036, Email ID_2c3f0f89-49b7-4371-b7e9-501178442ef5, Email ID_2d647675-d6d8-4c6d-af56-c535bcd9252c, Email ID_2dc703e4-d82b-4a9f-9e65-bbe6fed51d0f, Email ID_2ec51b4d-96f5-4edd-a173-a43d955c38b2, Email ID_2ee1b071-6225-4fac-9ad1-ca919c70b291, Email ID_2f44dcdc-0503-40dd-8af4-5cfddc42be31, Email ID_2f4e8250-0c86-4417-a99e-5de6b2bd1a29, Email ID_2f7e3958-9f3f-4c14-8f79-60623731f2fc, Email ID_30910700-0166-405b-a554-118c4a0be613, Email ID_30b639f3-d789-4c26-8cdd-b7288b4143a2, Email ID_3134d925-347e-4b41-8e62-4bf8038167c2, Email ID_318bdfd4-20dd-4990-8900-340b3debc60d, Email ID_328eb034-adb3-41c5-bc44-c24e69ef9db6, Email ID_32df1a53-d440-4c99-8690-72e4fd70e18c, Email ID_3322cb8d-05c5-43bc-826e-15ab2e9180f3, ...]\n",
            "Index: []\n",
            "\n",
            "[0 rows x 4032 columns]\n"
          ]
        }
      ]
    },
    {
      "cell_type": "code",
      "source": [
        "print(data.isnull().sum())\n"
      ],
      "metadata": {
        "colab": {
          "base_uri": "https://localhost:8080/"
        },
        "id": "4pwfN1VyEHg8",
        "outputId": "ab2ab3f4-e2b4-420e-d3f5-56cc84443577"
      },
      "execution_count": null,
      "outputs": [
        {
          "output_type": "stream",
          "name": "stdout",
          "text": [
            "Label                                           0\n",
            "Email Length                                    0\n",
            "Attachments                                     0\n",
            "Link Count                                      0\n",
            "Sender Domain_gmail.com                         0\n",
            "                                               ..\n",
            "Suspicious Keywords_verify, update, password    0\n",
            "Suspicious Keywords_verify, update, secure      0\n",
            "Suspicious Keywords_verify, urgent              0\n",
            "Suspicious Keywords_verify, urgent, click       0\n",
            "Suspicious Keywords_verify, urgent, secure      0\n",
            "Length: 4032, dtype: int64\n"
          ]
        }
      ]
    },
    {
      "cell_type": "code",
      "source": [
        "data = data.dropna()  # Drop rows with missing values\n"
      ],
      "metadata": {
        "id": "T8JxxYX1EJdx"
      },
      "execution_count": null,
      "outputs": []
    },
    {
      "cell_type": "code",
      "source": [
        "print(X_train.dtypes)\n"
      ],
      "metadata": {
        "colab": {
          "base_uri": "https://localhost:8080/"
        },
        "id": "wCHj3nDbfNzU",
        "outputId": "7bfa5968-807f-4894-8f83-d07000418018"
      },
      "execution_count": 5,
      "outputs": [
        {
          "output_type": "stream",
          "name": "stdout",
          "text": [
            "Email ID               object\n",
            "Timestamp              object\n",
            "Sender Email           object\n",
            "Recipient Email        object\n",
            "Subject                object\n",
            "Email Body             object\n",
            "IP Address             object\n",
            "Location               object\n",
            "Sender Domain          object\n",
            "Recipient Domain       object\n",
            "Email Length           object\n",
            "Attachments            object\n",
            "Link Count             object\n",
            "Suspicious Keywords    object\n",
            "Sector                 object\n",
            "dtype: object\n"
          ]
        }
      ]
    },
    {
      "cell_type": "code",
      "source": [
        "# One-hot encoding categorical columns\n",
        "categorical_cols = ['Sender Domain', 'Recipient Domain', 'Sector']\n",
        "X_train = pd.get_dummies(X_train, columns=categorical_cols, drop_first=True)\n",
        "X_test = pd.get_dummies(X_test, columns=categorical_cols, drop_first=True)\n",
        "\n",
        "# Ensure both train and test datasets have the same columns\n",
        "X_test = X_test.reindex(columns=X_train.columns, fill_value=0)\n"
      ],
      "metadata": {
        "id": "mGEkPDUrfZIJ"
      },
      "execution_count": 6,
      "outputs": []
    },
    {
      "cell_type": "code",
      "source": [
        "# Convert string-based numeric columns to float\n",
        "numeric_cols = ['Email Length', 'Attachments', 'Link Count']\n",
        "\n",
        "for col in numeric_cols:\n",
        "    X_train[col] = pd.to_numeric(X_train[col], errors='coerce')  # Coerce errors to NaN\n",
        "    X_test[col] = pd.to_numeric(X_test[col], errors='coerce')\n",
        "\n",
        "# Handle missing values after conversion (if any)\n",
        "X_train.fillna(0, inplace=True)\n",
        "X_test.fillna(0, inplace=True)\n"
      ],
      "metadata": {
        "id": "fREZBqGXfahL"
      },
      "execution_count": 7,
      "outputs": []
    },
    {
      "cell_type": "code",
      "source": [
        "# Drop irrelevant columns\n",
        "irrelevant_cols = ['Email ID', 'Timestamp', 'Sender Email', 'Recipient Email', 'Subject', 'Email Body', 'IP Address', 'Location']\n",
        "X_train.drop(columns=irrelevant_cols, inplace=True, errors='ignore')\n",
        "X_test.drop(columns=irrelevant_cols, inplace=True, errors='ignore')\n"
      ],
      "metadata": {
        "id": "UGgtOhZYfdoX"
      },
      "execution_count": 8,
      "outputs": []
    },
    {
      "cell_type": "code",
      "source": [
        "# Create a new column with the count of keywords\n",
        "X_train['Keyword Count'] = X_train['Suspicious Keywords'].apply(lambda x: len(str(x).split(',')))\n",
        "X_test['Keyword Count'] = X_test['Suspicious Keywords'].apply(lambda x: len(str(x).split(',')))\n",
        "\n",
        "# Drop the original column\n",
        "X_train.drop(columns=['Suspicious Keywords'], inplace=True, errors='ignore')\n",
        "X_test.drop(columns=['Suspicious Keywords'], inplace=True, errors='ignore')\n"
      ],
      "metadata": {
        "id": "Rus7dLXhf1oo"
      },
      "execution_count": 10,
      "outputs": []
    },
    {
      "cell_type": "code",
      "source": [
        "print(X_train.dtypes)\n",
        "print(X_test.dtypes)\n"
      ],
      "metadata": {
        "colab": {
          "base_uri": "https://localhost:8080/"
        },
        "id": "zM921kfaf3L1",
        "outputId": "e985de22-cb79-4403-f215-a8c33f42de70"
      },
      "execution_count": 11,
      "outputs": [
        {
          "output_type": "stream",
          "name": "stdout",
          "text": [
            "Email Length                       float64\n",
            "Attachments                        float64\n",
            "Link Count                         float64\n",
            "Sender Domain_aol.com                 bool\n",
            "Sender Domain_gmail.com               bool\n",
            "Sender Domain_icloud.com              bool\n",
            "Sender Domain_outlook.com             bool\n",
            "Sender Domain_protonmail.com          bool\n",
            "Sender Domain_yahoo.com               bool\n",
            "Recipient Domain_aol.com              bool\n",
            "Recipient Domain_gmail.com            bool\n",
            "Recipient Domain_icloud.com           bool\n",
            "Recipient Domain_outlook.com          bool\n",
            "Recipient Domain_protonmail.com       bool\n",
            "Recipient Domain_yahoo.com            bool\n",
            "Sector_Healthcare                     bool\n",
            "Sector_Retail                         bool\n",
            "Keyword Count                        int64\n",
            "dtype: object\n",
            "Email Length                       float64\n",
            "Attachments                        float64\n",
            "Link Count                         float64\n",
            "Sender Domain_aol.com                 bool\n",
            "Sender Domain_gmail.com               bool\n",
            "Sender Domain_icloud.com              bool\n",
            "Sender Domain_outlook.com             bool\n",
            "Sender Domain_protonmail.com          bool\n",
            "Sender Domain_yahoo.com               bool\n",
            "Recipient Domain_aol.com              bool\n",
            "Recipient Domain_gmail.com            bool\n",
            "Recipient Domain_icloud.com           bool\n",
            "Recipient Domain_outlook.com          bool\n",
            "Recipient Domain_protonmail.com       bool\n",
            "Recipient Domain_yahoo.com            bool\n",
            "Sector_Healthcare                     bool\n",
            "Sector_Retail                         bool\n",
            "Keyword Count                        int64\n",
            "dtype: object\n"
          ]
        }
      ]
    },
    {
      "cell_type": "code",
      "source": [
        "print(X_train.isnull().sum())\n",
        "print(X_test.isnull().sum())\n"
      ],
      "metadata": {
        "colab": {
          "base_uri": "https://localhost:8080/"
        },
        "id": "AkgGt99pf6sT",
        "outputId": "7775f411-2db2-4ca0-9a78-c7482ef75250"
      },
      "execution_count": 12,
      "outputs": [
        {
          "output_type": "stream",
          "name": "stdout",
          "text": [
            "Email Length                       0\n",
            "Attachments                        0\n",
            "Link Count                         0\n",
            "Sender Domain_aol.com              0\n",
            "Sender Domain_gmail.com            0\n",
            "Sender Domain_icloud.com           0\n",
            "Sender Domain_outlook.com          0\n",
            "Sender Domain_protonmail.com       0\n",
            "Sender Domain_yahoo.com            0\n",
            "Recipient Domain_aol.com           0\n",
            "Recipient Domain_gmail.com         0\n",
            "Recipient Domain_icloud.com        0\n",
            "Recipient Domain_outlook.com       0\n",
            "Recipient Domain_protonmail.com    0\n",
            "Recipient Domain_yahoo.com         0\n",
            "Sector_Healthcare                  0\n",
            "Sector_Retail                      0\n",
            "Keyword Count                      0\n",
            "dtype: int64\n",
            "Email Length                       0\n",
            "Attachments                        0\n",
            "Link Count                         0\n",
            "Sender Domain_aol.com              0\n",
            "Sender Domain_gmail.com            0\n",
            "Sender Domain_icloud.com           0\n",
            "Sender Domain_outlook.com          0\n",
            "Sender Domain_protonmail.com       0\n",
            "Sender Domain_yahoo.com            0\n",
            "Recipient Domain_aol.com           0\n",
            "Recipient Domain_gmail.com         0\n",
            "Recipient Domain_icloud.com        0\n",
            "Recipient Domain_outlook.com       0\n",
            "Recipient Domain_protonmail.com    0\n",
            "Recipient Domain_yahoo.com         0\n",
            "Sector_Healthcare                  0\n",
            "Sector_Retail                      0\n",
            "Keyword Count                      0\n",
            "dtype: int64\n"
          ]
        }
      ]
    },
    {
      "cell_type": "code",
      "source": [
        "print(X_train.isnull().sum())\n",
        "print(X_test.isnull().sum())\n"
      ],
      "metadata": {
        "colab": {
          "base_uri": "https://localhost:8080/"
        },
        "id": "UvGowAnvgPty",
        "outputId": "ca46176f-09f1-4108-c8b7-3197a31df847"
      },
      "execution_count": 14,
      "outputs": [
        {
          "output_type": "stream",
          "name": "stdout",
          "text": [
            "Email Length                       0\n",
            "Attachments                        0\n",
            "Link Count                         0\n",
            "Sender Domain_aol.com              0\n",
            "Sender Domain_gmail.com            0\n",
            "Sender Domain_icloud.com           0\n",
            "Sender Domain_outlook.com          0\n",
            "Sender Domain_protonmail.com       0\n",
            "Sender Domain_yahoo.com            0\n",
            "Recipient Domain_aol.com           0\n",
            "Recipient Domain_gmail.com         0\n",
            "Recipient Domain_icloud.com        0\n",
            "Recipient Domain_outlook.com       0\n",
            "Recipient Domain_protonmail.com    0\n",
            "Recipient Domain_yahoo.com         0\n",
            "Sector_Healthcare                  0\n",
            "Sector_Retail                      0\n",
            "Keyword Count                      0\n",
            "dtype: int64\n",
            "Email Length                       0\n",
            "Attachments                        0\n",
            "Link Count                         0\n",
            "Sender Domain_aol.com              0\n",
            "Sender Domain_gmail.com            0\n",
            "Sender Domain_icloud.com           0\n",
            "Sender Domain_outlook.com          0\n",
            "Sender Domain_protonmail.com       0\n",
            "Sender Domain_yahoo.com            0\n",
            "Recipient Domain_aol.com           0\n",
            "Recipient Domain_gmail.com         0\n",
            "Recipient Domain_icloud.com        0\n",
            "Recipient Domain_outlook.com       0\n",
            "Recipient Domain_protonmail.com    0\n",
            "Recipient Domain_yahoo.com         0\n",
            "Sector_Healthcare                  0\n",
            "Sector_Retail                      0\n",
            "Keyword Count                      0\n",
            "dtype: int64\n"
          ]
        }
      ]
    },
    {
      "cell_type": "code",
      "source": [
        "X_train.fillna(X_train.mean(), inplace=True)\n",
        "X_test.fillna(X_test.mean(), inplace=True)\n",
        "X_train.fillna(X_train.mode().iloc[0], inplace=True)\n",
        "X_test.fillna(X_test.mode().iloc[0], inplace=True)\n"
      ],
      "metadata": {
        "id": "YQctnJemgRgy"
      },
      "execution_count": 15,
      "outputs": []
    },
    {
      "cell_type": "code",
      "source": [
        "X_train.dropna(inplace=True)\n",
        "X_test.dropna(inplace=True)\n",
        "X_train.dropna(axis=1, inplace=True)\n",
        "X_test.dropna(axis=1, inplace=True)\n"
      ],
      "metadata": {
        "id": "h-0H7NqDgVpv"
      },
      "execution_count": 16,
      "outputs": []
    },
    {
      "cell_type": "code",
      "source": [
        "print(X_train.isnull().sum().sum())  # Should return 0\n",
        "print(X_test.isnull().sum().sum())  # Should return 0\n"
      ],
      "metadata": {
        "colab": {
          "base_uri": "https://localhost:8080/"
        },
        "id": "meC_nIT6gZSQ",
        "outputId": "960af457-16a0-48b0-9e15-0f31dd1836aa"
      },
      "execution_count": 17,
      "outputs": [
        {
          "output_type": "stream",
          "name": "stdout",
          "text": [
            "0\n",
            "0\n"
          ]
        }
      ]
    },
    {
      "cell_type": "code",
      "source": [
        "print(X_train.isnull().sum())  # Check missing values column-wise in X_train\n",
        "print(X_test.isnull().sum())  # Check missing values column-wise in X_test\n",
        "print(y_train.isnull().sum())  # Check missing values in y_train\n",
        "print(y_test.isnull().sum())  # Check missing values in y_test\n"
      ],
      "metadata": {
        "colab": {
          "base_uri": "https://localhost:8080/"
        },
        "id": "p9OLkE48gr2-",
        "outputId": "2eacdb53-2097-4e5a-dff7-284d6586100d"
      },
      "execution_count": 19,
      "outputs": [
        {
          "output_type": "stream",
          "name": "stdout",
          "text": [
            "Email Length                       0\n",
            "Attachments                        0\n",
            "Link Count                         0\n",
            "Sender Domain_aol.com              0\n",
            "Sender Domain_gmail.com            0\n",
            "Sender Domain_icloud.com           0\n",
            "Sender Domain_outlook.com          0\n",
            "Sender Domain_protonmail.com       0\n",
            "Sender Domain_yahoo.com            0\n",
            "Recipient Domain_aol.com           0\n",
            "Recipient Domain_gmail.com         0\n",
            "Recipient Domain_icloud.com        0\n",
            "Recipient Domain_outlook.com       0\n",
            "Recipient Domain_protonmail.com    0\n",
            "Recipient Domain_yahoo.com         0\n",
            "Sector_Healthcare                  0\n",
            "Sector_Retail                      0\n",
            "Keyword Count                      0\n",
            "dtype: int64\n",
            "Email Length                       0\n",
            "Attachments                        0\n",
            "Link Count                         0\n",
            "Sender Domain_aol.com              0\n",
            "Sender Domain_gmail.com            0\n",
            "Sender Domain_icloud.com           0\n",
            "Sender Domain_outlook.com          0\n",
            "Sender Domain_protonmail.com       0\n",
            "Sender Domain_yahoo.com            0\n",
            "Recipient Domain_aol.com           0\n",
            "Recipient Domain_gmail.com         0\n",
            "Recipient Domain_icloud.com        0\n",
            "Recipient Domain_outlook.com       0\n",
            "Recipient Domain_protonmail.com    0\n",
            "Recipient Domain_yahoo.com         0\n",
            "Sector_Healthcare                  0\n",
            "Sector_Retail                      0\n",
            "Keyword Count                      0\n",
            "dtype: int64\n",
            "12\n",
            "2\n"
          ]
        }
      ]
    },
    {
      "cell_type": "code",
      "source": [
        "X_train.fillna(X_train.mean(), inplace=True)\n",
        "X_test.fillna(X_test.mean(), inplace=True)\n"
      ],
      "metadata": {
        "id": "wJpKDl1Igs0v"
      },
      "execution_count": 20,
      "outputs": []
    },
    {
      "cell_type": "code",
      "source": [
        "X_train.dropna(inplace=True)\n",
        "X_test.dropna(inplace=True)\n",
        "y_train = y_train[X_train.index]  # Ensure alignment after dropping rows\n",
        "y_test = y_test[X_test.index]\n"
      ],
      "metadata": {
        "id": "qHmaFok2gv2t"
      },
      "execution_count": 21,
      "outputs": []
    },
    {
      "cell_type": "code",
      "source": [
        "print(X_train.isnull().sum().sum())  # Should output 0\n",
        "print(X_test.isnull().sum().sum())  # Should output 0\n",
        "print(y_train.isnull().sum())  # Should output 0\n",
        "print(y_test.isnull().sum())  # Should output 0\n"
      ],
      "metadata": {
        "colab": {
          "base_uri": "https://localhost:8080/"
        },
        "id": "025TG_iYg0lz",
        "outputId": "20549156-b775-49b5-863a-bddf35971b72"
      },
      "execution_count": 22,
      "outputs": [
        {
          "output_type": "stream",
          "name": "stdout",
          "text": [
            "0\n",
            "0\n",
            "12\n",
            "2\n"
          ]
        }
      ]
    },
    {
      "cell_type": "code",
      "source": [
        "print(y_train[y_train.isnull()])\n",
        "print(y_test[y_test.isnull()])\n"
      ],
      "metadata": {
        "colab": {
          "base_uri": "https://localhost:8080/"
        },
        "id": "ZVq-vetug_hr",
        "outputId": "a7e8fe99-5bc2-486f-dee3-bb8a1a6e29a9"
      },
      "execution_count": 23,
      "outputs": [
        {
          "output_type": "stream",
          "name": "stdout",
          "text": [
            "15     NaN\n",
            "473    NaN\n",
            "113    NaN\n",
            "211    NaN\n",
            "472    NaN\n",
            "237    NaN\n",
            "455    NaN\n",
            "89     NaN\n",
            "467    NaN\n",
            "27     NaN\n",
            "161    NaN\n",
            "474    NaN\n",
            "Name: Label, dtype: object\n",
            "218    NaN\n",
            "153    NaN\n",
            "Name: Label, dtype: object\n"
          ]
        }
      ]
    },
    {
      "cell_type": "code",
      "source": [
        "# Drop NaN from y_train and align X_train\n",
        "y_train_clean = y_train.dropna()\n",
        "X_train_clean = X_train.loc[y_train_clean.index]\n",
        "\n",
        "# Drop NaN from y_test and align X_test\n",
        "y_test_clean = y_test.dropna()\n",
        "X_test_clean = X_test.loc[y_test_clean.index]\n"
      ],
      "metadata": {
        "id": "at4dWPoXhN3f"
      },
      "execution_count": 24,
      "outputs": []
    },
    {
      "cell_type": "code",
      "source": [
        "# Drop NaN from y_train and align X_train\n",
        "y_train_clean = y_train.dropna()\n",
        "X_train_clean = X_train.loc[y_train_clean.index]\n",
        "\n",
        "# Drop NaN from y_test and align X_test\n",
        "y_test_clean = y_test.dropna()\n",
        "X_test_clean = X_test.loc[y_test_clean.index]\n"
      ],
      "metadata": {
        "id": "bcL4KREWheQL"
      },
      "execution_count": 25,
      "outputs": []
    },
    {
      "cell_type": "code",
      "source": [
        "print(y_train_clean.isnull().sum())  # Should print 0\n",
        "print(y_test_clean.isnull().sum())  # Should print 0\n"
      ],
      "metadata": {
        "colab": {
          "base_uri": "https://localhost:8080/"
        },
        "id": "fZwMC-RUhgQy",
        "outputId": "ecc70929-cbf1-40cd-8000-de262a0dec10"
      },
      "execution_count": 26,
      "outputs": [
        {
          "output_type": "stream",
          "name": "stdout",
          "text": [
            "0\n",
            "0\n"
          ]
        }
      ]
    },
    {
      "cell_type": "code",
      "source": [
        "from sklearn.ensemble import RandomForestClassifier\n",
        "from sklearn.metrics import classification_report\n",
        "\n",
        "# Train the model\n",
        "model = RandomForestClassifier(random_state=42)\n",
        "model.fit(X_train_clean, y_train_clean)\n",
        "\n",
        "# Make predictions\n",
        "y_pred = model.predict(X_test_clean)\n",
        "\n",
        "# Evaluate the model\n",
        "print(classification_report(y_test_clean, y_pred))\n"
      ],
      "metadata": {
        "colab": {
          "base_uri": "https://localhost:8080/"
        },
        "id": "UARhCBA5hiPx",
        "outputId": "ffc90043-1dd8-45fb-c3aa-21f0ee474613"
      },
      "execution_count": 27,
      "outputs": [
        {
          "output_type": "stream",
          "name": "stdout",
          "text": [
            "              precision    recall  f1-score   support\n",
            "\n",
            "       Error       0.00      0.00      0.00         1\n",
            "  Legitimate       0.53      0.40      0.46        45\n",
            "    Phishing       0.59      0.71      0.65        56\n",
            "\n",
            "    accuracy                           0.57       102\n",
            "   macro avg       0.37      0.37      0.37       102\n",
            "weighted avg       0.56      0.57      0.56       102\n",
            "\n"
          ]
        }
      ]
    },
    {
      "cell_type": "code",
      "source": [
        "from sklearn.ensemble import RandomForestClassifier\n",
        "from sklearn.metrics import classification_report, accuracy_score\n",
        "\n",
        "# Train the model\n",
        "model = RandomForestClassifier(random_state=42)\n",
        "model.fit(X_train_clean, y_train_clean)\n",
        "\n",
        "# Predict on the test set\n",
        "y_pred = model.predict(X_test_clean)\n"
      ],
      "metadata": {
        "id": "YJjG1AbOhtRj"
      },
      "execution_count": 28,
      "outputs": []
    },
    {
      "cell_type": "code",
      "source": [
        "# Evaluate the model\n",
        "print(\"Accuracy:\", accuracy_score(y_test_clean, y_pred))\n",
        "print(\"\\nClassification Report:\\n\", classification_report(y_test_clean, y_pred))\n"
      ],
      "metadata": {
        "colab": {
          "base_uri": "https://localhost:8080/"
        },
        "id": "5BPPkTEQhv1I",
        "outputId": "fb70703f-060f-4b55-c132-37acadb023f1"
      },
      "execution_count": 29,
      "outputs": [
        {
          "output_type": "stream",
          "name": "stdout",
          "text": [
            "Accuracy: 0.5686274509803921\n",
            "\n",
            "Classification Report:\n",
            "               precision    recall  f1-score   support\n",
            "\n",
            "       Error       0.00      0.00      0.00         1\n",
            "  Legitimate       0.53      0.40      0.46        45\n",
            "    Phishing       0.59      0.71      0.65        56\n",
            "\n",
            "    accuracy                           0.57       102\n",
            "   macro avg       0.37      0.37      0.37       102\n",
            "weighted avg       0.56      0.57      0.56       102\n",
            "\n"
          ]
        }
      ]
    },
    {
      "cell_type": "code",
      "source": [
        "import joblib\n",
        "\n",
        "# Save the model to a file\n",
        "joblib.dump(model, 'random_forest_model.pkl')\n",
        "\n",
        "# Load the model later\n",
        "loaded_model = joblib.load('random_forest_model.pkl')\n"
      ],
      "metadata": {
        "id": "o3XiCwFghy-R"
      },
      "execution_count": 30,
      "outputs": []
    },
    {
      "cell_type": "code",
      "source": [
        "import matplotlib.pyplot as plt\n",
        "import pandas as pd\n",
        "\n",
        "# Get feature importance\n",
        "feature_importance = pd.Series(model.feature_importances_, index=X_train_clean.columns)\n",
        "\n",
        "# Plot feature importance\n",
        "feature_importance.sort_values(ascending=False).head(10).plot(kind='bar')\n",
        "plt.title(\"Top 10 Feature Importances\")\n",
        "plt.show()\n"
      ],
      "metadata": {
        "colab": {
          "base_uri": "https://localhost:8080/",
          "height": 654
        },
        "id": "CWn1ekVSh1vj",
        "outputId": "c5c0af83-74ae-4a52-cf3f-2f2399ca872f"
      },
      "execution_count": 31,
      "outputs": [
        {
          "output_type": "display_data",
          "data": {
            "text/plain": [
              "<Figure size 640x480 with 1 Axes>"
            ],
            "image/png": "[encoded data removed]"
          },
          "metadata": {}
        }
      ]
    },
    {
      "cell_type": "code",
      "source": [
        "import pandas as pd\n",
        "from sklearn.ensemble import RandomForestClassifier\n",
        "from sklearn.metrics import accuracy_score, classification_report\n",
        "\n",
        "# Step 1: Drop rows with NaNs in either X_train or y_train\n",
        "# Drop rows with NaNs in X_train and align y_train accordingly\n",
        "X_train_clean = X_train.dropna()\n",
        "y_train_clean = y_train[X_train_clean.index]  # Align y_train with X_train_clean\n",
        "\n",
        "# Drop rows with NaN in y_train_clean (if any)\n",
        "y_train_clean = y_train_clean.dropna()\n",
        "\n",
        "# Ensure X_train_clean and y_train_clean have the same number of rows\n",
        "X_train_clean, y_train_clean = X_train_clean.align(y_train_clean, join='inner', axis=0)\n",
        "\n",
        "# Verify that there are no NaNs left in X_train_clean and y_train_clean\n",
        "print(\"\\nNaN values in X_train_clean:\", X_train_clean.isnull().sum().sum())\n",
        "print(\"NaN values in y_train_clean:\", y_train_clean.isnull().sum())\n",
        "\n",
        "# Step 2: Clean X_test and y_test similarly (if needed)\n",
        "X_test_clean = X_test.dropna()\n",
        "y_test_clean = y_test[X_test_clean.index]\n",
        "\n",
        "# Drop rows with NaN in y_test_clean (if any)\n",
        "y_test_clean = y_test_clean.dropna()\n",
        "\n",
        "# Ensure X_test_clean and y_test_clean have the same number of rows\n",
        "X_test_clean, y_test_clean = X_test_clean.align(y_test_clean, join='inner', axis=0)\n",
        "\n",
        "# Verify that there are no NaNs left in X_test_clean and y_test_clean\n",
        "print(\"\\nNaN values in X_test_clean:\", X_test_clean.isnull().sum().sum())\n",
        "print(\"NaN values in y_test_clean:\", y_test_clean.isnull().sum())\n",
        "\n",
        "# Step 3: Train the model on the cleaned data\n",
        "model = RandomForestClassifier(random_state=42)\n",
        "model.fit(X_train_clean, y_train_clean)\n",
        "\n",
        "# Step 4: Make predictions and evaluate the model\n",
        "y_pred = model.predict(X_test_clean)\n",
        "\n",
        "# Evaluate the model's performance\n",
        "print(\"\\nAccuracy:\", accuracy_score(y_test_clean, y_pred))\n",
        "print(\"\\nClassification Report:\\n\", classification_report(y_test_clean, y_pred))\n"
      ],
      "metadata": {
        "colab": {
          "base_uri": "https://localhost:8080/"
        },
        "id": "PoNi2LycprfU",
        "outputId": "aa7c9dac-11dd-4b3c-e384-86b7873e0652"
      },
      "execution_count": 43,
      "outputs": [
        {
          "output_type": "stream",
          "name": "stdout",
          "text": [
            "\n",
            "NaN values in X_train_clean: 0\n",
            "NaN values in y_train_clean: 0\n",
            "\n",
            "NaN values in X_test_clean: 0\n",
            "NaN values in y_test_clean: 0\n",
            "\n",
            "Accuracy: 0.5686274509803921\n",
            "\n",
            "Classification Report:\n",
            "               precision    recall  f1-score   support\n",
            "\n",
            "       Error       0.00      0.00      0.00         1\n",
            "  Legitimate       0.53      0.40      0.46        45\n",
            "    Phishing       0.59      0.71      0.65        56\n",
            "\n",
            "    accuracy                           0.57       102\n",
            "   macro avg       0.37      0.37      0.37       102\n",
            "weighted avg       0.56      0.57      0.56       102\n",
            "\n"
          ]
        }
      ]
    },
    {
      "cell_type": "code",
      "source": [
        "# Evaluate the model's performance\n",
        "print(\"Accuracy:\", accuracy_score(y_test_clean, y_pred))\n",
        "print(\"\\nClassification Report:\\n\", classification_report(y_test_clean, y_pred))\n"
      ],
      "metadata": {
        "colab": {
          "base_uri": "https://localhost:8080/"
        },
        "id": "7sh-wgWspui8",
        "outputId": "a4a22f0d-94a2-4b96-94a3-95d75eab8838"
      },
      "execution_count": 44,
      "outputs": [
        {
          "output_type": "stream",
          "name": "stdout",
          "text": [
            "Accuracy: 0.5686274509803921\n",
            "\n",
            "Classification Report:\n",
            "               precision    recall  f1-score   support\n",
            "\n",
            "       Error       0.00      0.00      0.00         1\n",
            "  Legitimate       0.53      0.40      0.46        45\n",
            "    Phishing       0.59      0.71      0.65        56\n",
            "\n",
            "    accuracy                           0.57       102\n",
            "   macro avg       0.37      0.37      0.37       102\n",
            "weighted avg       0.56      0.57      0.56       102\n",
            "\n"
          ]
        }
      ]
    },
    {
      "cell_type": "code",
      "source": [
        "import matplotlib.pyplot as plt\n",
        "import pandas as pd\n",
        "\n",
        "# Get feature importance from the trained model\n",
        "feature_importance = pd.Series(model.feature_importances_, index=X_train_clean.columns)\n",
        "\n",
        "# Plot the top 10 most important features\n",
        "feature_importance.sort_values(ascending=False).head(10).plot(kind='bar')\n",
        "plt.title(\"Top 10 Feature Importances\")\n",
        "plt.show()\n"
      ],
      "metadata": {
        "colab": {
          "base_uri": "https://localhost:8080/",
          "height": 654
        },
        "id": "P89xb-W8p9VJ",
        "outputId": "1f5a7a9c-6d05-4bd0-f750-9b9bed0ed922"
      },
      "execution_count": 45,
      "outputs": [
        {
          "output_type": "display_data",
          "data": {
            "text/plain": [
              "<Figure size 640x480 with 1 Axes>"
            ],
            "image/png": "[encoded data removed]"
          },
          "metadata": {}
        }
      ]
    },
    {
      "cell_type": "code",
      "source": [
        "import joblib\n",
        "\n",
        "# Save the trained model to a file\n",
        "joblib.dump(model, 'random_forest_model.pkl')\n",
        "\n",
        "# Later, you can load the model for inference\n",
        "loaded_model = joblib.load('random_forest_model.pkl')\n"
      ],
      "metadata": {
        "id": "kiWh2QU6qBUL"
      },
      "execution_count": 46,
      "outputs": []
    },
    {
      "cell_type": "code",
      "source": [
        "import pandas as pd\n",
        "\n",
        "# Assuming 'Timestamp' is the column with the timestamp of the emails\n",
        "df = pd.read_csv('/content/gdrive/MyDrive/DA/DA Assignment/Phishing_Email_Dataset_Ucl.csv')\n",
        "\n",
        "monthly_trends = df.groupby('Year_Month').size()  # Count emails per month\n",
        "print\n",
        "print(monthly_trends)\n",
        "\n",
        "# Plotting the trend\n",
        "monthly_trends.plot(kind='line')\n",
        "plt.title('Phishing Emails Over Time')\n",
        "plt.xlabel('Month')\n",
        "plt.ylabel('Number of Emails')\n",
        "plt.show()\n",
        "\n"
      ],
      "metadata": {
        "colab": {
          "base_uri": "https://localhost:8080/",
          "height": 408
        },
        "id": "jUu2SF-90sTX",
        "outputId": "7706467f-af57-4432-bc0e-ba3daf027716"
      },
      "execution_count": 61,
      "outputs": [
        {
          "output_type": "error",
          "ename": "KeyError",
          "evalue": "'Year_Month'",
          "traceback": [
            "\u001b[0;31m---------------------------------------------------------------------------\u001b[0m",
            "\u001b[0;31mKeyError\u001b[0m                                  Traceback (most recent call last)",
            "\u001b[0;32m<ipython-input-61-f6dae55ed9a7>\u001b[0m in \u001b[0;36m<cell line: 6>\u001b[0;34m()\u001b[0m\n\u001b[1;32m      4\u001b[0m \u001b[0mdf\u001b[0m \u001b[0;34m=\u001b[0m \u001b[0mpd\u001b[0m\u001b[0;34m.\u001b[0m\u001b[0mread_csv\u001b[0m\u001b[0;34m(\u001b[0m\u001b[0;34m'/content/gdrive/MyDrive/DA/DA Assignment/Phishing_Email_Dataset_Ucl.csv'\u001b[0m\u001b[0;34m)\u001b[0m\u001b[0;34m\u001b[0m\u001b[0;34m\u001b[0m\u001b[0m\n\u001b[1;32m      5\u001b[0m \u001b[0;34m\u001b[0m\u001b[0m\n\u001b[0;32m----> 6\u001b[0;31m \u001b[0mmonthly_trends\u001b[0m \u001b[0;34m=\u001b[0m \u001b[0mdf\u001b[0m\u001b[0;34m.\u001b[0m\u001b[0mgroupby\u001b[0m\u001b[0;34m(\u001b[0m\u001b[0;34m'Year_Month'\u001b[0m\u001b[0;34m)\u001b[0m\u001b[0;34m.\u001b[0m\u001b[0msize\u001b[0m\u001b[0;34m(\u001b[0m\u001b[0;34m)\u001b[0m  \u001b[0;31m# Count emails per month\u001b[0m\u001b[0;34m\u001b[0m\u001b[0;34m\u001b[0m\u001b[0m\n\u001b[0m\u001b[1;32m      7\u001b[0m \u001b[0mprint\u001b[0m\u001b[0;34m\u001b[0m\u001b[0;34m\u001b[0m\u001b[0m\n\u001b[1;32m      8\u001b[0m \u001b[0mprint\u001b[0m\u001b[0;34m(\u001b[0m\u001b[0mmonthly_trends\u001b[0m\u001b[0;34m)\u001b[0m\u001b[0;34m\u001b[0m\u001b[0;34m\u001b[0m\u001b[0m\n",
            "\u001b[0;32m/usr/local/lib/python3.10/dist-packages/pandas/core/frame.py\u001b[0m in \u001b[0;36mgroupby\u001b[0;34m(self, by, axis, level, as_index, sort, group_keys, observed, dropna)\u001b[0m\n\u001b[1;32m   9181\u001b[0m             \u001b[0;32mraise\u001b[0m \u001b[0mTypeError\u001b[0m\u001b[0;34m(\u001b[0m\u001b[0;34m\"You have to supply one of 'by' and 'level'\"\u001b[0m\u001b[0;34m)\u001b[0m\u001b[0;34m\u001b[0m\u001b[0;34m\u001b[0m\u001b[0m\n\u001b[1;32m   9182\u001b[0m \u001b[0;34m\u001b[0m\u001b[0m\n\u001b[0;32m-> 9183\u001b[0;31m         return DataFrameGroupBy(\n\u001b[0m\u001b[1;32m   9184\u001b[0m             \u001b[0mobj\u001b[0m\u001b[0;34m=\u001b[0m\u001b[0mself\u001b[0m\u001b[0;34m,\u001b[0m\u001b[0;34m\u001b[0m\u001b[0;34m\u001b[0m\u001b[0m\n\u001b[1;32m   9185\u001b[0m             \u001b[0mkeys\u001b[0m\u001b[0;34m=\u001b[0m\u001b[0mby\u001b[0m\u001b[0;34m,\u001b[0m\u001b[0;34m\u001b[0m\u001b[0;34m\u001b[0m\u001b[0m\n",
            "\u001b[0;32m/usr/local/lib/python3.10/dist-packages/pandas/core/groupby/groupby.py\u001b[0m in \u001b[0;36m__init__\u001b[0;34m(self, obj, keys, axis, level, grouper, exclusions, selection, as_index, sort, group_keys, observed, dropna)\u001b[0m\n\u001b[1;32m   1327\u001b[0m \u001b[0;34m\u001b[0m\u001b[0m\n\u001b[1;32m   1328\u001b[0m         \u001b[0;32mif\u001b[0m \u001b[0mgrouper\u001b[0m \u001b[0;32mis\u001b[0m \u001b[0;32mNone\u001b[0m\u001b[0;34m:\u001b[0m\u001b[0;34m\u001b[0m\u001b[0;34m\u001b[0m\u001b[0m\n\u001b[0;32m-> 1329\u001b[0;31m             grouper, exclusions, obj = get_grouper(\n\u001b[0m\u001b[1;32m   1330\u001b[0m                 \u001b[0mobj\u001b[0m\u001b[0;34m,\u001b[0m\u001b[0;34m\u001b[0m\u001b[0;34m\u001b[0m\u001b[0m\n\u001b[1;32m   1331\u001b[0m                 \u001b[0mkeys\u001b[0m\u001b[0;34m,\u001b[0m\u001b[0;34m\u001b[0m\u001b[0;34m\u001b[0m\u001b[0m\n",
            "\u001b[0;32m/usr/local/lib/python3.10/dist-packages/pandas/core/groupby/grouper.py\u001b[0m in \u001b[0;36mget_grouper\u001b[0;34m(obj, key, axis, level, sort, observed, validate, dropna)\u001b[0m\n\u001b[1;32m   1041\u001b[0m                 \u001b[0min_axis\u001b[0m\u001b[0;34m,\u001b[0m \u001b[0mlevel\u001b[0m\u001b[0;34m,\u001b[0m \u001b[0mgpr\u001b[0m \u001b[0;34m=\u001b[0m \u001b[0;32mFalse\u001b[0m\u001b[0;34m,\u001b[0m \u001b[0mgpr\u001b[0m\u001b[0;34m,\u001b[0m \u001b[0;32mNone\u001b[0m\u001b[0;34m\u001b[0m\u001b[0;34m\u001b[0m\u001b[0m\n\u001b[1;32m   1042\u001b[0m             \u001b[0;32melse\u001b[0m\u001b[0;34m:\u001b[0m\u001b[0;34m\u001b[0m\u001b[0;34m\u001b[0m\u001b[0m\n\u001b[0;32m-> 1043\u001b[0;31m                 \u001b[0;32mraise\u001b[0m \u001b[0mKeyError\u001b[0m\u001b[0;34m(\u001b[0m\u001b[0mgpr\u001b[0m\u001b[0;34m)\u001b[0m\u001b[0;34m\u001b[0m\u001b[0;34m\u001b[0m\u001b[0m\n\u001b[0m\u001b[1;32m   1044\u001b[0m         \u001b[0;32melif\u001b[0m \u001b[0misinstance\u001b[0m\u001b[0;34m(\u001b[0m\u001b[0mgpr\u001b[0m\u001b[0;34m,\u001b[0m \u001b[0mGrouper\u001b[0m\u001b[0;34m)\u001b[0m \u001b[0;32mand\u001b[0m \u001b[0mgpr\u001b[0m\u001b[0;34m.\u001b[0m\u001b[0mkey\u001b[0m \u001b[0;32mis\u001b[0m \u001b[0;32mnot\u001b[0m \u001b[0;32mNone\u001b[0m\u001b[0;34m:\u001b[0m\u001b[0;34m\u001b[0m\u001b[0;34m\u001b[0m\u001b[0m\n\u001b[1;32m   1045\u001b[0m             \u001b[0;31m# Add key to exclusions\u001b[0m\u001b[0;34m\u001b[0m\u001b[0;34m\u001b[0m\u001b[0m\n",
            "\u001b[0;31mKeyError\u001b[0m: 'Year_Month'"
          ]
        }
      ]
    },
    {
      "source": [
        "import pandas as pd\n",
        "import matplotlib.pyplot as plt\n",
        "\n",
        "# Assuming 'Timestamp' is the column with the timestamp of the emails\n",
        "df = pd.read_csv('/content/gdrive/MyDrive/DA/DA Assignment/Phishing_Email_Dataset_Ucl.csv')\n",
        "\n",
        "# Check the actual column names in the DataFrame\n"
      ],
      "cell_type": "code",
      "metadata": {
        "id": "b3-DMufa1YYg"
      },
      "execution_count": 62,
      "outputs": []
    },
    {
      "cell_type": "code",
      "source": [],
      "metadata": {
        "id": "upDxz-V_1cHf"
      },
      "execution_count": null,
      "outputs": []
    },
    {
      "cell_type": "code",
      "source": [
        "import pandas as pd\n",
        "\n",
        "# Assuming 'Timestamp' is the column with the timestamp of the emails\n",
        "df = pd.read_csv('/content/gdrive/MyDrive/DA/DA Assignment/Phishing_Email_Dataset_Ucl.csv')\n",
        "\n",
        "monthly_trends = df.groupby('Year_Month').size()  # Count emails per month\n",
        "print\n",
        "print(monthly_trends)\n",
        "\n",
        "# Plotting the trend\n",
        "monthly_trends.plot(kind='line')\n",
        "plt.title('Phishing Emails Over Time')\n",
        "plt.xlabel('Month')\n",
        "plt.ylabel('Number of Emails')\n",
        "plt.show()\n",
        "\n"
      ],
      "metadata": {
        "colab": {
          "base_uri": "https://localhost:8080/",
          "height": 408
        },
        "outputId": "a454e960-a8d5-462a-fbca-457a0dab3b2b",
        "id": "xSklOuCx1cVQ"
      },
      "execution_count": 63,
      "outputs": [
        {
          "output_type": "error",
          "ename": "KeyError",
          "evalue": "'Year_Month'",
          "traceback": [
            "\u001b[0;31m---------------------------------------------------------------------------\u001b[0m",
            "\u001b[0;31mKeyError\u001b[0m                                  Traceback (most recent call last)",
            "\u001b[0;32m<ipython-input-63-f6dae55ed9a7>\u001b[0m in \u001b[0;36m<cell line: 6>\u001b[0;34m()\u001b[0m\n\u001b[1;32m      4\u001b[0m \u001b[0mdf\u001b[0m \u001b[0;34m=\u001b[0m \u001b[0mpd\u001b[0m\u001b[0;34m.\u001b[0m\u001b[0mread_csv\u001b[0m\u001b[0;34m(\u001b[0m\u001b[0;34m'/content/gdrive/MyDrive/DA/DA Assignment/Phishing_Email_Dataset_Ucl.csv'\u001b[0m\u001b[0;34m)\u001b[0m\u001b[0;34m\u001b[0m\u001b[0;34m\u001b[0m\u001b[0m\n\u001b[1;32m      5\u001b[0m \u001b[0;34m\u001b[0m\u001b[0m\n\u001b[0;32m----> 6\u001b[0;31m \u001b[0mmonthly_trends\u001b[0m \u001b[0;34m=\u001b[0m \u001b[0mdf\u001b[0m\u001b[0;34m.\u001b[0m\u001b[0mgroupby\u001b[0m\u001b[0;34m(\u001b[0m\u001b[0;34m'Year_Month'\u001b[0m\u001b[0;34m)\u001b[0m\u001b[0;34m.\u001b[0m\u001b[0msize\u001b[0m\u001b[0;34m(\u001b[0m\u001b[0;34m)\u001b[0m  \u001b[0;31m# Count emails per month\u001b[0m\u001b[0;34m\u001b[0m\u001b[0;34m\u001b[0m\u001b[0m\n\u001b[0m\u001b[1;32m      7\u001b[0m \u001b[0mprint\u001b[0m\u001b[0;34m\u001b[0m\u001b[0;34m\u001b[0m\u001b[0m\n\u001b[1;32m      8\u001b[0m \u001b[0mprint\u001b[0m\u001b[0;34m(\u001b[0m\u001b[0mmonthly_trends\u001b[0m\u001b[0;34m)\u001b[0m\u001b[0;34m\u001b[0m\u001b[0;34m\u001b[0m\u001b[0m\n",
            "\u001b[0;32m/usr/local/lib/python3.10/dist-packages/pandas/core/frame.py\u001b[0m in \u001b[0;36mgroupby\u001b[0;34m(self, by, axis, level, as_index, sort, group_keys, observed, dropna)\u001b[0m\n\u001b[1;32m   9181\u001b[0m             \u001b[0;32mraise\u001b[0m \u001b[0mTypeError\u001b[0m\u001b[0;34m(\u001b[0m\u001b[0;34m\"You have to supply one of 'by' and 'level'\"\u001b[0m\u001b[0;34m)\u001b[0m\u001b[0;34m\u001b[0m\u001b[0;34m\u001b[0m\u001b[0m\n\u001b[1;32m   9182\u001b[0m \u001b[0;34m\u001b[0m\u001b[0m\n\u001b[0;32m-> 9183\u001b[0;31m         return DataFrameGroupBy(\n\u001b[0m\u001b[1;32m   9184\u001b[0m             \u001b[0mobj\u001b[0m\u001b[0;34m=\u001b[0m\u001b[0mself\u001b[0m\u001b[0;34m,\u001b[0m\u001b[0;34m\u001b[0m\u001b[0;34m\u001b[0m\u001b[0m\n\u001b[1;32m   9185\u001b[0m             \u001b[0mkeys\u001b[0m\u001b[0;34m=\u001b[0m\u001b[0mby\u001b[0m\u001b[0;34m,\u001b[0m\u001b[0;34m\u001b[0m\u001b[0;34m\u001b[0m\u001b[0m\n",
            "\u001b[0;32m/usr/local/lib/python3.10/dist-packages/pandas/core/groupby/groupby.py\u001b[0m in \u001b[0;36m__init__\u001b[0;34m(self, obj, keys, axis, level, grouper, exclusions, selection, as_index, sort, group_keys, observed, dropna)\u001b[0m\n\u001b[1;32m   1327\u001b[0m \u001b[0;34m\u001b[0m\u001b[0m\n\u001b[1;32m   1328\u001b[0m         \u001b[0;32mif\u001b[0m \u001b[0mgrouper\u001b[0m \u001b[0;32mis\u001b[0m \u001b[0;32mNone\u001b[0m\u001b[0;34m:\u001b[0m\u001b[0;34m\u001b[0m\u001b[0;34m\u001b[0m\u001b[0m\n\u001b[0;32m-> 1329\u001b[0;31m             grouper, exclusions, obj = get_grouper(\n\u001b[0m\u001b[1;32m   1330\u001b[0m                 \u001b[0mobj\u001b[0m\u001b[0;34m,\u001b[0m\u001b[0;34m\u001b[0m\u001b[0;34m\u001b[0m\u001b[0m\n\u001b[1;32m   1331\u001b[0m                 \u001b[0mkeys\u001b[0m\u001b[0;34m,\u001b[0m\u001b[0;34m\u001b[0m\u001b[0;34m\u001b[0m\u001b[0m\n",
            "\u001b[0;32m/usr/local/lib/python3.10/dist-packages/pandas/core/groupby/grouper.py\u001b[0m in \u001b[0;36mget_grouper\u001b[0;34m(obj, key, axis, level, sort, observed, validate, dropna)\u001b[0m\n\u001b[1;32m   1041\u001b[0m                 \u001b[0min_axis\u001b[0m\u001b[0;34m,\u001b[0m \u001b[0mlevel\u001b[0m\u001b[0;34m,\u001b[0m \u001b[0mgpr\u001b[0m \u001b[0;34m=\u001b[0m \u001b[0;32mFalse\u001b[0m\u001b[0;34m,\u001b[0m \u001b[0mgpr\u001b[0m\u001b[0;34m,\u001b[0m \u001b[0;32mNone\u001b[0m\u001b[0;34m\u001b[0m\u001b[0;34m\u001b[0m\u001b[0m\n\u001b[1;32m   1042\u001b[0m             \u001b[0;32melse\u001b[0m\u001b[0;34m:\u001b[0m\u001b[0;34m\u001b[0m\u001b[0;34m\u001b[0m\u001b[0m\n\u001b[0;32m-> 1043\u001b[0;31m                 \u001b[0;32mraise\u001b[0m \u001b[0mKeyError\u001b[0m\u001b[0;34m(\u001b[0m\u001b[0mgpr\u001b[0m\u001b[0;34m)\u001b[0m\u001b[0;34m\u001b[0m\u001b[0;34m\u001b[0m\u001b[0m\n\u001b[0m\u001b[1;32m   1044\u001b[0m         \u001b[0;32melif\u001b[0m \u001b[0misinstance\u001b[0m\u001b[0;34m(\u001b[0m\u001b[0mgpr\u001b[0m\u001b[0;34m,\u001b[0m \u001b[0mGrouper\u001b[0m\u001b[0;34m)\u001b[0m \u001b[0;32mand\u001b[0m \u001b[0mgpr\u001b[0m\u001b[0;34m.\u001b[0m\u001b[0mkey\u001b[0m \u001b[0;32mis\u001b[0m \u001b[0;32mnot\u001b[0m \u001b[0;32mNone\u001b[0m\u001b[0;34m:\u001b[0m\u001b[0;34m\u001b[0m\u001b[0;34m\u001b[0m\u001b[0m\n\u001b[1;32m   1045\u001b[0m             \u001b[0;31m# Add key to exclusions\u001b[0m\u001b[0;34m\u001b[0m\u001b[0;34m\u001b[0m\u001b[0m\n",
            "\u001b[0;31mKeyError\u001b[0m: 'Year_Month'"
          ]
        }
      ]
    },
    {
      "source": [
        "import pandas as pd\n",
        "import matplotlib.pyplot as plt\n",
        "\n",
        "# Assuming 'Timestamp' is the column with the timestamp of the emails\n",
        "df = pd.read_csv('/content/gdrive/MyDrive/DA/DA Assignment/Phishing_Email_Dataset_Ucl.csv')\n",
        "\n",
        "# Print the actual column names to identify the correct column for grouping\n",
        "print(df.columns)\n",
        "\n",
        "# Modify the groupby statement to use the correct column name\n",
        "# For example, if the correct column is 'Date', replace 'Year_Month' with 'Date':\n",
        "monthly_trends = df.groupby('Date').size()  # Count emails per month\n",
        "#You can replace 'Date' with the corresponding name of the column containing the email timestamp ( or Year and month data) from the output above.\n",
        "\n",
        "print(monthly_trends)\n",
        "\n",
        "# Plotting the trend\n",
        "monthly_trends.plot(kind='line')\n",
        "plt.title('Phishing Emails Over Time')\n",
        "plt.xlabel('Month')\n",
        "plt.ylabel('Number of Emails')\n",
        "plt.show()"
      ],
      "cell_type": "code",
      "metadata": {
        "colab": {
          "base_uri": "https://localhost:8080/",
          "height": 495
        },
        "id": "Ly7sr0u21iqW",
        "outputId": "fd44abbe-7c0f-4fee-9920-c7ac8df5f60f"
      },
      "execution_count": 64,
      "outputs": [
        {
          "output_type": "stream",
          "name": "stdout",
          "text": [
            "Index(['Email ID', 'Timestamp', 'Sender Email', 'Recipient Email', 'Subject',\n",
            "       'Email Body', 'Label', 'IP Address', 'Location', 'Sender Domain',\n",
            "       'Recipient Domain', 'Email Length', 'Attachments', 'Link Count',\n",
            "       'Suspicious Keywords', 'Sector'],\n",
            "      dtype='object')\n"
          ]
        },
        {
          "output_type": "error",
          "ename": "KeyError",
          "evalue": "'Date'",
          "traceback": [
            "\u001b[0;31m---------------------------------------------------------------------------\u001b[0m",
            "\u001b[0;31mKeyError\u001b[0m                                  Traceback (most recent call last)",
            "\u001b[0;32m<ipython-input-64-7e72f92f5048>\u001b[0m in \u001b[0;36m<cell line: 12>\u001b[0;34m()\u001b[0m\n\u001b[1;32m     10\u001b[0m \u001b[0;31m# Modify the groupby statement to use the correct column name\u001b[0m\u001b[0;34m\u001b[0m\u001b[0;34m\u001b[0m\u001b[0m\n\u001b[1;32m     11\u001b[0m \u001b[0;31m# For example, if the correct column is 'Date', replace 'Year_Month' with 'Date':\u001b[0m\u001b[0;34m\u001b[0m\u001b[0;34m\u001b[0m\u001b[0m\n\u001b[0;32m---> 12\u001b[0;31m \u001b[0mmonthly_trends\u001b[0m \u001b[0;34m=\u001b[0m \u001b[0mdf\u001b[0m\u001b[0;34m.\u001b[0m\u001b[0mgroupby\u001b[0m\u001b[0;34m(\u001b[0m\u001b[0;34m'Date'\u001b[0m\u001b[0;34m)\u001b[0m\u001b[0;34m.\u001b[0m\u001b[0msize\u001b[0m\u001b[0;34m(\u001b[0m\u001b[0;34m)\u001b[0m  \u001b[0;31m# Count emails per month\u001b[0m\u001b[0;34m\u001b[0m\u001b[0;34m\u001b[0m\u001b[0m\n\u001b[0m\u001b[1;32m     13\u001b[0m \u001b[0;31m#You can replace 'Date' with the corresponding name of the column containing the email timestamp ( or Year and month data) from the output above.\u001b[0m\u001b[0;34m\u001b[0m\u001b[0;34m\u001b[0m\u001b[0m\n\u001b[1;32m     14\u001b[0m \u001b[0;34m\u001b[0m\u001b[0m\n",
            "\u001b[0;32m/usr/local/lib/python3.10/dist-packages/pandas/core/frame.py\u001b[0m in \u001b[0;36mgroupby\u001b[0;34m(self, by, axis, level, as_index, sort, group_keys, observed, dropna)\u001b[0m\n\u001b[1;32m   9181\u001b[0m             \u001b[0;32mraise\u001b[0m \u001b[0mTypeError\u001b[0m\u001b[0;34m(\u001b[0m\u001b[0;34m\"You have to supply one of 'by' and 'level'\"\u001b[0m\u001b[0;34m)\u001b[0m\u001b[0;34m\u001b[0m\u001b[0;34m\u001b[0m\u001b[0m\n\u001b[1;32m   9182\u001b[0m \u001b[0;34m\u001b[0m\u001b[0m\n\u001b[0;32m-> 9183\u001b[0;31m         return DataFrameGroupBy(\n\u001b[0m\u001b[1;32m   9184\u001b[0m             \u001b[0mobj\u001b[0m\u001b[0;34m=\u001b[0m\u001b[0mself\u001b[0m\u001b[0;34m,\u001b[0m\u001b[0;34m\u001b[0m\u001b[0;34m\u001b[0m\u001b[0m\n\u001b[1;32m   9185\u001b[0m             \u001b[0mkeys\u001b[0m\u001b[0;34m=\u001b[0m\u001b[0mby\u001b[0m\u001b[0;34m,\u001b[0m\u001b[0;34m\u001b[0m\u001b[0;34m\u001b[0m\u001b[0m\n",
            "\u001b[0;32m/usr/local/lib/python3.10/dist-packages/pandas/core/groupby/groupby.py\u001b[0m in \u001b[0;36m__init__\u001b[0;34m(self, obj, keys, axis, level, grouper, exclusions, selection, as_index, sort, group_keys, observed, dropna)\u001b[0m\n\u001b[1;32m   1327\u001b[0m \u001b[0;34m\u001b[0m\u001b[0m\n\u001b[1;32m   1328\u001b[0m         \u001b[0;32mif\u001b[0m \u001b[0mgrouper\u001b[0m \u001b[0;32mis\u001b[0m \u001b[0;32mNone\u001b[0m\u001b[0;34m:\u001b[0m\u001b[0;34m\u001b[0m\u001b[0;34m\u001b[0m\u001b[0m\n\u001b[0;32m-> 1329\u001b[0;31m             grouper, exclusions, obj = get_grouper(\n\u001b[0m\u001b[1;32m   1330\u001b[0m                 \u001b[0mobj\u001b[0m\u001b[0;34m,\u001b[0m\u001b[0;34m\u001b[0m\u001b[0;34m\u001b[0m\u001b[0m\n\u001b[1;32m   1331\u001b[0m                 \u001b[0mkeys\u001b[0m\u001b[0;34m,\u001b[0m\u001b[0;34m\u001b[0m\u001b[0;34m\u001b[0m\u001b[0m\n",
            "\u001b[0;32m/usr/local/lib/python3.10/dist-packages/pandas/core/groupby/grouper.py\u001b[0m in \u001b[0;36mget_grouper\u001b[0;34m(obj, key, axis, level, sort, observed, validate, dropna)\u001b[0m\n\u001b[1;32m   1041\u001b[0m                 \u001b[0min_axis\u001b[0m\u001b[0;34m,\u001b[0m \u001b[0mlevel\u001b[0m\u001b[0;34m,\u001b[0m \u001b[0mgpr\u001b[0m \u001b[0;34m=\u001b[0m \u001b[0;32mFalse\u001b[0m\u001b[0;34m,\u001b[0m \u001b[0mgpr\u001b[0m\u001b[0;34m,\u001b[0m \u001b[0;32mNone\u001b[0m\u001b[0;34m\u001b[0m\u001b[0;34m\u001b[0m\u001b[0m\n\u001b[1;32m   1042\u001b[0m             \u001b[0;32melse\u001b[0m\u001b[0;34m:\u001b[0m\u001b[0;34m\u001b[0m\u001b[0;34m\u001b[0m\u001b[0m\n\u001b[0;32m-> 1043\u001b[0;31m                 \u001b[0;32mraise\u001b[0m \u001b[0mKeyError\u001b[0m\u001b[0;34m(\u001b[0m\u001b[0mgpr\u001b[0m\u001b[0;34m)\u001b[0m\u001b[0;34m\u001b[0m\u001b[0;34m\u001b[0m\u001b[0m\n\u001b[0m\u001b[1;32m   1044\u001b[0m         \u001b[0;32melif\u001b[0m \u001b[0misinstance\u001b[0m\u001b[0;34m(\u001b[0m\u001b[0mgpr\u001b[0m\u001b[0;34m,\u001b[0m \u001b[0mGrouper\u001b[0m\u001b[0;34m)\u001b[0m \u001b[0;32mand\u001b[0m \u001b[0mgpr\u001b[0m\u001b[0;34m.\u001b[0m\u001b[0mkey\u001b[0m \u001b[0;32mis\u001b[0m \u001b[0;32mnot\u001b[0m \u001b[0;32mNone\u001b[0m\u001b[0;34m:\u001b[0m\u001b[0;34m\u001b[0m\u001b[0;34m\u001b[0m\u001b[0m\n\u001b[1;32m   1045\u001b[0m             \u001b[0;31m# Add key to exclusions\u001b[0m\u001b[0;34m\u001b[0m\u001b[0;34m\u001b[0m\u001b[0m\n",
            "\u001b[0;31mKeyError\u001b[0m: 'Date'"
          ]
        }
      ]
    },
    {
      "source": [
        "import pandas as pd\n",
        "import matplotlib.pyplot as plt\n",
        "\n",
        "# Assuming 'Timestamp' is the column with the timestamp of the emails\n",
        "df = pd.read_csv('/content/gdrive/MyDrive/DA/DA Assignment/Phishing_Email_Dataset_Ucl.csv')\n",
        "\n",
        "# Print the actual column names to identify the correct column for grouping\n",
        "print(df.columns)\n",
        "\n",
        "monthly_trends = df.groupby('Timestamp').size()\n",
        "print(monthly_trends)\n",
        "\n",
        "# Plotting the trend\n",
        "monthly_trends.plot(kind='line')\n",
        "plt.title('Phishing Emails Over Time')\n",
        "plt.xlabel('Month')\n",
        "plt.ylabel('Number of Emails')\n",
        "plt.show()"
      ],
      "cell_type": "code",
      "metadata": {
        "colab": {
          "base_uri": "https://localhost:8080/",
          "height": 784
        },
        "id": "N-UJhtoQ1rIf",
        "outputId": "b8a249f3-57d9-4d83-a026-f493e33b8836"
      },
      "execution_count": 66,
      "outputs": [
        {
          "output_type": "stream",
          "name": "stdout",
          "text": [
            "Index(['Email ID', 'Timestamp', 'Sender Email', 'Recipient Email', 'Subject',\n",
            "       'Email Body', 'Label', 'IP Address', 'Location', 'Sender Domain',\n",
            "       'Recipient Domain', 'Email Length', 'Attachments', 'Link Count',\n",
            "       'Suspicious Keywords', 'Sector'],\n",
            "      dtype='object')\n",
            "Timestamp\n",
            "00:02.0    1\n",
            "00:03.6    1\n",
            "00:05.8    1\n",
            "00:05.9    1\n",
            "00:06.5    1\n",
            "          ..\n",
            "59:41.9    1\n",
            "59:45.8    1\n",
            "59:46.9    1\n",
            "59:59.2    1\n",
            "Error      4\n",
            "Length: 487, dtype: int64\n"
          ]
        },
        {
          "output_type": "display_data",
          "data": {
            "text/plain": [
              "<Figure size 640x480 with 1 Axes>"
            ],
            "image/png": "[encoded data removed]"
          },
          "metadata": {}
        }
      ]
    },
    {
      "cell_type": "code",
      "source": [
        "# Sender Domain Distribution\n",
        "sender_domain_distribution = df['Sender Domain'].value_counts()\n",
        "print(sender_domain_distribution)\n",
        "\n",
        "# Recipient Domain Distribution\n",
        "recipient_domain_distribution = df['Recipient Domain'].value_counts()\n",
        "print(recipient_domain_distribution)\n"
      ],
      "metadata": {
        "colab": {
          "base_uri": "https://localhost:8080/"
        },
        "id": "T8f5NAOm2LKP",
        "outputId": "bdd14e42-27c1-4b1c-faab-185f6c211aac"
      },
      "execution_count": 67,
      "outputs": [
        {
          "output_type": "stream",
          "name": "stdout",
          "text": [
            "Sender Domain\n",
            "yahoo.com         101\n",
            "icloud.com         84\n",
            "aol.com            82\n",
            "protonmail.com     79\n",
            "gmail.com          78\n",
            "outlook.com        70\n",
            "Error               6\n",
            "Name: count, dtype: int64\n",
            "Recipient Domain\n",
            "gmail.com         93\n",
            "aol.com           83\n",
            "yahoo.com         81\n",
            "icloud.com        80\n",
            "outlook.com       79\n",
            "protonmail.com    77\n",
            "Error              7\n",
            "Name: count, dtype: int64\n"
          ]
        }
      ]
    },
    {
      "source": [
        "import pandas as pd\n",
        "import matplotlib.pyplot as plt\n",
        "\n",
        "# Assuming 'Timestamp' is the column with the timestamp of the emails\n",
        "df = pd.read_csv('/content/gdrive/MyDrive/DA/DA Assignment/Phishing_Email_Dataset_Ucl.csv')\n",
        "\n",
        "# Suspicious Keywords Frequency\n",
        "suspicious_keywords_distribution = df['Suspicious Keywords'].value_counts()\n",
        "print(suspicious_keywords_distribution)\n",
        "\n",
        "# Link Count Analysis\n",
        "# Convert 'Link Count' column to numeric, handling errors\n",
        "df['Link Count'] = pd.to_numeric(df['Link Count'], errors='coerce')  # 'coerce' will replace non-numeric values with NaN\n",
        "\n",
        "link_count_distribution = df['Link Count'].describe()  # Get basic statistics\n",
        "print(link_count_distribution)\n",
        "\n",
        "# Detecting anomalies based on Link Count (e.g., unusually high link count)\n",
        "high_link_count = df[df['Link Count'] > 10]  # Threshold based on your data\n",
        "print(high_link_count)"
      ],
      "cell_type": "code",
      "metadata": {
        "colab": {
          "base_uri": "https://localhost:8080/"
        },
        "id": "3cYeoP362dMq",
        "outputId": "9318fbf4-9df0-4173-8a0e-b8313ef8136f"
      },
      "execution_count": 70,
      "outputs": [
        {
          "output_type": "stream",
          "name": "stdout",
          "text": [
            "Suspicious Keywords\n",
            "account                     23\n",
            "update                      20\n",
            "confirm                     18\n",
            "password                    18\n",
            "login                       18\n",
            "                            ..\n",
            "urgent, click, confirm       1\n",
            "update, login                1\n",
            "account, update, login       1\n",
            "password, login, confirm     1\n",
            "password, urgent, login      1\n",
            "Name: count, Length: 227, dtype: int64\n",
            "count    503.000000\n",
            "mean       4.735586\n",
            "std        2.880015\n",
            "min        0.000000\n",
            "25%        2.000000\n",
            "50%        5.000000\n",
            "75%        7.000000\n",
            "max        9.000000\n",
            "Name: Link Count, dtype: float64\n",
            "Empty DataFrame\n",
            "Columns: [Email ID, Timestamp, Sender Email, Recipient Email, Subject, Email Body, Label, IP Address, Location, Sender Domain, Recipient Domain, Email Length, Attachments, Link Count, Suspicious Keywords, Sector]\n",
            "Index: []\n"
          ]
        }
      ]
    },
    {
      "cell_type": "code",
      "source": [
        "from scipy import stats\n",
        "\n",
        "# Detecting outliers using z-score (for Link Count)\n",
        "z_scores = stats.zscore(df['Link Count'])\n",
        "anomalies = df[z_scores > 3]  # Z-score threshold for outliers\n",
        "print(anomalies)\n"
      ],
      "metadata": {
        "colab": {
          "base_uri": "https://localhost:8080/"
        },
        "id": "1uhz41RA3FgE",
        "outputId": "db830eb2-3ebd-4ca9-fe14-e951140fde9e"
      },
      "execution_count": 71,
      "outputs": [
        {
          "output_type": "stream",
          "name": "stdout",
          "text": [
            "Empty DataFrame\n",
            "Columns: [Email ID, Timestamp, Sender Email, Recipient Email, Subject, Email Body, Label, IP Address, Location, Sender Domain, Recipient Domain, Email Length, Attachments, Link Count, Suspicious Keywords, Sector]\n",
            "Index: []\n"
          ]
        }
      ]
    },
    {
      "cell_type": "code",
      "source": [
        "sector_distribution = df['Sector'].value_counts()\n",
        "print(sector_distribution)\n",
        "\n",
        "sector_distribution.plot(kind='bar', title=\"Phishing Emails by Sector\")\n",
        "plt.xlabel(\"Sector\")\n",
        "plt.ylabel(\"Count\")\n",
        "plt.show()\n"
      ],
      "metadata": {
        "colab": {
          "base_uri": "https://localhost:8080/",
          "height": 621
        },
        "id": "FvYffdfF3JqM",
        "outputId": "00bdd86d-cb44-4d3d-d9f2-1ace1e937522"
      },
      "execution_count": 72,
      "outputs": [
        {
          "output_type": "stream",
          "name": "stdout",
          "text": [
            "Sector\n",
            "Retail        254\n",
            "Healthcare    235\n",
            "Error          10\n",
            "Name: count, dtype: int64\n"
          ]
        },
        {
          "output_type": "display_data",
          "data": {
            "text/plain": [
              "<Figure size 640x480 with 1 Axes>"
            ],
            "image/png": "[encoded data removed]"
          },
          "metadata": {}
        }
      ]
    },
    {
      "cell_type": "code",
      "source": [
        "# Check for duplicate records\n",
        "duplicates = df.duplicated().sum()\n",
        "print(f\"Number of duplicate rows: {duplicates}\")\n",
        "\n",
        "# Remove duplicate rows\n",
        "df_clean = df.drop_duplicates()\n",
        "print(f\"Dataset after removing duplicates: {df_clean.shape}\")\n"
      ],
      "metadata": {
        "colab": {
          "base_uri": "https://localhost:8080/"
        },
        "id": "F5e5d13B5nA4",
        "outputId": "80f3cdc6-7e22-4abf-e615-38acb88d17d8"
      },
      "execution_count": 73,
      "outputs": [
        {
          "output_type": "stream",
          "name": "stdout",
          "text": [
            "Number of duplicate rows: 20\n",
            "Dataset after removing duplicates: (500, 16)\n"
          ]
        }
      ]
    },
    {
      "cell_type": "code",
      "source": [
        "# Convert 'Email Length' and 'Link Count' to numeric, coercing any errors to NaN\n",
        "df_clean['Email Length'] = pd.to_numeric(df_clean['Email Length'], errors='coerce')\n",
        "df_clean['Link Count'] = pd.to_numeric(df_clean['Link Count'], errors='coerce')\n",
        "\n",
        "# Now check for invalid data (negative values)\n",
        "invalid_data_check = df_clean[(df_clean['Email Length'] < 0) | (df_clean['Link Count'] < 0)]\n",
        "print(f\"Rows with invalid data (negative values): {invalid_data_check.shape[0]}\")\n"
      ],
      "metadata": {
        "colab": {
          "base_uri": "https://localhost:8080/"
        },
        "id": "Yych7w_m5317",
        "outputId": "d41cf53c-2c99-4c67-d697-69d626839706"
      },
      "execution_count": 75,
      "outputs": [
        {
          "output_type": "stream",
          "name": "stdout",
          "text": [
            "Rows with invalid data (negative values): 0\n"
          ]
        }
      ]
    },
    {
      "cell_type": "code",
      "source": [
        "# Drop rows where 'Email Length' or 'Link Count' are NaN\n",
        "df_clean = df_clean.dropna(subset=['Email Length', 'Link Count'])\n",
        "\n",
        "# Alternatively, you can impute missing values (e.g., using mean or median)\n",
        "df_clean['Email Length'].fillna(df_clean['Email Length'].mean(), inplace=True)\n",
        "df_clean['Link Count'].fillna(df_clean['Link Count'].mean(), inplace=True)\n"
      ],
      "metadata": {
        "id": "zc4xGihG55g8"
      },
      "execution_count": 76,
      "outputs": []
    },
    {
      "cell_type": "code",
      "source": [
        "# Check again for negative values (invalid data)\n",
        "invalid_data_check = df_clean[(df_clean['Email Length'] < 0) | (df_clean['Link Count'] < 0)]\n",
        "print(f\"Rows with invalid data (negative values): {invalid_data_check.shape[0]}\")\n",
        "\n",
        "# Ensure there are no missing values after conversion\n",
        "missing_data_after = df_clean.isnull().sum()\n",
        "print(\"Missing data after final cleaning:\")\n",
        "print(missing_data_after)\n"
      ],
      "metadata": {
        "colab": {
          "base_uri": "https://localhost:8080/"
        },
        "id": "gL5KxDwL57w7",
        "outputId": "12a2e390-e2f5-4d0d-b8db-8765b4df8ca0"
      },
      "execution_count": 77,
      "outputs": [
        {
          "output_type": "stream",
          "name": "stdout",
          "text": [
            "Rows with invalid data (negative values): 0\n",
            "Missing data after final cleaning:\n",
            "Email ID               21\n",
            "Timestamp               8\n",
            "Sender Email           19\n",
            "Recipient Email        19\n",
            "Subject                20\n",
            "Email Body             13\n",
            "Label                  13\n",
            "IP Address              7\n",
            "Location               25\n",
            "Sender Domain          19\n",
            "Recipient Domain       18\n",
            "Email Length            0\n",
            "Attachments            16\n",
            "Link Count              0\n",
            "Suspicious Keywords     0\n",
            "Sector                 19\n",
            "dtype: int64\n"
          ]
        }
      ]
    },
    {
      "cell_type": "code",
      "source": [
        "from sklearn.linear_model import LogisticRegression\n",
        "from sklearn.model_selection import train_test_split\n",
        "from sklearn.metrics import accuracy_score, precision_score, recall_score, f1_score\n",
        "from sklearn.preprocessing import StandardScaler\n",
        "\n",
        "# Assuming the target column is 'Label' (0 = non-phishing, 1 = phishing)\n",
        "\n",
        "# Select features (X) and target variable (y)\n",
        "X = df_clean.drop(columns=['Label'])  # Remove target column and any irrelevant columns\n",
        "y = df_clean['Label']  # Target variable (phishing or not)\n",
        "\n",
        "# Normalize the features (scaling numeric values)\n",
        "scaler = StandardScaler()\n",
        "X_scaled = scaler.fit_transform(X)\n",
        "\n",
        "# Initialize Logistic Regression model\n",
        "model = LogisticRegression()\n"
      ],
      "metadata": {
        "colab": {
          "base_uri": "https://localhost:8080/",
          "height": 391
        },
        "id": "QyVp0yVe65h_",
        "outputId": "3aa1a0e8-3559-4ff3-c4e5-767211b92199"
      },
      "execution_count": 79,
      "outputs": [
        {
          "output_type": "error",
          "ename": "ValueError",
          "evalue": "could not convert string to float: 'bd510c2e-e9ea-432c-a171-6a83b79e65d7'",
          "traceback": [
            "\u001b[0;31m---------------------------------------------------------------------------\u001b[0m",
            "\u001b[0;31mValueError\u001b[0m                                Traceback (most recent call last)",
            "\u001b[0;32m<ipython-input-79-6080430c5cb6>\u001b[0m in \u001b[0;36m<cell line: 14>\u001b[0;34m()\u001b[0m\n\u001b[1;32m     12\u001b[0m \u001b[0;31m# Normalize the features (scaling numeric values)\u001b[0m\u001b[0;34m\u001b[0m\u001b[0;34m\u001b[0m\u001b[0m\n\u001b[1;32m     13\u001b[0m \u001b[0mscaler\u001b[0m \u001b[0;34m=\u001b[0m \u001b[0mStandardScaler\u001b[0m\u001b[0;34m(\u001b[0m\u001b[0;34m)\u001b[0m\u001b[0;34m\u001b[0m\u001b[0;34m\u001b[0m\u001b[0m\n\u001b[0;32m---> 14\u001b[0;31m \u001b[0mX_scaled\u001b[0m \u001b[0;34m=\u001b[0m \u001b[0mscaler\u001b[0m\u001b[0;34m.\u001b[0m\u001b[0mfit_transform\u001b[0m\u001b[0;34m(\u001b[0m\u001b[0mX\u001b[0m\u001b[0;34m)\u001b[0m\u001b[0;34m\u001b[0m\u001b[0;34m\u001b[0m\u001b[0m\n\u001b[0m\u001b[1;32m     15\u001b[0m \u001b[0;34m\u001b[0m\u001b[0m\n\u001b[1;32m     16\u001b[0m \u001b[0;31m# Initialize Logistic Regression model\u001b[0m\u001b[0;34m\u001b[0m\u001b[0;34m\u001b[0m\u001b[0m\n",
            "\u001b[0;32m/usr/local/lib/python3.10/dist-packages/sklearn/utils/_set_output.py\u001b[0m in \u001b[0;36mwrapped\u001b[0;34m(self, X, *args, **kwargs)\u001b[0m\n\u001b[1;32m    314\u001b[0m     \u001b[0;34m@\u001b[0m\u001b[0mwraps\u001b[0m\u001b[0;34m(\u001b[0m\u001b[0mf\u001b[0m\u001b[0;34m)\u001b[0m\u001b[0;34m\u001b[0m\u001b[0;34m\u001b[0m\u001b[0m\n\u001b[1;32m    315\u001b[0m     \u001b[0;32mdef\u001b[0m \u001b[0mwrapped\u001b[0m\u001b[0;34m(\u001b[0m\u001b[0mself\u001b[0m\u001b[0;34m,\u001b[0m \u001b[0mX\u001b[0m\u001b[0;34m,\u001b[0m \u001b[0;34m*\u001b[0m\u001b[0margs\u001b[0m\u001b[0;34m,\u001b[0m \u001b[0;34m**\u001b[0m\u001b[0mkwargs\u001b[0m\u001b[0;34m)\u001b[0m\u001b[0;34m:\u001b[0m\u001b[0;34m\u001b[0m\u001b[0;34m\u001b[0m\u001b[0m\n\u001b[0;32m--> 316\u001b[0;31m         \u001b[0mdata_to_wrap\u001b[0m \u001b[0;34m=\u001b[0m \u001b[0mf\u001b[0m\u001b[0;34m(\u001b[0m\u001b[0mself\u001b[0m\u001b[0;34m,\u001b[0m \u001b[0mX\u001b[0m\u001b[0;34m,\u001b[0m \u001b[0;34m*\u001b[0m\u001b[0margs\u001b[0m\u001b[0;34m,\u001b[0m \u001b[0;34m**\u001b[0m\u001b[0mkwargs\u001b[0m\u001b[0;34m)\u001b[0m\u001b[0;34m\u001b[0m\u001b[0;34m\u001b[0m\u001b[0m\n\u001b[0m\u001b[1;32m    317\u001b[0m         \u001b[0;32mif\u001b[0m \u001b[0misinstance\u001b[0m\u001b[0;34m(\u001b[0m\u001b[0mdata_to_wrap\u001b[0m\u001b[0;34m,\u001b[0m \u001b[0mtuple\u001b[0m\u001b[0;34m)\u001b[0m\u001b[0;34m:\u001b[0m\u001b[0;34m\u001b[0m\u001b[0;34m\u001b[0m\u001b[0m\n\u001b[1;32m    318\u001b[0m             \u001b[0;31m# only wrap the first output for cross decomposition\u001b[0m\u001b[0;34m\u001b[0m\u001b[0;34m\u001b[0m\u001b[0m\n",
            "\u001b[0;32m/usr/local/lib/python3.10/dist-packages/sklearn/base.py\u001b[0m in \u001b[0;36mfit_transform\u001b[0;34m(self, X, y, **fit_params)\u001b[0m\n\u001b[1;32m   1096\u001b[0m         \u001b[0;32mif\u001b[0m \u001b[0my\u001b[0m \u001b[0;32mis\u001b[0m \u001b[0;32mNone\u001b[0m\u001b[0;34m:\u001b[0m\u001b[0;34m\u001b[0m\u001b[0;34m\u001b[0m\u001b[0m\n\u001b[1;32m   1097\u001b[0m             \u001b[0;31m# fit method of arity 1 (unsupervised transformation)\u001b[0m\u001b[0;34m\u001b[0m\u001b[0;34m\u001b[0m\u001b[0m\n\u001b[0;32m-> 1098\u001b[0;31m             \u001b[0;32mreturn\u001b[0m \u001b[0mself\u001b[0m\u001b[0;34m.\u001b[0m\u001b[0mfit\u001b[0m\u001b[0;34m(\u001b[0m\u001b[0mX\u001b[0m\u001b[0;34m,\u001b[0m \u001b[0;34m**\u001b[0m\u001b[0mfit_params\u001b[0m\u001b[0;34m)\u001b[0m\u001b[0;34m.\u001b[0m\u001b[0mtransform\u001b[0m\u001b[0;34m(\u001b[0m\u001b[0mX\u001b[0m\u001b[0;34m)\u001b[0m\u001b[0;34m\u001b[0m\u001b[0;34m\u001b[0m\u001b[0m\n\u001b[0m\u001b[1;32m   1099\u001b[0m         \u001b[0;32melse\u001b[0m\u001b[0;34m:\u001b[0m\u001b[0;34m\u001b[0m\u001b[0;34m\u001b[0m\u001b[0m\n\u001b[1;32m   1100\u001b[0m             \u001b[0;31m# fit method of arity 2 (supervised transformation)\u001b[0m\u001b[0;34m\u001b[0m\u001b[0;34m\u001b[0m\u001b[0m\n",
            "\u001b[0;32m/usr/local/lib/python3.10/dist-packages/sklearn/preprocessing/_data.py\u001b[0m in \u001b[0;36mfit\u001b[0;34m(self, X, y, sample_weight)\u001b[0m\n\u001b[1;32m    876\u001b[0m         \u001b[0;31m# Reset internal state before fitting\u001b[0m\u001b[0;34m\u001b[0m\u001b[0;34m\u001b[0m\u001b[0m\n\u001b[1;32m    877\u001b[0m         \u001b[0mself\u001b[0m\u001b[0;34m.\u001b[0m\u001b[0m_reset\u001b[0m\u001b[0;34m(\u001b[0m\u001b[0;34m)\u001b[0m\u001b[0;34m\u001b[0m\u001b[0;34m\u001b[0m\u001b[0m\n\u001b[0;32m--> 878\u001b[0;31m         \u001b[0;32mreturn\u001b[0m \u001b[0mself\u001b[0m\u001b[0;34m.\u001b[0m\u001b[0mpartial_fit\u001b[0m\u001b[0;34m(\u001b[0m\u001b[0mX\u001b[0m\u001b[0;34m,\u001b[0m \u001b[0my\u001b[0m\u001b[0;34m,\u001b[0m \u001b[0msample_weight\u001b[0m\u001b[0;34m)\u001b[0m\u001b[0;34m\u001b[0m\u001b[0;34m\u001b[0m\u001b[0m\n\u001b[0m\u001b[1;32m    879\u001b[0m \u001b[0;34m\u001b[0m\u001b[0m\n\u001b[1;32m    880\u001b[0m     \u001b[0;34m@\u001b[0m\u001b[0m_fit_context\u001b[0m\u001b[0;34m(\u001b[0m\u001b[0mprefer_skip_nested_validation\u001b[0m\u001b[0;34m=\u001b[0m\u001b[0;32mTrue\u001b[0m\u001b[0;34m)\u001b[0m\u001b[0;34m\u001b[0m\u001b[0;34m\u001b[0m\u001b[0m\n",
            "\u001b[0;32m/usr/local/lib/python3.10/dist-packages/sklearn/base.py\u001b[0m in \u001b[0;36mwrapper\u001b[0;34m(estimator, *args, **kwargs)\u001b[0m\n\u001b[1;32m   1471\u001b[0m                 )\n\u001b[1;32m   1472\u001b[0m             ):\n\u001b[0;32m-> 1473\u001b[0;31m                 \u001b[0;32mreturn\u001b[0m \u001b[0mfit_method\u001b[0m\u001b[0;34m(\u001b[0m\u001b[0mestimator\u001b[0m\u001b[0;34m,\u001b[0m \u001b[0;34m*\u001b[0m\u001b[0margs\u001b[0m\u001b[0;34m,\u001b[0m \u001b[0;34m**\u001b[0m\u001b[0mkwargs\u001b[0m\u001b[0;34m)\u001b[0m\u001b[0;34m\u001b[0m\u001b[0;34m\u001b[0m\u001b[0m\n\u001b[0m\u001b[1;32m   1474\u001b[0m \u001b[0;34m\u001b[0m\u001b[0m\n\u001b[1;32m   1475\u001b[0m         \u001b[0;32mreturn\u001b[0m \u001b[0mwrapper\u001b[0m\u001b[0;34m\u001b[0m\u001b[0;34m\u001b[0m\u001b[0m\n",
            "\u001b[0;32m/usr/local/lib/python3.10/dist-packages/sklearn/preprocessing/_data.py\u001b[0m in \u001b[0;36mpartial_fit\u001b[0;34m(self, X, y, sample_weight)\u001b[0m\n\u001b[1;32m    912\u001b[0m         \"\"\"\n\u001b[1;32m    913\u001b[0m         \u001b[0mfirst_call\u001b[0m \u001b[0;34m=\u001b[0m \u001b[0;32mnot\u001b[0m \u001b[0mhasattr\u001b[0m\u001b[0;34m(\u001b[0m\u001b[0mself\u001b[0m\u001b[0;34m,\u001b[0m \u001b[0;34m\"n_samples_seen_\"\u001b[0m\u001b[0;34m)\u001b[0m\u001b[0;34m\u001b[0m\u001b[0;34m\u001b[0m\u001b[0m\n\u001b[0;32m--> 914\u001b[0;31m         X = self._validate_data(\n\u001b[0m\u001b[1;32m    915\u001b[0m             \u001b[0mX\u001b[0m\u001b[0;34m,\u001b[0m\u001b[0;34m\u001b[0m\u001b[0;34m\u001b[0m\u001b[0m\n\u001b[1;32m    916\u001b[0m             \u001b[0maccept_sparse\u001b[0m\u001b[0;34m=\u001b[0m\u001b[0;34m(\u001b[0m\u001b[0;34m\"csr\"\u001b[0m\u001b[0;34m,\u001b[0m \u001b[0;34m\"csc\"\u001b[0m\u001b[0;34m)\u001b[0m\u001b[0;34m,\u001b[0m\u001b[0;34m\u001b[0m\u001b[0;34m\u001b[0m\u001b[0m\n",
            "\u001b[0;32m/usr/local/lib/python3.10/dist-packages/sklearn/base.py\u001b[0m in \u001b[0;36m_validate_data\u001b[0;34m(self, X, y, reset, validate_separately, cast_to_ndarray, **check_params)\u001b[0m\n\u001b[1;32m    631\u001b[0m                 \u001b[0mout\u001b[0m \u001b[0;34m=\u001b[0m \u001b[0mX\u001b[0m\u001b[0;34m,\u001b[0m \u001b[0my\u001b[0m\u001b[0;34m\u001b[0m\u001b[0;34m\u001b[0m\u001b[0m\n\u001b[1;32m    632\u001b[0m         \u001b[0;32melif\u001b[0m \u001b[0;32mnot\u001b[0m \u001b[0mno_val_X\u001b[0m \u001b[0;32mand\u001b[0m \u001b[0mno_val_y\u001b[0m\u001b[0;34m:\u001b[0m\u001b[0;34m\u001b[0m\u001b[0;34m\u001b[0m\u001b[0m\n\u001b[0;32m--> 633\u001b[0;31m             \u001b[0mout\u001b[0m \u001b[0;34m=\u001b[0m \u001b[0mcheck_array\u001b[0m\u001b[0;34m(\u001b[0m\u001b[0mX\u001b[0m\u001b[0;34m,\u001b[0m \u001b[0minput_name\u001b[0m\u001b[0;34m=\u001b[0m\u001b[0;34m\"X\"\u001b[0m\u001b[0;34m,\u001b[0m \u001b[0;34m**\u001b[0m\u001b[0mcheck_params\u001b[0m\u001b[0;34m)\u001b[0m\u001b[0;34m\u001b[0m\u001b[0;34m\u001b[0m\u001b[0m\n\u001b[0m\u001b[1;32m    634\u001b[0m         \u001b[0;32melif\u001b[0m \u001b[0mno_val_X\u001b[0m \u001b[0;32mand\u001b[0m \u001b[0;32mnot\u001b[0m \u001b[0mno_val_y\u001b[0m\u001b[0;34m:\u001b[0m\u001b[0;34m\u001b[0m\u001b[0;34m\u001b[0m\u001b[0m\n\u001b[1;32m    635\u001b[0m             \u001b[0mout\u001b[0m \u001b[0;34m=\u001b[0m \u001b[0m_check_y\u001b[0m\u001b[0;34m(\u001b[0m\u001b[0my\u001b[0m\u001b[0;34m,\u001b[0m \u001b[0;34m**\u001b[0m\u001b[0mcheck_params\u001b[0m\u001b[0;34m)\u001b[0m\u001b[0;34m\u001b[0m\u001b[0;34m\u001b[0m\u001b[0m\n",
            "\u001b[0;32m/usr/local/lib/python3.10/dist-packages/sklearn/utils/validation.py\u001b[0m in \u001b[0;36mcheck_array\u001b[0;34m(array, accept_sparse, accept_large_sparse, dtype, order, copy, force_writeable, force_all_finite, ensure_2d, allow_nd, ensure_min_samples, ensure_min_features, estimator, input_name)\u001b[0m\n\u001b[1;32m   1010\u001b[0m                     \u001b[0marray\u001b[0m \u001b[0;34m=\u001b[0m \u001b[0mxp\u001b[0m\u001b[0;34m.\u001b[0m\u001b[0mastype\u001b[0m\u001b[0;34m(\u001b[0m\u001b[0marray\u001b[0m\u001b[0;34m,\u001b[0m \u001b[0mdtype\u001b[0m\u001b[0;34m,\u001b[0m \u001b[0mcopy\u001b[0m\u001b[0;34m=\u001b[0m\u001b[0;32mFalse\u001b[0m\u001b[0;34m)\u001b[0m\u001b[0;34m\u001b[0m\u001b[0;34m\u001b[0m\u001b[0m\n\u001b[1;32m   1011\u001b[0m                 \u001b[0;32melse\u001b[0m\u001b[0;34m:\u001b[0m\u001b[0;34m\u001b[0m\u001b[0;34m\u001b[0m\u001b[0m\n\u001b[0;32m-> 1012\u001b[0;31m                     \u001b[0marray\u001b[0m \u001b[0;34m=\u001b[0m \u001b[0m_asarray_with_order\u001b[0m\u001b[0;34m(\u001b[0m\u001b[0marray\u001b[0m\u001b[0;34m,\u001b[0m \u001b[0morder\u001b[0m\u001b[0;34m=\u001b[0m\u001b[0morder\u001b[0m\u001b[0;34m,\u001b[0m \u001b[0mdtype\u001b[0m\u001b[0;34m=\u001b[0m\u001b[0mdtype\u001b[0m\u001b[0;34m,\u001b[0m \u001b[0mxp\u001b[0m\u001b[0;34m=\u001b[0m\u001b[0mxp\u001b[0m\u001b[0;34m)\u001b[0m\u001b[0;34m\u001b[0m\u001b[0;34m\u001b[0m\u001b[0m\n\u001b[0m\u001b[1;32m   1013\u001b[0m             \u001b[0;32mexcept\u001b[0m \u001b[0mComplexWarning\u001b[0m \u001b[0;32mas\u001b[0m \u001b[0mcomplex_warning\u001b[0m\u001b[0;34m:\u001b[0m\u001b[0;34m\u001b[0m\u001b[0;34m\u001b[0m\u001b[0m\n\u001b[1;32m   1014\u001b[0m                 raise ValueError(\n",
            "\u001b[0;32m/usr/local/lib/python3.10/dist-packages/sklearn/utils/_array_api.py\u001b[0m in \u001b[0;36m_asarray_with_order\u001b[0;34m(array, dtype, order, copy, xp, device)\u001b[0m\n\u001b[1;32m    743\u001b[0m             \u001b[0marray\u001b[0m \u001b[0;34m=\u001b[0m \u001b[0mnumpy\u001b[0m\u001b[0;34m.\u001b[0m\u001b[0marray\u001b[0m\u001b[0;34m(\u001b[0m\u001b[0marray\u001b[0m\u001b[0;34m,\u001b[0m \u001b[0morder\u001b[0m\u001b[0;34m=\u001b[0m\u001b[0morder\u001b[0m\u001b[0;34m,\u001b[0m \u001b[0mdtype\u001b[0m\u001b[0;34m=\u001b[0m\u001b[0mdtype\u001b[0m\u001b[0;34m)\u001b[0m\u001b[0;34m\u001b[0m\u001b[0;34m\u001b[0m\u001b[0m\n\u001b[1;32m    744\u001b[0m         \u001b[0;32melse\u001b[0m\u001b[0;34m:\u001b[0m\u001b[0;34m\u001b[0m\u001b[0;34m\u001b[0m\u001b[0m\n\u001b[0;32m--> 745\u001b[0;31m             \u001b[0marray\u001b[0m \u001b[0;34m=\u001b[0m \u001b[0mnumpy\u001b[0m\u001b[0;34m.\u001b[0m\u001b[0masarray\u001b[0m\u001b[0;34m(\u001b[0m\u001b[0marray\u001b[0m\u001b[0;34m,\u001b[0m \u001b[0morder\u001b[0m\u001b[0;34m=\u001b[0m\u001b[0morder\u001b[0m\u001b[0;34m,\u001b[0m \u001b[0mdtype\u001b[0m\u001b[0;34m=\u001b[0m\u001b[0mdtype\u001b[0m\u001b[0;34m)\u001b[0m\u001b[0;34m\u001b[0m\u001b[0;34m\u001b[0m\u001b[0m\n\u001b[0m\u001b[1;32m    746\u001b[0m \u001b[0;34m\u001b[0m\u001b[0m\n\u001b[1;32m    747\u001b[0m         \u001b[0;31m# At this point array is a NumPy ndarray. We convert it to an array\u001b[0m\u001b[0;34m\u001b[0m\u001b[0;34m\u001b[0m\u001b[0m\n",
            "\u001b[0;32m/usr/local/lib/python3.10/dist-packages/pandas/core/generic.py\u001b[0m in \u001b[0;36m__array__\u001b[0;34m(self, dtype, copy)\u001b[0m\n\u001b[1;32m   2151\u001b[0m     ) -> np.ndarray:\n\u001b[1;32m   2152\u001b[0m         \u001b[0mvalues\u001b[0m \u001b[0;34m=\u001b[0m \u001b[0mself\u001b[0m\u001b[0;34m.\u001b[0m\u001b[0m_values\u001b[0m\u001b[0;34m\u001b[0m\u001b[0;34m\u001b[0m\u001b[0m\n\u001b[0;32m-> 2153\u001b[0;31m         \u001b[0marr\u001b[0m \u001b[0;34m=\u001b[0m \u001b[0mnp\u001b[0m\u001b[0;34m.\u001b[0m\u001b[0masarray\u001b[0m\u001b[0;34m(\u001b[0m\u001b[0mvalues\u001b[0m\u001b[0;34m,\u001b[0m \u001b[0mdtype\u001b[0m\u001b[0;34m=\u001b[0m\u001b[0mdtype\u001b[0m\u001b[0;34m)\u001b[0m\u001b[0;34m\u001b[0m\u001b[0;34m\u001b[0m\u001b[0m\n\u001b[0m\u001b[1;32m   2154\u001b[0m         if (\n\u001b[1;32m   2155\u001b[0m             \u001b[0mastype_is_view\u001b[0m\u001b[0;34m(\u001b[0m\u001b[0mvalues\u001b[0m\u001b[0;34m.\u001b[0m\u001b[0mdtype\u001b[0m\u001b[0;34m,\u001b[0m \u001b[0marr\u001b[0m\u001b[0;34m.\u001b[0m\u001b[0mdtype\u001b[0m\u001b[0;34m)\u001b[0m\u001b[0;34m\u001b[0m\u001b[0;34m\u001b[0m\u001b[0m\n",
            "\u001b[0;31mValueError\u001b[0m: could not convert string to float: 'bd510c2e-e9ea-432c-a171-6a83b79e65d7'"
          ]
        }
      ]
    },
    {
      "source": [
        "from sklearn.linear_model import LogisticRegression\n",
        "from sklearn.model_selection import train_test_split\n",
        "from sklearn.metrics import accuracy_score, precision_score, recall_score, f1_score\n",
        "from sklearn.preprocessing import StandardScaler\n",
        "\n",
        "# Assuming the target column is 'Label' (0 = non-phishing, 1 = phishing)\n",
        "\n",
        "# Select features (X) and target variable (y)\n",
        "# Exclude non-numeric columns like 'Email ID' and 'Timestamp'\n",
        "X = df_clean.select_dtypes(include=['number']).drop(columns=['Label'])  # Remove target column and select only numeric features\n",
        "y = df_clean['Label']  # Target variable (phishing or not)\n",
        "\n",
        "# Normalize the features (scaling numeric values)\n",
        "scaler = StandardScaler()\n",
        "X_scaled = scaler.fit_transform(X)\n",
        "\n",
        "# Initialize Logistic Regression model\n",
        "model = LogisticRegression()"
      ],
      "cell_type": "code",
      "metadata": {
        "colab": {
          "base_uri": "https://localhost:8080/",
          "height": 408
        },
        "id": "CCWdJhGg7dN9",
        "outputId": "6c658568-0a43-4b90-eb09-272493bf5e59"
      },
      "execution_count": 80,
      "outputs": [
        {
          "output_type": "error",
          "ename": "KeyError",
          "evalue": "\"['Label'] not found in axis\"",
          "traceback": [
            "\u001b[0;31m---------------------------------------------------------------------------\u001b[0m",
            "\u001b[0;31mKeyError\u001b[0m                                  Traceback (most recent call last)",
            "\u001b[0;32m<ipython-input-80-9ea6f4cbf277>\u001b[0m in \u001b[0;36m<cell line: 10>\u001b[0;34m()\u001b[0m\n\u001b[1;32m      8\u001b[0m \u001b[0;31m# Select features (X) and target variable (y)\u001b[0m\u001b[0;34m\u001b[0m\u001b[0;34m\u001b[0m\u001b[0m\n\u001b[1;32m      9\u001b[0m \u001b[0;31m# Exclude non-numeric columns like 'Email ID' and 'Timestamp'\u001b[0m\u001b[0;34m\u001b[0m\u001b[0;34m\u001b[0m\u001b[0m\n\u001b[0;32m---> 10\u001b[0;31m \u001b[0mX\u001b[0m \u001b[0;34m=\u001b[0m \u001b[0mdf_clean\u001b[0m\u001b[0;34m.\u001b[0m\u001b[0mselect_dtypes\u001b[0m\u001b[0;34m(\u001b[0m\u001b[0minclude\u001b[0m\u001b[0;34m=\u001b[0m\u001b[0;34m[\u001b[0m\u001b[0;34m'number'\u001b[0m\u001b[0;34m]\u001b[0m\u001b[0;34m)\u001b[0m\u001b[0;34m.\u001b[0m\u001b[0mdrop\u001b[0m\u001b[0;34m(\u001b[0m\u001b[0mcolumns\u001b[0m\u001b[0;34m=\u001b[0m\u001b[0;34m[\u001b[0m\u001b[0;34m'Label'\u001b[0m\u001b[0;34m]\u001b[0m\u001b[0;34m)\u001b[0m  \u001b[0;31m# Remove target column and select only numeric features\u001b[0m\u001b[0;34m\u001b[0m\u001b[0;34m\u001b[0m\u001b[0m\n\u001b[0m\u001b[1;32m     11\u001b[0m \u001b[0my\u001b[0m \u001b[0;34m=\u001b[0m \u001b[0mdf_clean\u001b[0m\u001b[0;34m[\u001b[0m\u001b[0;34m'Label'\u001b[0m\u001b[0;34m]\u001b[0m  \u001b[0;31m# Target variable (phishing or not)\u001b[0m\u001b[0;34m\u001b[0m\u001b[0;34m\u001b[0m\u001b[0m\n\u001b[1;32m     12\u001b[0m \u001b[0;34m\u001b[0m\u001b[0m\n",
            "\u001b[0;32m/usr/local/lib/python3.10/dist-packages/pandas/core/frame.py\u001b[0m in \u001b[0;36mdrop\u001b[0;34m(self, labels, axis, index, columns, level, inplace, errors)\u001b[0m\n\u001b[1;32m   5579\u001b[0m                 \u001b[0mweight\u001b[0m  \u001b[0;36m1.0\u001b[0m     \u001b[0;36m0.8\u001b[0m\u001b[0;34m\u001b[0m\u001b[0;34m\u001b[0m\u001b[0m\n\u001b[1;32m   5580\u001b[0m         \"\"\"\n\u001b[0;32m-> 5581\u001b[0;31m         return super().drop(\n\u001b[0m\u001b[1;32m   5582\u001b[0m             \u001b[0mlabels\u001b[0m\u001b[0;34m=\u001b[0m\u001b[0mlabels\u001b[0m\u001b[0;34m,\u001b[0m\u001b[0;34m\u001b[0m\u001b[0;34m\u001b[0m\u001b[0m\n\u001b[1;32m   5583\u001b[0m             \u001b[0maxis\u001b[0m\u001b[0;34m=\u001b[0m\u001b[0maxis\u001b[0m\u001b[0;34m,\u001b[0m\u001b[0;34m\u001b[0m\u001b[0;34m\u001b[0m\u001b[0m\n",
            "\u001b[0;32m/usr/local/lib/python3.10/dist-packages/pandas/core/generic.py\u001b[0m in \u001b[0;36mdrop\u001b[0;34m(self, labels, axis, index, columns, level, inplace, errors)\u001b[0m\n\u001b[1;32m   4786\u001b[0m         \u001b[0;32mfor\u001b[0m \u001b[0maxis\u001b[0m\u001b[0;34m,\u001b[0m \u001b[0mlabels\u001b[0m \u001b[0;32min\u001b[0m \u001b[0maxes\u001b[0m\u001b[0;34m.\u001b[0m\u001b[0mitems\u001b[0m\u001b[0;34m(\u001b[0m\u001b[0;34m)\u001b[0m\u001b[0;34m:\u001b[0m\u001b[0;34m\u001b[0m\u001b[0;34m\u001b[0m\u001b[0m\n\u001b[1;32m   4787\u001b[0m             \u001b[0;32mif\u001b[0m \u001b[0mlabels\u001b[0m \u001b[0;32mis\u001b[0m \u001b[0;32mnot\u001b[0m \u001b[0;32mNone\u001b[0m\u001b[0;34m:\u001b[0m\u001b[0;34m\u001b[0m\u001b[0;34m\u001b[0m\u001b[0m\n\u001b[0;32m-> 4788\u001b[0;31m                 \u001b[0mobj\u001b[0m \u001b[0;34m=\u001b[0m \u001b[0mobj\u001b[0m\u001b[0;34m.\u001b[0m\u001b[0m_drop_axis\u001b[0m\u001b[0;34m(\u001b[0m\u001b[0mlabels\u001b[0m\u001b[0;34m,\u001b[0m \u001b[0maxis\u001b[0m\u001b[0;34m,\u001b[0m \u001b[0mlevel\u001b[0m\u001b[0;34m=\u001b[0m\u001b[0mlevel\u001b[0m\u001b[0;34m,\u001b[0m \u001b[0merrors\u001b[0m\u001b[0;34m=\u001b[0m\u001b[0merrors\u001b[0m\u001b[0;34m)\u001b[0m\u001b[0;34m\u001b[0m\u001b[0;34m\u001b[0m\u001b[0m\n\u001b[0m\u001b[1;32m   4789\u001b[0m \u001b[0;34m\u001b[0m\u001b[0m\n\u001b[1;32m   4790\u001b[0m         \u001b[0;32mif\u001b[0m \u001b[0minplace\u001b[0m\u001b[0;34m:\u001b[0m\u001b[0;34m\u001b[0m\u001b[0;34m\u001b[0m\u001b[0m\n",
            "\u001b[0;32m/usr/local/lib/python3.10/dist-packages/pandas/core/generic.py\u001b[0m in \u001b[0;36m_drop_axis\u001b[0;34m(self, labels, axis, level, errors, only_slice)\u001b[0m\n\u001b[1;32m   4828\u001b[0m                 \u001b[0mnew_axis\u001b[0m \u001b[0;34m=\u001b[0m \u001b[0maxis\u001b[0m\u001b[0;34m.\u001b[0m\u001b[0mdrop\u001b[0m\u001b[0;34m(\u001b[0m\u001b[0mlabels\u001b[0m\u001b[0;34m,\u001b[0m \u001b[0mlevel\u001b[0m\u001b[0;34m=\u001b[0m\u001b[0mlevel\u001b[0m\u001b[0;34m,\u001b[0m \u001b[0merrors\u001b[0m\u001b[0;34m=\u001b[0m\u001b[0merrors\u001b[0m\u001b[0;34m)\u001b[0m\u001b[0;34m\u001b[0m\u001b[0;34m\u001b[0m\u001b[0m\n\u001b[1;32m   4829\u001b[0m             \u001b[0;32melse\u001b[0m\u001b[0;34m:\u001b[0m\u001b[0;34m\u001b[0m\u001b[0;34m\u001b[0m\u001b[0m\n\u001b[0;32m-> 4830\u001b[0;31m                 \u001b[0mnew_axis\u001b[0m \u001b[0;34m=\u001b[0m \u001b[0maxis\u001b[0m\u001b[0;34m.\u001b[0m\u001b[0mdrop\u001b[0m\u001b[0;34m(\u001b[0m\u001b[0mlabels\u001b[0m\u001b[0;34m,\u001b[0m \u001b[0merrors\u001b[0m\u001b[0;34m=\u001b[0m\u001b[0merrors\u001b[0m\u001b[0;34m)\u001b[0m\u001b[0;34m\u001b[0m\u001b[0;34m\u001b[0m\u001b[0m\n\u001b[0m\u001b[1;32m   4831\u001b[0m             \u001b[0mindexer\u001b[0m \u001b[0;34m=\u001b[0m \u001b[0maxis\u001b[0m\u001b[0;34m.\u001b[0m\u001b[0mget_indexer\u001b[0m\u001b[0;34m(\u001b[0m\u001b[0mnew_axis\u001b[0m\u001b[0;34m)\u001b[0m\u001b[0;34m\u001b[0m\u001b[0;34m\u001b[0m\u001b[0m\n\u001b[1;32m   4832\u001b[0m \u001b[0;34m\u001b[0m\u001b[0m\n",
            "\u001b[0;32m/usr/local/lib/python3.10/dist-packages/pandas/core/indexes/base.py\u001b[0m in \u001b[0;36mdrop\u001b[0;34m(self, labels, errors)\u001b[0m\n\u001b[1;32m   7068\u001b[0m         \u001b[0;32mif\u001b[0m \u001b[0mmask\u001b[0m\u001b[0;34m.\u001b[0m\u001b[0many\u001b[0m\u001b[0;34m(\u001b[0m\u001b[0;34m)\u001b[0m\u001b[0;34m:\u001b[0m\u001b[0;34m\u001b[0m\u001b[0;34m\u001b[0m\u001b[0m\n\u001b[1;32m   7069\u001b[0m             \u001b[0;32mif\u001b[0m \u001b[0merrors\u001b[0m \u001b[0;34m!=\u001b[0m \u001b[0;34m\"ignore\"\u001b[0m\u001b[0;34m:\u001b[0m\u001b[0;34m\u001b[0m\u001b[0;34m\u001b[0m\u001b[0m\n\u001b[0;32m-> 7070\u001b[0;31m                 \u001b[0;32mraise\u001b[0m \u001b[0mKeyError\u001b[0m\u001b[0;34m(\u001b[0m\u001b[0;34mf\"{labels[mask].tolist()} not found in axis\"\u001b[0m\u001b[0;34m)\u001b[0m\u001b[0;34m\u001b[0m\u001b[0;34m\u001b[0m\u001b[0m\n\u001b[0m\u001b[1;32m   7071\u001b[0m             \u001b[0mindexer\u001b[0m \u001b[0;34m=\u001b[0m \u001b[0mindexer\u001b[0m\u001b[0;34m[\u001b[0m\u001b[0;34m~\u001b[0m\u001b[0mmask\u001b[0m\u001b[0;34m]\u001b[0m\u001b[0;34m\u001b[0m\u001b[0;34m\u001b[0m\u001b[0m\n\u001b[1;32m   7072\u001b[0m         \u001b[0;32mreturn\u001b[0m \u001b[0mself\u001b[0m\u001b[0;34m.\u001b[0m\u001b[0mdelete\u001b[0m\u001b[0;34m(\u001b[0m\u001b[0mindexer\u001b[0m\u001b[0;34m)\u001b[0m\u001b[0;34m\u001b[0m\u001b[0;34m\u001b[0m\u001b[0m\n",
            "\u001b[0;31mKeyError\u001b[0m: \"['Label'] not found in axis\""
          ]
        }
      ]
    },
    {
      "source": [
        "from sklearn.linear_model import LogisticRegression\n",
        "from sklearn.model_selection import train_test_split\n",
        "from sklearn.metrics import accuracy_score, precision_score, recall_score, f1_score\n",
        "from sklearn.preprocessing import StandardScaler\n",
        "\n",
        "# Assuming the target column is 'Label' (0 = non-phishing, 1 = phishing)\n",
        "\n",
        "# Select features (X) and target variable (y)\n",
        "# Exclude non-numeric columns like 'Email ID' and 'Timestamp'\n",
        "# 1. Select all columns first, then drop 'Label'\n",
        "X = df_clean.drop(columns=['Label'])  # Remove target column first\n",
        "# 2. Then, select only numeric features from X\n",
        "X = X.select_dtypes(include=['number']) # Select only numeric features\n",
        "\n",
        "y = df_clean['Label']  # Target variable (phishing or not)\n",
        "\n",
        "# Normalize the features (scaling numeric values)\n",
        "scaler = StandardScaler()\n",
        "X_scaled = scaler.fit_transform(X)\n",
        "\n",
        "# Initialize Logistic Regression model\n",
        "model = LogisticRegression()"
      ],
      "cell_type": "code",
      "metadata": {
        "id": "2ScyfHb87mNO"
      },
      "execution_count": 82,
      "outputs": []
    },
    {
      "cell_type": "code",
      "source": [
        "from sklearn.model_selection import GridSearchCV\n",
        "\n",
        "# Define the parameter grid to search over\n",
        "param_grid = {\n",
        "    'C': [0.1, 1, 10],  # Regularization strength\n",
        "    'solver': ['liblinear', 'saga'],  # Solvers for Logistic Regression\n",
        "}\n",
        "\n",
        "# Perform grid search to find the best hyperparameters\n",
        "grid_search = GridSearchCV(LogisticRegression(), param_grid, cv=5, scoring='accuracy')\n",
        "grid_search.fit(X_train, y_train)\n",
        "\n",
        "# Best hyperparameters\n",
        "print(\"Best hyperparameters:\", grid_search.best_params_)\n",
        "\n",
        "# Retrain the model with the best parameters\n",
        "best_model = grid_search.best_estimator_\n",
        "\n",
        "# Evaluate the optimized model\n",
        "y_pred_optimized = best_model.predict(X_test)\n",
        "optimized_accuracy = accuracy_score(y_test, y_pred_optimized)\n",
        "print(f\"Optimized Accuracy: {optimized_accuracy:.4f}\")\n"
      ],
      "metadata": {
        "id": "GZHfPmJc_OM0"
      },
      "execution_count": null,
      "outputs": []
    },
    {
      "cell_type": "code",
      "source": [
        "import pandas as pd\n",
        "import matplotlib.pyplot as plt\n",
        "from sklearn.feature_extraction.text import CountVectorizer\n",
        "\n",
        "# Load your dataset\n",
        "data = pd.read_csv('/content/gdrive/MyDrive/DA/DA Assignment/Phishing_Email_Dataset_Ucl.csv')\n",
        "\n",
        "# Clean data (if necessary)\n",
        "data['Email Body'] = data['Email Body'].fillna('')  # Fill missing values in Email Body\n",
        "\n",
        "\n",
        "data['Email Length'] = data['Email Body'].apply(len)\n",
        "\n",
        "\n",
        "data['Suspicious Keywords Count'] = data['Suspicious Keywords'].apply(lambda x: len(str(x).split(',')))\n",
        "\n",
        "def recommend_action(row):\n",
        "    if row['Suspicious Keywords Count'] > 5 or row['Email Length'] > 1000:\n",
        "        return \"Flag as Potential Phishing\"\n",
        "    else:\n",
        "        return \"Safe\"\n",
        "\n",
        "data['Recommended Action'] = data.apply(recommend_action, axis=1)\n",
        "\n",
        "# Now, let's visualize the results\n",
        "\n",
        "# Plot the distribution of 'Suspicious Keywords Count'\n",
        "plt.figure(figsize=(10, 6))\n",
        "data['Suspicious Keywords Count'].hist(bins=20)\n",
        "plt.title('Distribution of Suspicious Keywords Count')\n",
        "plt.xlabel('Number of Suspicious Keywords')\n",
        "plt.ylabel('Frequency')\n",
        "plt.show()\n",
        "\n",
        "# Check the recommendation results\n",
        "print(data[['Email ID', 'Recommended Action']].head())\n"
      ],
      "metadata": {
        "colab": {
          "base_uri": "https://localhost:8080/",
          "height": 526
        },
        "id": "39V4XoKhOMY-",
        "outputId": "6aec1815-4470-42be-bc30-7d9ef9651dec"
      },
      "execution_count": 100,
      "outputs": [
        {
          "output_type": "display_data",
          "data": {
            "text/plain": [
              "<Figure size 1000x600 with 1 Axes>"
            ],
            "image/png": "[encoded data removed]"
          },
          "metadata": {}
        },
        {
          "output_type": "stream",
          "name": "stdout",
          "text": [
            "                               Email ID Recommended Action\n",
            "0  bd510c2e-e9ea-432c-a171-6a83b79e65d7               Safe\n",
            "1  73dfe436-8485-49f0-9635-8538046c6295               Safe\n",
            "2  2aad94e0-da9b-437c-be61-49667db5d762               Safe\n",
            "3  b4fca1ca-22af-4f15-bfee-e7d7adf159e3               Safe\n",
            "4  4a3461a1-6535-42ce-991d-13adf28b8e52               Safe\n"
          ]
        }
      ]
    },
    {
      "cell_type": "code",
      "source": [
        "# Check a few entries from the 'Timestamp' column to identify any issues\n",
        "print(data['Timestamp'].head(10))\n"
      ],
      "metadata": {
        "colab": {
          "base_uri": "https://localhost:8080/"
        },
        "id": "WzoVR4rIPJ3q",
        "outputId": "8e6b007e-80c3-4b51-f2a2-b9960f21d016"
      },
      "execution_count": 103,
      "outputs": [
        {
          "output_type": "stream",
          "name": "stdout",
          "text": [
            "0    32:22.4\n",
            "1    36:26.4\n",
            "2    06:52.9\n",
            "3    27:21.0\n",
            "4    34:03.8\n",
            "5    39:57.6\n",
            "6    56:21.2\n",
            "7    58:41.8\n",
            "8    39:09.7\n",
            "9    06:08.4\n",
            "Name: Timestamp, dtype: object\n"
          ]
        }
      ]
    },
    {
      "cell_type": "code",
      "source": [
        "# Convert 'Timestamp' with error handling\n",
        "data['Timestamp'] = pd.to_datetime(data['Timestamp'], errors='coerce')\n",
        "\n",
        "# Check the data again for invalid entries (NaT)\n",
        "print(data[data['Timestamp'].isna()])\n"
      ],
      "metadata": {
        "colab": {
          "base_uri": "https://localhost:8080/"
        },
        "id": "bdK02lzTPRpz",
        "outputId": "163c282a-cfb2-4c41-d2e0-cccb16e4232a"
      },
      "execution_count": 104,
      "outputs": [
        {
          "output_type": "stream",
          "name": "stdout",
          "text": [
            "                                 Email ID Timestamp           Sender Email  \\\n",
            "0    bd510c2e-e9ea-432c-a171-6a83b79e65d7       NaT  otyler@protonmail.com   \n",
            "1    73dfe436-8485-49f0-9635-8538046c6295       NaT   nicole77@outlook.com   \n",
            "3    b4fca1ca-22af-4f15-bfee-e7d7adf159e3       NaT   mathissean@yahoo.com   \n",
            "4    4a3461a1-6535-42ce-991d-13adf28b8e52       NaT   morrishannah@aol.com   \n",
            "5    f4373fcd-1693-42c8-9825-7e64eafb821a       NaT  julieweaver@yahoo.com   \n",
            "..                                    ...       ...                    ...   \n",
            "515  b0496a00-6e27-4be8-8392-c465563ed515       NaT       vramos@yahoo.com   \n",
            "516  809006be-3f95-48ee-81a9-2aa2275a7aa3       NaT       john14@gmail.com   \n",
            "517  a80a4348-12a1-43b1-863d-c0dae4ff8930       NaT  nancymiller@yahoo.com   \n",
            "518  1d9f5a3b-9cac-4932-b3ab-3e963a1998cb       NaT      fjones@icloud.com   \n",
            "519  5c76c0e3-0deb-4d2e-b07f-e8c6c398cde9       NaT   matthew36@icloud.com   \n",
            "\n",
            "                    Recipient Email  \\\n",
            "0          sarahkemp@protonmail.com   \n",
            "1                  pkelly@yahoo.com   \n",
            "3             patrickgarcia@aol.com   \n",
            "4                vchavez@icloud.com   \n",
            "5                 jocelyn17@aol.com   \n",
            "..                              ...   \n",
            "515          geraldfranco@yahoo.com   \n",
            "516          roachbryan@outlook.com   \n",
            "517               yyoung@icloud.com   \n",
            "518     melissawilliams@outlook.com   \n",
            "519  goodwinpatricia@protonmail.com   \n",
            "\n",
            "                                               Subject  \\\n",
            "0         National man although for sell thought star.   \n",
            "1          World matter eat year agent soldier energy.   \n",
            "3               Night show either various group young.   \n",
            "4                                                Error   \n",
            "5                        Level maybe top defense seem.   \n",
            "..                                                 ...   \n",
            "515                  Discover continue him last front.   \n",
            "516                   Lose than attack fill item term.   \n",
            "517                   Safe beautiful and degree truth.   \n",
            "518  Throughout approach blue modern attention forg...   \n",
            "519    Final will themselves board kitchen whole game.   \n",
            "\n",
            "                                            Email Body       Label  \\\n",
            "0    Indeed government born happen. Realize last be...  Legitimate   \n",
            "1    Over treatment agree contain style. Hospital c...    Phishing   \n",
            "3    Discuss offer method. Memory while make. Amoun...    Phishing   \n",
            "4    Movie kitchen health kind which policy. Civil ...    Phishing   \n",
            "5    Role action home little. Agreement environment...    Phishing   \n",
            "..                                                 ...         ...   \n",
            "515  Century determine family evidence. Operation t...  Legitimate   \n",
            "516  Security around generation we effect televisio...  Legitimate   \n",
            "517  Later food four Mrs mother bit. Member office ...  Legitimate   \n",
            "518  Claim president star individual. Skin help mem...    Phishing   \n",
            "519  Simple force community but growth. Impact stil...    Phishing   \n",
            "\n",
            "          IP Address             Location   Sender Domain Recipient Domain  \\\n",
            "0    208.190.144.153             Juantown  protonmail.com   protonmail.com   \n",
            "1        8.210.9.207           New Justin     outlook.com        yahoo.com   \n",
            "3       213.99.88.75       East Andreaton       yahoo.com          aol.com   \n",
            "4     90.196.229.178  South Elizabethbury         aol.com       icloud.com   \n",
            "5     100.49.171.174           Taylorport       yahoo.com          aol.com   \n",
            "..               ...                  ...             ...              ...   \n",
            "515  105.223.197.171    North Kathrynstad       yahoo.com        yahoo.com   \n",
            "516              NaN           Thomasfort       gmail.com      outlook.com   \n",
            "517    18.30.171.211        Williamshaven       yahoo.com       icloud.com   \n",
            "518   106.153.221.10     North Darinville      icloud.com      outlook.com   \n",
            "519   64.195.116.203             Johnfurt      icloud.com   protonmail.com   \n",
            "\n",
            "     Email Length Attachments Link Count        Suspicious Keywords  \\\n",
            "0              96           2          6              click, urgent   \n",
            "1             222           1          4              click, secure   \n",
            "3             119           2          0            account, update   \n",
            "4             132           2          7             urgent, verify   \n",
            "5             218           2          3   verify, secure, password   \n",
            "..            ...         ...        ...                        ...   \n",
            "515           236           0          9      click, urgent, update   \n",
            "516           131           2          7     secure, account, click   \n",
            "517           186           2          2            update, account   \n",
            "518           133           3          4                    account   \n",
            "519           247           2          7  password, confirm, update   \n",
            "\n",
            "         Sector  Suspicious Keywords Count Recommended Action  \n",
            "0    Healthcare                          2               Safe  \n",
            "1        Retail                          2               Safe  \n",
            "3        Retail                          2               Safe  \n",
            "4        Retail                          2               Safe  \n",
            "5    Healthcare                          3               Safe  \n",
            "..          ...                        ...                ...  \n",
            "515      Retail                          3               Safe  \n",
            "516      Retail                          3               Safe  \n",
            "517      Retail                          2               Safe  \n",
            "518  Healthcare                          1               Safe  \n",
            "519  Healthcare                          3               Safe  \n",
            "\n",
            "[334 rows x 18 columns]\n"
          ]
        }
      ]
    },
    {
      "cell_type": "code",
      "source": [
        "# Drop rows with invalid timestamps\n",
        "data = data.dropna(subset=['Timestamp'])\n"
      ],
      "metadata": {
        "id": "ZksrKORWPUao"
      },
      "execution_count": 105,
      "outputs": []
    },
    {
      "cell_type": "code",
      "source": [
        "# Now proceed with your analysis\n",
        "data['hour'] = data['Timestamp'].dt.hour\n",
        "hourly_counts = data['hour'].value_counts(normalize=True).sort_index()\n",
        "\n",
        "# Simulate phishing attacks based on the hourly distribution\n",
        "phishing_times = np.random.choice(hourly_counts.index, size=100, p=hourly_counts.values)\n",
        "\n",
        "# Visualization\n",
        "plt.figure(figsize=(10, 6))\n",
        "plt.hist(phishing_times, bins=np.arange(24), edgecolor='black', alpha=0.7)\n",
        "plt.title('Simulated Phishing Attacks by Hour')\n",
        "plt.xlabel('Hour of Day')\n",
        "plt.ylabel('Number of Phishing Attacks')\n",
        "plt.xticks(np.arange(0, 24))\n",
        "plt.show()\n"
      ],
      "metadata": {
        "colab": {
          "base_uri": "https://localhost:8080/",
          "height": 426
        },
        "id": "e-d_FF9vPWz9",
        "outputId": "c4efb18c-ab80-42e1-c956-636813cc91aa"
      },
      "execution_count": 106,
      "outputs": [
        {
          "output_type": "display_data",
          "data": {
            "text/plain": [
              "<Figure size 1000x600 with 1 Axes>"
            ],
            "image/png": "[encoded data removed]"
          },
          "metadata": {}
        }
      ]
    }
  ],
  "metadata": {
    "colab": {
      "provenance": []
    },
    "kernelspec": {
      "display_name": "Python 3",
      "name": "python3"
    },
    "language_info": {
      "name": "python"
    }
  },
  "nbformat": 4,
  "nbformat_minor": 0
}